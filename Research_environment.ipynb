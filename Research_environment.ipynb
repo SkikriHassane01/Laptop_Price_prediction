{
 "cells": [
  {
   "cell_type": "markdown",
   "metadata": {},
   "source": [
    "# Introduction \n",
    "\n",
    "This project aims to predict the price of an unknown laptop using the Laptop Price Dataset from Kaggle.\n",
    "\n",
    "**The dataset contains 12 columns:**\n",
    "\n",
    "1. Company- String -Laptop Manufacturer\n",
    "\n",
    "2. Product -String -Brand and Model\n",
    "\n",
    "3. TypeName -String -Type (Notebook, Ultrabook, Gaming, etc.)\n",
    "\n",
    "4. Inches -Numeric- Screen Size\n",
    "\n",
    "5. ScreenResolution -String- Screen Resolution\n",
    "\n",
    "6. Cpu- String -Central Processing Unit (CPU)\n",
    "\n",
    "7. Ram -String- Laptop RAM\n",
    "\n",
    "8. Memory -String- Hard Disk / SSD Memory\n",
    "\n",
    "9. GPU -String- Graphics Processing Units (GPU)\n",
    "\n",
    "10. OpSys -String- Operating System\n",
    "\n",
    "11. Weight -String- Laptop Weight\n",
    "\n",
    "12. Price_euros -Numeric- Price (Euro)"
   ]
  },
  {
   "cell_type": "markdown",
   "metadata": {},
   "source": [
    "# Outline\n",
    "\n",
    "- import libraries \n",
    "\n",
    "- Data Cleaning \n",
    "\n",
    "- EDA\n",
    "\n",
    "- Feature Engineering\n",
    "\n",
    "- Modeling + Optimization \n",
    "\n",
    "- Results Summary\n"
   ]
  },
  {
   "cell_type": "markdown",
   "metadata": {},
   "source": [
    "# Import libraries "
   ]
  },
  {
   "cell_type": "code",
   "execution_count": 2,
   "metadata": {},
   "outputs": [
    {
     "data": {
      "text/plain": [
       "<Figure size 640x480 with 0 Axes>"
      ]
     },
     "metadata": {},
     "output_type": "display_data"
    }
   ],
   "source": [
    "# ignore the warnings \n",
    "import warnings\n",
    "warnings.filterwarnings(\"ignore\")\n",
    "\n",
    "# importing the libraries\n",
    "import numpy as np\n",
    "import pandas as pd \n",
    "import matplotlib.pyplot as plt\n",
    "import seaborn as sns\n",
    "import scipy.stats as sts \n",
    "\n",
    "\n",
    "# Customizing matplotlib and seaborn Plots\n",
    "sns.set_style(\"whitegrid\")\n",
    "sns.despine()\n",
    "\n",
    "plt.style.use(\"ggplot\") # you can use ggplot also \n",
    "plt.rc(\"figure\", autolayout=True)\n",
    "plt.rc(\"axes\", labelweight=\"bold\", labelsize=\"large\", titleweight=\"bold\", titlesize=16, titlepad=10)\n",
    "\n",
    "from sklearn.base import BaseEstimator, TransformerMixin\n",
    "from sklearn.compose import ColumnTransformer\n",
    "from sklearn.pipeline import Pipeline\n",
    "from sklearn.model_selection import train_test_split \n",
    "\n",
    "from sklearn.preprocessing import OneHotEncoder, OrdinalEncoder, StandardScaler\n",
    "from category_encoders import TargetEncoder\n",
    "\n",
    "# modeling \n",
    "from sklearn.linear_model import LinearRegression,Lasso, Ridge\n",
    "from sklearn.ensemble import RandomForestRegressor, GradientBoostingRegressor\n",
    "from sklearn.svm import SVR\n",
    "from xgboost import XGBRegressor\n",
    "\n",
    "import optuna\n",
    "from xgboost.callback import EarlyStopping\n",
    "\n",
    "from sklearn.metrics import mean_squared_error\n",
    "from sklearn.metrics import r2_score\n",
    "\n",
    "import regex as re\n",
    "\n",
    "seed = 10000"
   ]
  },
  {
   "cell_type": "code",
   "execution_count": 3,
   "metadata": {},
   "outputs": [
    {
     "data": {
      "text/html": [
       "<div>\n",
       "<style scoped>\n",
       "    .dataframe tbody tr th:only-of-type {\n",
       "        vertical-align: middle;\n",
       "    }\n",
       "\n",
       "    .dataframe tbody tr th {\n",
       "        vertical-align: top;\n",
       "    }\n",
       "\n",
       "    .dataframe thead th {\n",
       "        text-align: right;\n",
       "    }\n",
       "</style>\n",
       "<table border=\"1\" class=\"dataframe\">\n",
       "  <thead>\n",
       "    <tr style=\"text-align: right;\">\n",
       "      <th></th>\n",
       "      <th>laptop_ID</th>\n",
       "      <th>Company</th>\n",
       "      <th>Product</th>\n",
       "      <th>TypeName</th>\n",
       "      <th>Inches</th>\n",
       "      <th>ScreenResolution</th>\n",
       "      <th>Cpu</th>\n",
       "      <th>Ram</th>\n",
       "      <th>Memory</th>\n",
       "      <th>Gpu</th>\n",
       "      <th>OpSys</th>\n",
       "      <th>Weight</th>\n",
       "      <th>Price_euros</th>\n",
       "    </tr>\n",
       "  </thead>\n",
       "  <tbody>\n",
       "    <tr>\n",
       "      <th>0</th>\n",
       "      <td>1</td>\n",
       "      <td>Apple</td>\n",
       "      <td>MacBook Pro</td>\n",
       "      <td>Ultrabook</td>\n",
       "      <td>13.3</td>\n",
       "      <td>IPS Panel Retina Display 2560x1600</td>\n",
       "      <td>Intel Core i5 2.3GHz</td>\n",
       "      <td>8GB</td>\n",
       "      <td>128GB SSD</td>\n",
       "      <td>Intel Iris Plus Graphics 640</td>\n",
       "      <td>macOS</td>\n",
       "      <td>1.37kg</td>\n",
       "      <td>1339.69</td>\n",
       "    </tr>\n",
       "    <tr>\n",
       "      <th>1</th>\n",
       "      <td>2</td>\n",
       "      <td>Apple</td>\n",
       "      <td>Macbook Air</td>\n",
       "      <td>Ultrabook</td>\n",
       "      <td>13.3</td>\n",
       "      <td>1440x900</td>\n",
       "      <td>Intel Core i5 1.8GHz</td>\n",
       "      <td>8GB</td>\n",
       "      <td>128GB Flash Storage</td>\n",
       "      <td>Intel HD Graphics 6000</td>\n",
       "      <td>macOS</td>\n",
       "      <td>1.34kg</td>\n",
       "      <td>898.94</td>\n",
       "    </tr>\n",
       "  </tbody>\n",
       "</table>\n",
       "</div>"
      ],
      "text/plain": [
       "   laptop_ID Company      Product   TypeName  Inches  \\\n",
       "0          1   Apple  MacBook Pro  Ultrabook    13.3   \n",
       "1          2   Apple  Macbook Air  Ultrabook    13.3   \n",
       "\n",
       "                     ScreenResolution                   Cpu  Ram  \\\n",
       "0  IPS Panel Retina Display 2560x1600  Intel Core i5 2.3GHz  8GB   \n",
       "1                            1440x900  Intel Core i5 1.8GHz  8GB   \n",
       "\n",
       "                Memory                           Gpu  OpSys  Weight  \\\n",
       "0            128GB SSD  Intel Iris Plus Graphics 640  macOS  1.37kg   \n",
       "1  128GB Flash Storage        Intel HD Graphics 6000  macOS  1.34kg   \n",
       "\n",
       "   Price_euros  \n",
       "0      1339.69  \n",
       "1       898.94  "
      ]
     },
     "execution_count": 3,
     "metadata": {},
     "output_type": "execute_result"
    }
   ],
   "source": [
    "# load the dataset\n",
    "path = \"laptop_price.csv\"\n",
    "df = pd.read_csv(path, encoding = \"ISO-8859-1\")\n",
    "df.head(2)"
   ]
  },
  {
   "cell_type": "code",
   "execution_count": 4,
   "metadata": {},
   "outputs": [
    {
     "name": "stdout",
     "output_type": "stream",
     "text": [
      "The number of columns are: 13 and the number of rows are: 1303\n"
     ]
    }
   ],
   "source": [
    "num_rows = df.shape[0] \n",
    "num_cols = df.shape[1]\n",
    "\n",
    "print(f\"The number of columns are: {num_cols} and the number of rows are: {num_rows}\")"
   ]
  },
  {
   "cell_type": "code",
   "execution_count": 5,
   "metadata": {},
   "outputs": [
    {
     "name": "stdout",
     "output_type": "stream",
     "text": [
      "<class 'pandas.core.frame.DataFrame'>\n",
      "RangeIndex: 1303 entries, 0 to 1302\n",
      "Data columns (total 13 columns):\n",
      " #   Column            Non-Null Count  Dtype  \n",
      "---  ------            --------------  -----  \n",
      " 0   laptop_ID         1303 non-null   int64  \n",
      " 1   Company           1303 non-null   object \n",
      " 2   Product           1303 non-null   object \n",
      " 3   TypeName          1303 non-null   object \n",
      " 4   Inches            1303 non-null   float64\n",
      " 5   ScreenResolution  1303 non-null   object \n",
      " 6   Cpu               1303 non-null   object \n",
      " 7   Ram               1303 non-null   object \n",
      " 8   Memory            1303 non-null   object \n",
      " 9   Gpu               1303 non-null   object \n",
      " 10  OpSys             1303 non-null   object \n",
      " 11  Weight            1303 non-null   object \n",
      " 12  Price_euros       1303 non-null   float64\n",
      "dtypes: float64(2), int64(1), object(10)\n",
      "memory usage: 132.5+ KB\n"
     ]
    }
   ],
   "source": [
    "df.info()"
   ]
  },
  {
   "cell_type": "markdown",
   "metadata": {},
   "source": [
    "- We have two numerical columns and all the others are categorical so we need to encode them "
   ]
  },
  {
   "cell_type": "code",
   "execution_count": 6,
   "metadata": {},
   "outputs": [
    {
     "name": "stdout",
     "output_type": "stream",
     "text": [
      "['laptop_ID', 'Inches', 'Price_euros']\n",
      "['Company', 'Product', 'TypeName', 'ScreenResolution', 'Cpu', 'Ram', 'Memory', 'Gpu', 'OpSys', 'Weight']\n",
      "13\n"
     ]
    }
   ],
   "source": [
    "numerical_cols = df.select_dtypes(include = np.number).columns.to_list()\n",
    "categorical_cols = [col for col in df.columns if col not in numerical_cols]\n",
    "print(numerical_cols)\n",
    "print(categorical_cols)\n",
    "print(len(numerical_cols + categorical_cols))"
   ]
  },
  {
   "cell_type": "code",
   "execution_count": 7,
   "metadata": {},
   "outputs": [
    {
     "data": {
      "text/html": [
       "<div>\n",
       "<style scoped>\n",
       "    .dataframe tbody tr th:only-of-type {\n",
       "        vertical-align: middle;\n",
       "    }\n",
       "\n",
       "    .dataframe tbody tr th {\n",
       "        vertical-align: top;\n",
       "    }\n",
       "\n",
       "    .dataframe thead th {\n",
       "        text-align: right;\n",
       "    }\n",
       "</style>\n",
       "<table border=\"1\" class=\"dataframe\">\n",
       "  <thead>\n",
       "    <tr style=\"text-align: right;\">\n",
       "      <th></th>\n",
       "      <th>laptop_ID</th>\n",
       "      <th>Inches</th>\n",
       "      <th>Price_euros</th>\n",
       "    </tr>\n",
       "  </thead>\n",
       "  <tbody>\n",
       "    <tr>\n",
       "      <th>count</th>\n",
       "      <td>1303.000000</td>\n",
       "      <td>1303.000000</td>\n",
       "      <td>1303.000000</td>\n",
       "    </tr>\n",
       "    <tr>\n",
       "      <th>mean</th>\n",
       "      <td>660.155794</td>\n",
       "      <td>15.017191</td>\n",
       "      <td>1123.686992</td>\n",
       "    </tr>\n",
       "    <tr>\n",
       "      <th>std</th>\n",
       "      <td>381.172104</td>\n",
       "      <td>1.426304</td>\n",
       "      <td>699.009043</td>\n",
       "    </tr>\n",
       "    <tr>\n",
       "      <th>min</th>\n",
       "      <td>1.000000</td>\n",
       "      <td>10.100000</td>\n",
       "      <td>174.000000</td>\n",
       "    </tr>\n",
       "    <tr>\n",
       "      <th>25%</th>\n",
       "      <td>331.500000</td>\n",
       "      <td>14.000000</td>\n",
       "      <td>599.000000</td>\n",
       "    </tr>\n",
       "    <tr>\n",
       "      <th>50%</th>\n",
       "      <td>659.000000</td>\n",
       "      <td>15.600000</td>\n",
       "      <td>977.000000</td>\n",
       "    </tr>\n",
       "    <tr>\n",
       "      <th>75%</th>\n",
       "      <td>990.500000</td>\n",
       "      <td>15.600000</td>\n",
       "      <td>1487.880000</td>\n",
       "    </tr>\n",
       "    <tr>\n",
       "      <th>max</th>\n",
       "      <td>1320.000000</td>\n",
       "      <td>18.400000</td>\n",
       "      <td>6099.000000</td>\n",
       "    </tr>\n",
       "  </tbody>\n",
       "</table>\n",
       "</div>"
      ],
      "text/plain": [
       "         laptop_ID       Inches  Price_euros\n",
       "count  1303.000000  1303.000000  1303.000000\n",
       "mean    660.155794    15.017191  1123.686992\n",
       "std     381.172104     1.426304   699.009043\n",
       "min       1.000000    10.100000   174.000000\n",
       "25%     331.500000    14.000000   599.000000\n",
       "50%     659.000000    15.600000   977.000000\n",
       "75%     990.500000    15.600000  1487.880000\n",
       "max    1320.000000    18.400000  6099.000000"
      ]
     },
     "execution_count": 7,
     "metadata": {},
     "output_type": "execute_result"
    }
   ],
   "source": [
    "df.describe()"
   ]
  },
  {
   "cell_type": "markdown",
   "metadata": {},
   "source": [
    "# Data Cleaning"
   ]
  },
  {
   "cell_type": "code",
   "execution_count": 8,
   "metadata": {},
   "outputs": [],
   "source": [
    "# the laptop_ID have no effect on the our target so let's drop it \n",
    "df = df.drop(columns=['laptop_ID'])"
   ]
  },
  {
   "cell_type": "code",
   "execution_count": 9,
   "metadata": {},
   "outputs": [],
   "source": [
    "# let's rename the price_euros column ot price for simplicity\n",
    "df = df.rename(columns={'Price_euros':'price'})"
   ]
  },
  {
   "cell_type": "code",
   "execution_count": 10,
   "metadata": {},
   "outputs": [],
   "source": [
    "target = df['price']"
   ]
  },
  {
   "cell_type": "markdown",
   "metadata": {},
   "source": [
    "#### Check duplicates"
   ]
  },
  {
   "cell_type": "code",
   "execution_count": 11,
   "metadata": {},
   "outputs": [
    {
     "name": "stdout",
     "output_type": "stream",
     "text": [
      "28\n",
      "0\n"
     ]
    }
   ],
   "source": [
    "print(df.duplicated().sum())\n",
    "df = df.drop_duplicates(keep='first')\n",
    "print(df.duplicated().sum())"
   ]
  },
  {
   "cell_type": "markdown",
   "metadata": {},
   "source": [
    "#### Check for missing values "
   ]
  },
  {
   "cell_type": "code",
   "execution_count": 12,
   "metadata": {},
   "outputs": [
    {
     "data": {
      "text/plain": [
       "Company             0\n",
       "Product             0\n",
       "TypeName            0\n",
       "Inches              0\n",
       "ScreenResolution    0\n",
       "Cpu                 0\n",
       "Ram                 0\n",
       "Memory              0\n",
       "Gpu                 0\n",
       "OpSys               0\n",
       "Weight              0\n",
       "price               0\n",
       "dtype: int64"
      ]
     },
     "execution_count": 12,
     "metadata": {},
     "output_type": "execute_result"
    }
   ],
   "source": [
    "df.isnull().sum()"
   ]
  },
  {
   "cell_type": "markdown",
   "metadata": {},
   "source": [
    "# EDA"
   ]
  },
  {
   "cell_type": "code",
   "execution_count": 13,
   "metadata": {},
   "outputs": [],
   "source": [
    "# nice function that return nice plot, so let's create it \n",
    "\n",
    "# for numerical columns\n",
    "def NumPlot(df, col, title):\n",
    "\n",
    "    fig, ax = plt.subplots(2,1,figsize=(8,6),sharex=True)\n",
    "    ax[0].set_title(title,fontsize=18)\n",
    "    sns.boxplot(x=col,\n",
    "                data=df,\n",
    "                palette='Set2',\n",
    "                ax=ax[0])\n",
    "    ax[0].set(yticks=[])\n",
    "    sns.histplot(x=col, data=df, ax=ax[1])\n",
    "    ax[1].set_xlabel(col, fontsize=16)  \n",
    "    plt.axvline(df[col].mean(), color='darkgreen', linewidth=2.2, label='mean=' + str(np.round(df[col].mean(),1)))\n",
    "    plt.axvline(df[col].median(), color='red', linewidth=2.2, label='median='+ str(np.round(df[col].median(),1)))\n",
    "    plt.axvline(df[col].mode()[0], color='purple', linewidth=2.2, label='mode='+ str(df[col].mode()[0]))\n",
    "    plt.legend(bbox_to_anchor=(1, 1.03), ncol=1, fontsize=17, fancybox=True, shadow=True, frameon=True)\n",
    "    plt.tight_layout()\n",
    "    plt.show()\n",
    "\n",
    "\n",
    "\n",
    "# For categorical columns \n",
    "def CatPlot(df, col, title):\n",
    "    fig, ax = plt.subplots(figsize=(8,6))\n",
    "    ax = sns.countplot(x=col,\n",
    "                    data = df,\n",
    "                    palette='Set2',\n",
    "                    order=df[col].value_counts().index)\n",
    "    ax.set_xticklabels(ax.get_xticklabels(), rotation = 40)\n",
    "\n",
    "    for container in ax.containers:\n",
    "        ax.bar_label(container)\n",
    "\n",
    "    plt.title(title,fontsize=17)\n",
    "    plt.xlabel(col,fontsize=13)\n",
    "    plt.ylabel('Count',fontsize=13)\n",
    "\n",
    "    plt.show()\n"
   ]
  },
  {
   "cell_type": "markdown",
   "metadata": {},
   "source": [
    "### Check the number of unique values in each col"
   ]
  },
  {
   "cell_type": "code",
   "execution_count": 14,
   "metadata": {},
   "outputs": [
    {
     "name": "stdout",
     "output_type": "stream",
     "text": [
      "Company : 19\n",
      "Product : 618\n",
      "TypeName : 6\n",
      "Inches : 18\n",
      "ScreenResolution : 40\n",
      "Cpu : 118\n",
      "Ram : 9\n",
      "Memory : 39\n",
      "Gpu : 110\n",
      "OpSys : 9\n",
      "Weight : 179\n",
      "price : 791\n"
     ]
    }
   ],
   "source": [
    "for col in df.columns:\n",
    "    num = df[col].nunique()\n",
    "    print(f\"{col} : {num}\")\n"
   ]
  },
  {
   "cell_type": "markdown",
   "metadata": {},
   "source": [
    "### Company Columns"
   ]
  },
  {
   "cell_type": "code",
   "execution_count": 15,
   "metadata": {},
   "outputs": [
    {
     "data": {
      "text/plain": [
       "0    Apple\n",
       "1    Apple\n",
       "2       HP\n",
       "3    Apple\n",
       "4    Apple\n",
       "Name: Company, dtype: object"
      ]
     },
     "execution_count": 15,
     "metadata": {},
     "output_type": "execute_result"
    }
   ],
   "source": [
    "df['Company'].head()"
   ]
  },
  {
   "cell_type": "code",
   "execution_count": 16,
   "metadata": {},
   "outputs": [
    {
     "data": {
      "image/png": "[encoded data removed]",
      "text/plain": [
       "<Figure size 800x600 with 1 Axes>"
      ]
     },
     "metadata": {},
     "output_type": "display_data"
    }
   ],
   "source": [
    "CatPlot(df,'Company','Company Distribution')"
   ]
  },
  {
   "cell_type": "markdown",
   "metadata": {},
   "source": [
    "#### Results : \n",
    "- The encoding that we will apply on this column is **One hot encoding**\n",
    "- The distribution is **skewed to the left**"
   ]
  },
  {
   "cell_type": "markdown",
   "metadata": {},
   "source": [
    "### Product Columns"
   ]
  },
  {
   "cell_type": "code",
   "execution_count": 17,
   "metadata": {},
   "outputs": [
    {
     "data": {
      "text/plain": [
       "['MacBook Pro',\n",
       " 'Macbook Air',\n",
       " '250 G6',\n",
       " 'Aspire 3',\n",
       " 'ZenBook UX430UN',\n",
       " 'Swift 3',\n",
       " 'Inspiron 3567',\n",
       " 'MacBook 12\"',\n",
       " 'IdeaPad 320-15IKB',\n",
       " 'XPS 13']"
      ]
     },
     "execution_count": 17,
     "metadata": {},
     "output_type": "execute_result"
    }
   ],
   "source": [
    "df['Product'].unique().tolist()[:10]"
   ]
  },
  {
   "cell_type": "markdown",
   "metadata": {},
   "source": [
    "- This column has a lot of unique values about 618 values, it represents a hight-cardinality categorical variable so the best way to handle it is **Target Encoding**"
   ]
  },
  {
   "cell_type": "markdown",
   "metadata": {},
   "source": [
    "### TypeName Column"
   ]
  },
  {
   "cell_type": "code",
   "execution_count": 18,
   "metadata": {},
   "outputs": [
    {
     "data": {
      "text/plain": [
       "0    Ultrabook\n",
       "1    Ultrabook\n",
       "2     Notebook\n",
       "3    Ultrabook\n",
       "4    Ultrabook\n",
       "Name: TypeName, dtype: object"
      ]
     },
     "execution_count": 18,
     "metadata": {},
     "output_type": "execute_result"
    }
   ],
   "source": [
    "df['TypeName'].head()"
   ]
  },
  {
   "cell_type": "code",
   "execution_count": 19,
   "metadata": {},
   "outputs": [
    {
     "data": {
      "image/png": "[encoded data removed]",
      "text/plain": [
       "<Figure size 800x600 with 1 Axes>"
      ]
     },
     "metadata": {},
     "output_type": "display_data"
    }
   ],
   "source": [
    "CatPlot(df,'TypeName','Type Name Distribution')\n",
    "\n",
    "plt.show()"
   ]
  },
  {
   "cell_type": "markdown",
   "metadata": {},
   "source": [
    "- We have just 6 unique values without any order so the best practice is **One-hot encoding technique**"
   ]
  },
  {
   "cell_type": "markdown",
   "metadata": {},
   "source": [
    "### Inches Column"
   ]
  },
  {
   "cell_type": "code",
   "execution_count": 20,
   "metadata": {},
   "outputs": [
    {
     "data": {
      "text/plain": [
       "array([13.3, 15.6, 15.4, 14. , 12. , 11.6, 17.3, 10.1, 13.5, 12.5, 13. ,\n",
       "       18.4, 13.9, 12.3, 17. , 15. , 14.1, 11.3])"
      ]
     },
     "execution_count": 20,
     "metadata": {},
     "output_type": "execute_result"
    }
   ],
   "source": [
    "df['Inches'].unique()"
   ]
  },
  {
   "cell_type": "code",
   "execution_count": 21,
   "metadata": {},
   "outputs": [
    {
     "data": {
      "image/png": "[encoded data removed]",
      "text/plain": [
       "<Figure size 800x600 with 2 Axes>"
      ]
     },
     "metadata": {},
     "output_type": "display_data"
    }
   ],
   "source": [
    "NumPlot(df,'Inches','Inches Distribution')"
   ]
  },
  {
   "cell_type": "markdown",
   "metadata": {},
   "source": [
    "### ScreenResolution Column"
   ]
  },
  {
   "cell_type": "code",
   "execution_count": 22,
   "metadata": {},
   "outputs": [
    {
     "data": {
      "text/plain": [
       "0    IPS Panel Retina Display 2560x1600\n",
       "1                              1440x900\n",
       "2                     Full HD 1920x1080\n",
       "3    IPS Panel Retina Display 2880x1800\n",
       "4    IPS Panel Retina Display 2560x1600\n",
       "Name: ScreenResolution, dtype: object"
      ]
     },
     "execution_count": 22,
     "metadata": {},
     "output_type": "execute_result"
    }
   ],
   "source": [
    "df['ScreenResolution'].head()"
   ]
  },
  {
   "cell_type": "markdown",
   "metadata": {},
   "source": [
    "- here we have 40 unique values \n",
    "- we can extract more columns form here \n",
    "- **touchScreen** \n",
    "- **Resolution**\n",
    "- after that wi will remove the **ScreenResolution** column and encode the **Resolution** column\n"
   ]
  },
  {
   "cell_type": "markdown",
   "metadata": {},
   "source": [
    "### Cpu Column\t"
   ]
  },
  {
   "cell_type": "code",
   "execution_count": 23,
   "metadata": {},
   "outputs": [
    {
     "data": {
      "text/plain": [
       "['Intel Core i5 2.3GHz',\n",
       " 'Intel Core i5 1.8GHz',\n",
       " 'Intel Core i5 7200U 2.5GHz',\n",
       " 'Intel Core i7 2.7GHz',\n",
       " 'Intel Core i5 3.1GHz',\n",
       " 'AMD A9-Series 9420 3GHz',\n",
       " 'Intel Core i7 2.2GHz',\n",
       " 'Intel Core i7 8550U 1.8GHz',\n",
       " 'Intel Core i5 8250U 1.6GHz',\n",
       " 'Intel Core i3 6006U 2GHz']"
      ]
     },
     "execution_count": 23,
     "metadata": {},
     "output_type": "execute_result"
    }
   ],
   "source": [
    "df['Cpu'].unique().tolist()[:10]"
   ]
  },
  {
   "cell_type": "markdown",
   "metadata": {},
   "source": [
    "- we can create a new feature from this one \n",
    "- **The cpu frequency** at the end GHz the remove the `GHz` string then convert the column into float data type\n",
    "- then we will remove this part and we can perform the target encoding on one hot encoding to it."
   ]
  },
  {
   "cell_type": "markdown",
   "metadata": {},
   "source": [
    "### RAM column"
   ]
  },
  {
   "cell_type": "code",
   "execution_count": 24,
   "metadata": {},
   "outputs": [
    {
     "data": {
      "text/plain": [
       "array(['8GB', '16GB', '4GB', '2GB', '12GB', '6GB', '32GB', '24GB', '64GB'],\n",
       "      dtype=object)"
      ]
     },
     "execution_count": 24,
     "metadata": {},
     "output_type": "execute_result"
    }
   ],
   "source": [
    "df['Ram'].unique()"
   ]
  },
  {
   "cell_type": "code",
   "execution_count": 25,
   "metadata": {},
   "outputs": [
    {
     "data": {
      "image/png": "[encoded data removed]",
      "text/plain": [
       "<Figure size 800x600 with 1 Axes>"
      ]
     },
     "metadata": {},
     "output_type": "display_data"
    }
   ],
   "source": [
    "CatPlot(df,'Ram','Ram Distribution')"
   ]
  },
  {
   "cell_type": "markdown",
   "metadata": {},
   "source": [
    "- we have just 6 unique values so the best is to remove the `GB` String and convert the column into float data type "
   ]
  },
  {
   "cell_type": "markdown",
   "metadata": {},
   "source": [
    "### Memory column"
   ]
  },
  {
   "cell_type": "code",
   "execution_count": 26,
   "metadata": {},
   "outputs": [
    {
     "data": {
      "text/plain": [
       "array(['128GB SSD', '128GB Flash Storage', '256GB SSD', '512GB SSD',\n",
       "       '500GB HDD', '256GB Flash Storage', '1TB HDD',\n",
       "       '32GB Flash Storage', '128GB SSD +  1TB HDD',\n",
       "       '256GB SSD +  256GB SSD', '64GB Flash Storage',\n",
       "       '256GB SSD +  1TB HDD', '256GB SSD +  2TB HDD', '32GB SSD',\n",
       "       '2TB HDD', '64GB SSD', '1.0TB Hybrid', '512GB SSD +  1TB HDD',\n",
       "       '1TB SSD', '256GB SSD +  500GB HDD', '128GB SSD +  2TB HDD',\n",
       "       '512GB SSD +  512GB SSD', '16GB SSD', '16GB Flash Storage',\n",
       "       '512GB SSD +  256GB SSD', '512GB SSD +  2TB HDD',\n",
       "       '64GB Flash Storage +  1TB HDD', '180GB SSD', '1TB HDD +  1TB HDD',\n",
       "       '32GB HDD', '1TB SSD +  1TB HDD', '512GB Flash Storage',\n",
       "       '128GB HDD', '240GB SSD', '8GB SSD', '508GB Hybrid', '1.0TB HDD',\n",
       "       '512GB SSD +  1.0TB Hybrid', '256GB SSD +  1.0TB Hybrid'],\n",
       "      dtype=object)"
      ]
     },
     "execution_count": 26,
     "metadata": {},
     "output_type": "execute_result"
    }
   ],
   "source": [
    "df['Memory'].unique()"
   ]
  },
  {
   "cell_type": "markdown",
   "metadata": {},
   "source": [
    "- there are 39 unique values \n",
    "- we will create a new features and because some rows has two num of hard drives we will create 4 columns\n",
    "\n",
    "- **storage of disk**: \n",
    "- **type of disk**: `SSD` `HDD` `Flash Storage` `Hybrid`\n",
    "\n",
    "- apply this for the two disks\n",
    "\n",
    "\n"
   ]
  },
  {
   "cell_type": "markdown",
   "metadata": {},
   "source": [
    "### OpSys Column"
   ]
  },
  {
   "cell_type": "code",
   "execution_count": 27,
   "metadata": {},
   "outputs": [
    {
     "data": {
      "text/plain": [
       "array(['macOS', 'No OS', 'Windows 10', 'Mac OS X', 'Linux', 'Android',\n",
       "       'Windows 10 S', 'Chrome OS', 'Windows 7'], dtype=object)"
      ]
     },
     "execution_count": 27,
     "metadata": {},
     "output_type": "execute_result"
    }
   ],
   "source": [
    "df['OpSys'].unique()"
   ]
  },
  {
   "cell_type": "code",
   "execution_count": 28,
   "metadata": {},
   "outputs": [
    {
     "data": {
      "image/png": "[encoded data removed]",
      "text/plain": [
       "<Figure size 800x600 with 1 Axes>"
      ]
     },
     "metadata": {},
     "output_type": "display_data"
    }
   ],
   "source": [
    "CatPlot(df,'OpSys','Operation System Distribution')"
   ]
  },
  {
   "cell_type": "markdown",
   "metadata": {},
   "source": [
    "- we have just 9 values without any order so we will apply the **One hot encoding on it**"
   ]
  },
  {
   "cell_type": "markdown",
   "metadata": {},
   "source": [
    "### Weight Column"
   ]
  },
  {
   "cell_type": "code",
   "execution_count": 29,
   "metadata": {},
   "outputs": [
    {
     "data": {
      "text/plain": [
       "['1.37kg',\n",
       " '1.34kg',\n",
       " '1.86kg',\n",
       " '1.83kg',\n",
       " '2.1kg',\n",
       " '2.04kg',\n",
       " '1.3kg',\n",
       " '1.6kg',\n",
       " '2.2kg',\n",
       " '0.92kg']"
      ]
     },
     "execution_count": 29,
     "metadata": {},
     "output_type": "execute_result"
    }
   ],
   "source": [
    "df['Weight'].unique().tolist()[:10]"
   ]
  },
  {
   "cell_type": "markdown",
   "metadata": {},
   "source": [
    "- we will remove the `kg`string and convert it into float"
   ]
  },
  {
   "cell_type": "markdown",
   "metadata": {},
   "source": [
    "### Price Column"
   ]
  },
  {
   "cell_type": "code",
   "execution_count": 30,
   "metadata": {},
   "outputs": [
    {
     "data": {
      "text/html": [
       "<div>\n",
       "<style scoped>\n",
       "    .dataframe tbody tr th:only-of-type {\n",
       "        vertical-align: middle;\n",
       "    }\n",
       "\n",
       "    .dataframe tbody tr th {\n",
       "        vertical-align: top;\n",
       "    }\n",
       "\n",
       "    .dataframe thead th {\n",
       "        text-align: right;\n",
       "    }\n",
       "</style>\n",
       "<table border=\"1\" class=\"dataframe\">\n",
       "  <thead>\n",
       "    <tr style=\"text-align: right;\">\n",
       "      <th></th>\n",
       "      <th>Company</th>\n",
       "      <th>Product</th>\n",
       "      <th>TypeName</th>\n",
       "      <th>Inches</th>\n",
       "      <th>ScreenResolution</th>\n",
       "      <th>Cpu</th>\n",
       "      <th>Ram</th>\n",
       "      <th>Memory</th>\n",
       "      <th>Gpu</th>\n",
       "      <th>OpSys</th>\n",
       "      <th>Weight</th>\n",
       "      <th>price</th>\n",
       "    </tr>\n",
       "  </thead>\n",
       "  <tbody>\n",
       "    <tr>\n",
       "      <th>0</th>\n",
       "      <td>Apple</td>\n",
       "      <td>MacBook Pro</td>\n",
       "      <td>Ultrabook</td>\n",
       "      <td>13.3</td>\n",
       "      <td>IPS Panel Retina Display 2560x1600</td>\n",
       "      <td>Intel Core i5 2.3GHz</td>\n",
       "      <td>8GB</td>\n",
       "      <td>128GB SSD</td>\n",
       "      <td>Intel Iris Plus Graphics 640</td>\n",
       "      <td>macOS</td>\n",
       "      <td>1.37kg</td>\n",
       "      <td>1339.69</td>\n",
       "    </tr>\n",
       "    <tr>\n",
       "      <th>1</th>\n",
       "      <td>Apple</td>\n",
       "      <td>Macbook Air</td>\n",
       "      <td>Ultrabook</td>\n",
       "      <td>13.3</td>\n",
       "      <td>1440x900</td>\n",
       "      <td>Intel Core i5 1.8GHz</td>\n",
       "      <td>8GB</td>\n",
       "      <td>128GB Flash Storage</td>\n",
       "      <td>Intel HD Graphics 6000</td>\n",
       "      <td>macOS</td>\n",
       "      <td>1.34kg</td>\n",
       "      <td>898.94</td>\n",
       "    </tr>\n",
       "    <tr>\n",
       "      <th>2</th>\n",
       "      <td>HP</td>\n",
       "      <td>250 G6</td>\n",
       "      <td>Notebook</td>\n",
       "      <td>15.6</td>\n",
       "      <td>Full HD 1920x1080</td>\n",
       "      <td>Intel Core i5 7200U 2.5GHz</td>\n",
       "      <td>8GB</td>\n",
       "      <td>256GB SSD</td>\n",
       "      <td>Intel HD Graphics 620</td>\n",
       "      <td>No OS</td>\n",
       "      <td>1.86kg</td>\n",
       "      <td>575.00</td>\n",
       "    </tr>\n",
       "    <tr>\n",
       "      <th>3</th>\n",
       "      <td>Apple</td>\n",
       "      <td>MacBook Pro</td>\n",
       "      <td>Ultrabook</td>\n",
       "      <td>15.4</td>\n",
       "      <td>IPS Panel Retina Display 2880x1800</td>\n",
       "      <td>Intel Core i7 2.7GHz</td>\n",
       "      <td>16GB</td>\n",
       "      <td>512GB SSD</td>\n",
       "      <td>AMD Radeon Pro 455</td>\n",
       "      <td>macOS</td>\n",
       "      <td>1.83kg</td>\n",
       "      <td>2537.45</td>\n",
       "    </tr>\n",
       "    <tr>\n",
       "      <th>4</th>\n",
       "      <td>Apple</td>\n",
       "      <td>MacBook Pro</td>\n",
       "      <td>Ultrabook</td>\n",
       "      <td>13.3</td>\n",
       "      <td>IPS Panel Retina Display 2560x1600</td>\n",
       "      <td>Intel Core i5 3.1GHz</td>\n",
       "      <td>8GB</td>\n",
       "      <td>256GB SSD</td>\n",
       "      <td>Intel Iris Plus Graphics 650</td>\n",
       "      <td>macOS</td>\n",
       "      <td>1.37kg</td>\n",
       "      <td>1803.60</td>\n",
       "    </tr>\n",
       "  </tbody>\n",
       "</table>\n",
       "</div>"
      ],
      "text/plain": [
       "  Company      Product   TypeName  Inches                    ScreenResolution  \\\n",
       "0   Apple  MacBook Pro  Ultrabook    13.3  IPS Panel Retina Display 2560x1600   \n",
       "1   Apple  Macbook Air  Ultrabook    13.3                            1440x900   \n",
       "2      HP       250 G6   Notebook    15.6                   Full HD 1920x1080   \n",
       "3   Apple  MacBook Pro  Ultrabook    15.4  IPS Panel Retina Display 2880x1800   \n",
       "4   Apple  MacBook Pro  Ultrabook    13.3  IPS Panel Retina Display 2560x1600   \n",
       "\n",
       "                          Cpu   Ram               Memory  \\\n",
       "0        Intel Core i5 2.3GHz   8GB            128GB SSD   \n",
       "1        Intel Core i5 1.8GHz   8GB  128GB Flash Storage   \n",
       "2  Intel Core i5 7200U 2.5GHz   8GB            256GB SSD   \n",
       "3        Intel Core i7 2.7GHz  16GB            512GB SSD   \n",
       "4        Intel Core i5 3.1GHz   8GB            256GB SSD   \n",
       "\n",
       "                            Gpu  OpSys  Weight    price  \n",
       "0  Intel Iris Plus Graphics 640  macOS  1.37kg  1339.69  \n",
       "1        Intel HD Graphics 6000  macOS  1.34kg   898.94  \n",
       "2         Intel HD Graphics 620  No OS  1.86kg   575.00  \n",
       "3            AMD Radeon Pro 455  macOS  1.83kg  2537.45  \n",
       "4  Intel Iris Plus Graphics 650  macOS  1.37kg  1803.60  "
      ]
     },
     "execution_count": 30,
     "metadata": {},
     "output_type": "execute_result"
    }
   ],
   "source": [
    "df.head()"
   ]
  },
  {
   "cell_type": "code",
   "execution_count": 31,
   "metadata": {},
   "outputs": [
    {
     "data": {
      "image/png": "[encoded data removed]",
      "text/plain": [
       "<Figure size 800x600 with 2 Axes>"
      ]
     },
     "metadata": {},
     "output_type": "display_data"
    }
   ],
   "source": [
    "NumPlot(df,'price','Price en euros Distribution')"
   ]
  },
  {
   "cell_type": "markdown",
   "metadata": {},
   "source": [
    "# Feature Engineering "
   ]
  },
  {
   "cell_type": "markdown",
   "metadata": {},
   "source": [
    "### Feature Extraction"
   ]
  },
  {
   "cell_type": "markdown",
   "metadata": {},
   "source": [
    "- #### ScreenResolution col"
   ]
  },
  {
   "cell_type": "code",
   "execution_count": 32,
   "metadata": {},
   "outputs": [
    {
     "data": {
      "text/plain": [
       "0    IPS Panel Retina Display 2560x1600\n",
       "1                              1440x900\n",
       "2                     Full HD 1920x1080\n",
       "3    IPS Panel Retina Display 2880x1800\n",
       "4    IPS Panel Retina Display 2560x1600\n",
       "Name: ScreenResolution, dtype: object"
      ]
     },
     "execution_count": 32,
     "metadata": {},
     "output_type": "execute_result"
    }
   ],
   "source": [
    "df['ScreenResolution'].head()"
   ]
  },
  {
   "cell_type": "markdown",
   "metadata": {},
   "source": [
    "As we said:\n",
    "- here we have 40 unique values \n",
    "- we can extract more columns form here \n",
    "- **ScreenType**\n",
    "- **touchScreen** \n",
    "- **Resolution**\n",
    "- after that wi will remove the **ScreenResolution** column and encode the **Resolution** column\n"
   ]
  },
  {
   "cell_type": "markdown",
   "metadata": {},
   "source": [
    "##### Notes:\n",
    "- `\\d+x\\d+`: this regular expression will extract the Resolution\n",
    "- if we remove this RE from the ScreenResolution column we will get the ScreenType column\n",
    "- Create the touchScreen column will contain either 0 or 1\n",
    "- remove the ScreenResolution Column"
   ]
  },
  {
   "cell_type": "code",
   "execution_count": 33,
   "metadata": {},
   "outputs": [],
   "source": [
    "df['resolution'] = df['ScreenResolution'].str.extract(r'(\\d+x\\d+)')"
   ]
  },
  {
   "cell_type": "code",
   "execution_count": 34,
   "metadata": {},
   "outputs": [],
   "source": [
    "df['ScreenType'] = df['ScreenResolution'].replace(r'(\\d+x\\d+)','',regex=True)\n",
    "df['ScreenType'] = df['ScreenType'].replace(r'^\\s*$',np.nan,regex=True)"
   ]
  },
  {
   "cell_type": "code",
   "execution_count": 35,
   "metadata": {},
   "outputs": [],
   "source": [
    "df['TouchScreen'] =df['ScreenType'].str.extract(r'(Touchscreen)').notna().astype(int)"
   ]
  },
  {
   "cell_type": "code",
   "execution_count": 36,
   "metadata": {},
   "outputs": [],
   "source": [
    "df['ScreenType'] = df['ScreenType'].str.replace(r'(\\/\\sTouchscreen)','',regex=True)"
   ]
  },
  {
   "cell_type": "code",
   "execution_count": 37,
   "metadata": {},
   "outputs": [],
   "source": [
    "df = df.drop('ScreenResolution', axis = 1)"
   ]
  },
  {
   "cell_type": "code",
   "execution_count": 38,
   "metadata": {},
   "outputs": [
    {
     "data": {
      "text/plain": [
       "np.int64(0)"
      ]
     },
     "execution_count": 38,
     "metadata": {},
     "output_type": "execute_result"
    }
   ],
   "source": [
    "df['resolution'].isnull().sum()"
   ]
  },
  {
   "cell_type": "code",
   "execution_count": 39,
   "metadata": {},
   "outputs": [
    {
     "name": "stdout",
     "output_type": "stream",
     "text": [
      "0\n",
      "15\n",
      "296\n",
      "20\n"
     ]
    }
   ],
   "source": [
    "col = [\"resolution\", \"ScreenType\"]\n",
    "\n",
    "for c in col:\n",
    "    print(df[c].isnull().sum())\n",
    "    print(df[c].nunique())"
   ]
  },
  {
   "cell_type": "markdown",
   "metadata": {},
   "source": [
    "- handle the ScreenType missing values"
   ]
  },
  {
   "cell_type": "code",
   "execution_count": 40,
   "metadata": {},
   "outputs": [],
   "source": [
    "df['ScreenType']= df['ScreenType'].replace(np.nan,df['ScreenType'].mode()[0])"
   ]
  },
  {
   "cell_type": "markdown",
   "metadata": {},
   "source": [
    "- #### Cpu Col\n"
   ]
  },
  {
   "cell_type": "code",
   "execution_count": 41,
   "metadata": {},
   "outputs": [
    {
     "data": {
      "text/plain": [
       "0          Intel Core i5 2.3GHz\n",
       "1          Intel Core i5 1.8GHz\n",
       "2    Intel Core i5 7200U 2.5GHz\n",
       "3          Intel Core i7 2.7GHz\n",
       "4          Intel Core i5 3.1GHz\n",
       "Name: Cpu, dtype: object"
      ]
     },
     "execution_count": 41,
     "metadata": {},
     "output_type": "execute_result"
    }
   ],
   "source": [
    "df['Cpu'].head()"
   ]
  },
  {
   "cell_type": "markdown",
   "metadata": {},
   "source": [
    "- **The cpu frequency** at the end GHz the remove the `GHz` string then convert the column into float data type\n",
    "- then we will remove this part and we can perform the target encoding on one hot encoding to it."
   ]
  },
  {
   "cell_type": "code",
   "execution_count": 42,
   "metadata": {},
   "outputs": [
    {
     "data": {
      "text/plain": [
       "0    2.3\n",
       "1    1.8\n",
       "2    2.5\n",
       "3    2.7\n",
       "4    3.1\n",
       "Name: CpuFrequency, dtype: float64"
      ]
     },
     "execution_count": 42,
     "metadata": {},
     "output_type": "execute_result"
    }
   ],
   "source": [
    "df['CpuFrequency'] = df['Cpu'].str.extract(r'(\\d+\\.?\\d*GHz)')\n",
    "df['CpuFrequency'] = df['CpuFrequency'].str.replace('GHz','').astype(float)\n",
    "df['CpuFrequency'].head()"
   ]
  },
  {
   "cell_type": "code",
   "execution_count": 43,
   "metadata": {},
   "outputs": [
    {
     "data": {
      "text/plain": [
       "0          Intel Core i5 \n",
       "1          Intel Core i5 \n",
       "2    Intel Core i5 7200U \n",
       "3          Intel Core i7 \n",
       "4          Intel Core i5 \n",
       "Name: Cpu, dtype: object"
      ]
     },
     "execution_count": 43,
     "metadata": {},
     "output_type": "execute_result"
    }
   ],
   "source": [
    "df['Cpu'] = df['Cpu'].str.replace(r'\\d+\\.?\\d*GHz','',regex=True)\n",
    "df['Cpu'].head()"
   ]
  },
  {
   "cell_type": "markdown",
   "metadata": {},
   "source": [
    "- We have 93 unique values for the Cpu col"
   ]
  },
  {
   "cell_type": "markdown",
   "metadata": {},
   "source": [
    "- #### Ram"
   ]
  },
  {
   "cell_type": "code",
   "execution_count": 44,
   "metadata": {},
   "outputs": [
    {
     "data": {
      "text/plain": [
       "array(['8GB', '16GB', '4GB', '2GB', '12GB', '6GB', '32GB', '24GB', '64GB'],\n",
       "      dtype=object)"
      ]
     },
     "execution_count": 44,
     "metadata": {},
     "output_type": "execute_result"
    }
   ],
   "source": [
    "df['Ram'].unique()"
   ]
  },
  {
   "cell_type": "code",
   "execution_count": 45,
   "metadata": {},
   "outputs": [
    {
     "data": {
      "text/plain": [
       "0     8\n",
       "1     8\n",
       "2     8\n",
       "3    16\n",
       "4     8\n",
       "Name: Ram, dtype: int64"
      ]
     },
     "execution_count": 45,
     "metadata": {},
     "output_type": "execute_result"
    }
   ],
   "source": [
    "df['Ram'] = df['Ram'].str.replace('GB','').astype(int)\n",
    "df['Ram'].head()"
   ]
  },
  {
   "cell_type": "markdown",
   "metadata": {},
   "source": [
    "- #### Memory Columns"
   ]
  },
  {
   "cell_type": "markdown",
   "metadata": {},
   "source": [
    "- there are 39 unique values \n",
    "- we will create a new features and because some rows has two num of hard drives we will create 4 columns\n",
    "\n",
    "- **storage of disk**: \n",
    "- **type of disk**: `SSD` `HDD` `Flash Storage` `Hybrid`\n",
    "\n",
    "- apply this for the two disks"
   ]
  },
  {
   "cell_type": "code",
   "execution_count": 46,
   "metadata": {},
   "outputs": [],
   "source": [
    "df['Memory'] = df['Memory'].str.replace('1.0TB', '1000GB').str.replace('1TB', '1000GB').str.replace('2TB', '2000GB').str.replace('GB','')"
   ]
  },
  {
   "cell_type": "code",
   "execution_count": 47,
   "metadata": {},
   "outputs": [],
   "source": [
    "df['Memory'] = df['Memory'].str.replace(' ','') "
   ]
  },
  {
   "cell_type": "code",
   "execution_count": 48,
   "metadata": {},
   "outputs": [
    {
     "data": {
      "text/plain": [
       "array(['128SSD', '128FlashStorage', '256SSD', '512SSD', '500HDD',\n",
       "       '256FlashStorage', '1000HDD', '32FlashStorage', '128SSD+1000HDD',\n",
       "       '256SSD+256SSD', '64FlashStorage', '256SSD+1000HDD',\n",
       "       '256SSD+2000HDD', '32SSD', '2000HDD', '64SSD', '1000Hybrid',\n",
       "       '512SSD+1000HDD', '1000SSD', '256SSD+500HDD', '128SSD+2000HDD',\n",
       "       '512SSD+512SSD', '16SSD', '16FlashStorage', '512SSD+256SSD',\n",
       "       '512SSD+2000HDD', '64FlashStorage+1000HDD', '180SSD',\n",
       "       '1000HDD+1000HDD', '32HDD', '1000SSD+1000HDD', '512FlashStorage',\n",
       "       '128HDD', '240SSD', '8SSD', '508Hybrid', '512SSD+1000Hybrid',\n",
       "       '256SSD+1000Hybrid'], dtype=object)"
      ]
     },
     "execution_count": 48,
     "metadata": {},
     "output_type": "execute_result"
    }
   ],
   "source": [
    "df['Memory'].unique()"
   ]
  },
  {
   "cell_type": "code",
   "execution_count": 49,
   "metadata": {},
   "outputs": [],
   "source": [
    "df['storageDisk1'] = df['Memory'].str.extract(r'(^\\d+)').astype(int)\n",
    "df['storageDisk2'] = df['Memory'].str.extract(r'(\\+\\d+)')\n",
    "\n",
    "TypeDisk1 = []\n",
    "TypeDisk2 = []\n",
    "\n",
    "for i in df['Memory']:\n",
    "    if len(re.findall(r'\\+',i)) == 1:\n",
    "        allTypes = re.findall(r'([A-z]+)',i)\n",
    "        TypeDisk1.append(allTypes[0])\n",
    "        TypeDisk2.append(allTypes[1])\n",
    "    else:\n",
    "        allTypes = re.findall(r'([A-z]+)',i)\n",
    "        TypeDisk1.append(allTypes[0])\n",
    "        TypeDisk2.append(np.nan)\n",
    "        \n",
    "df['TypeDisk1'] = TypeDisk1\n",
    "df['TypeDisk2'] = TypeDisk2\n"
   ]
  },
  {
   "cell_type": "code",
   "execution_count": 50,
   "metadata": {},
   "outputs": [],
   "source": [
    "df['storageDisk2'] = df['storageDisk2'].fillna('0').str.replace('+', '').astype(int)"
   ]
  },
  {
   "cell_type": "code",
   "execution_count": 51,
   "metadata": {},
   "outputs": [],
   "source": [
    "df['TypeDisk2'] = df['TypeDisk2'].fillna('NaN')"
   ]
  },
  {
   "cell_type": "code",
   "execution_count": 52,
   "metadata": {},
   "outputs": [],
   "source": [
    "df = df.drop(columns=['Memory'], axis=1)"
   ]
  },
  {
   "cell_type": "markdown",
   "metadata": {},
   "source": [
    "- #### Weight Col"
   ]
  },
  {
   "cell_type": "code",
   "execution_count": 53,
   "metadata": {},
   "outputs": [
    {
     "data": {
      "text/plain": [
       "0    1.37kg\n",
       "1    1.34kg\n",
       "2    1.86kg\n",
       "3    1.83kg\n",
       "4    1.37kg\n",
       "Name: Weight, dtype: object"
      ]
     },
     "execution_count": 53,
     "metadata": {},
     "output_type": "execute_result"
    }
   ],
   "source": [
    "df['Weight'].head()"
   ]
  },
  {
   "cell_type": "code",
   "execution_count": 54,
   "metadata": {},
   "outputs": [],
   "source": [
    "df['Weight'] = df['Weight'].str.replace('kg','').astype(float)"
   ]
  },
  {
   "cell_type": "markdown",
   "metadata": {},
   "source": [
    "### Handling the columns\n",
    "\n",
    "**One hot encoding** : \n",
    "\n",
    "- ***TypeName***\n",
    "- ***TypeDisk1***\n",
    "- ***TypeDisk2***\n",
    "- ***OpSys***\n",
    "\n",
    "**Target Encoding**\n",
    "\n",
    "- ***Product***\n",
    "- ***Resolution***\n",
    "\n",
    "**Label Encoding**\n",
    "\n",
    "- ***ScreenType***\n",
    "- ***Cpu***\n",
    "- ***Company***\n",
    "\n",
    "**Numerical column**\n",
    "\n",
    "- ***Inches***\n",
    "- ***TouchScreen***\n",
    "- ***CpuFrequency***\n",
    "- ***Ram***\n",
    "- ***storageDisk1***\n",
    "- ***storageDisk2***\n",
    "- ***Weight***\n",
    "\n",
    "**Scaling Features**\n",
    "\n",
    "- ***Ram***\n",
    "- ***storageDisk1***\n",
    "- ***storageDisk2***\n"
   ]
  },
  {
   "cell_type": "code",
   "execution_count": 55,
   "metadata": {},
   "outputs": [
    {
     "data": {
      "text/html": [
       "<div>\n",
       "<style scoped>\n",
       "    .dataframe tbody tr th:only-of-type {\n",
       "        vertical-align: middle;\n",
       "    }\n",
       "\n",
       "    .dataframe tbody tr th {\n",
       "        vertical-align: top;\n",
       "    }\n",
       "\n",
       "    .dataframe thead th {\n",
       "        text-align: right;\n",
       "    }\n",
       "</style>\n",
       "<table border=\"1\" class=\"dataframe\">\n",
       "  <thead>\n",
       "    <tr style=\"text-align: right;\">\n",
       "      <th></th>\n",
       "      <th>Inches</th>\n",
       "      <th>Ram</th>\n",
       "      <th>Weight</th>\n",
       "      <th>price</th>\n",
       "      <th>TouchScreen</th>\n",
       "      <th>CpuFrequency</th>\n",
       "      <th>storageDisk1</th>\n",
       "      <th>storageDisk2</th>\n",
       "    </tr>\n",
       "  </thead>\n",
       "  <tbody>\n",
       "    <tr>\n",
       "      <th>count</th>\n",
       "      <td>1275.000000</td>\n",
       "      <td>1275.000000</td>\n",
       "      <td>1275.000000</td>\n",
       "      <td>1275.000000</td>\n",
       "      <td>1275.000000</td>\n",
       "      <td>1275.000000</td>\n",
       "      <td>1275.000000</td>\n",
       "      <td>1275.000000</td>\n",
       "    </tr>\n",
       "    <tr>\n",
       "      <th>mean</th>\n",
       "      <td>15.022902</td>\n",
       "      <td>8.440784</td>\n",
       "      <td>2.040525</td>\n",
       "      <td>1134.969059</td>\n",
       "      <td>0.147451</td>\n",
       "      <td>2.302980</td>\n",
       "      <td>439.397647</td>\n",
       "      <td>171.984314</td>\n",
       "    </tr>\n",
       "    <tr>\n",
       "      <th>std</th>\n",
       "      <td>1.429470</td>\n",
       "      <td>5.097809</td>\n",
       "      <td>0.669196</td>\n",
       "      <td>700.752504</td>\n",
       "      <td>0.354694</td>\n",
       "      <td>0.503846</td>\n",
       "      <td>355.746953</td>\n",
       "      <td>406.236732</td>\n",
       "    </tr>\n",
       "    <tr>\n",
       "      <th>min</th>\n",
       "      <td>10.100000</td>\n",
       "      <td>2.000000</td>\n",
       "      <td>0.690000</td>\n",
       "      <td>174.000000</td>\n",
       "      <td>0.000000</td>\n",
       "      <td>0.900000</td>\n",
       "      <td>8.000000</td>\n",
       "      <td>0.000000</td>\n",
       "    </tr>\n",
       "    <tr>\n",
       "      <th>25%</th>\n",
       "      <td>14.000000</td>\n",
       "      <td>4.000000</td>\n",
       "      <td>1.500000</td>\n",
       "      <td>609.000000</td>\n",
       "      <td>0.000000</td>\n",
       "      <td>2.000000</td>\n",
       "      <td>256.000000</td>\n",
       "      <td>0.000000</td>\n",
       "    </tr>\n",
       "    <tr>\n",
       "      <th>50%</th>\n",
       "      <td>15.600000</td>\n",
       "      <td>8.000000</td>\n",
       "      <td>2.040000</td>\n",
       "      <td>989.000000</td>\n",
       "      <td>0.000000</td>\n",
       "      <td>2.500000</td>\n",
       "      <td>256.000000</td>\n",
       "      <td>0.000000</td>\n",
       "    </tr>\n",
       "    <tr>\n",
       "      <th>75%</th>\n",
       "      <td>15.600000</td>\n",
       "      <td>8.000000</td>\n",
       "      <td>2.310000</td>\n",
       "      <td>1496.500000</td>\n",
       "      <td>0.000000</td>\n",
       "      <td>2.700000</td>\n",
       "      <td>512.000000</td>\n",
       "      <td>0.000000</td>\n",
       "    </tr>\n",
       "    <tr>\n",
       "      <th>max</th>\n",
       "      <td>18.400000</td>\n",
       "      <td>64.000000</td>\n",
       "      <td>4.700000</td>\n",
       "      <td>6099.000000</td>\n",
       "      <td>1.000000</td>\n",
       "      <td>3.600000</td>\n",
       "      <td>2000.000000</td>\n",
       "      <td>2000.000000</td>\n",
       "    </tr>\n",
       "  </tbody>\n",
       "</table>\n",
       "</div>"
      ],
      "text/plain": [
       "            Inches          Ram       Weight        price  TouchScreen  \\\n",
       "count  1275.000000  1275.000000  1275.000000  1275.000000  1275.000000   \n",
       "mean     15.022902     8.440784     2.040525  1134.969059     0.147451   \n",
       "std       1.429470     5.097809     0.669196   700.752504     0.354694   \n",
       "min      10.100000     2.000000     0.690000   174.000000     0.000000   \n",
       "25%      14.000000     4.000000     1.500000   609.000000     0.000000   \n",
       "50%      15.600000     8.000000     2.040000   989.000000     0.000000   \n",
       "75%      15.600000     8.000000     2.310000  1496.500000     0.000000   \n",
       "max      18.400000    64.000000     4.700000  6099.000000     1.000000   \n",
       "\n",
       "       CpuFrequency  storageDisk1  storageDisk2  \n",
       "count   1275.000000   1275.000000   1275.000000  \n",
       "mean       2.302980    439.397647    171.984314  \n",
       "std        0.503846    355.746953    406.236732  \n",
       "min        0.900000      8.000000      0.000000  \n",
       "25%        2.000000    256.000000      0.000000  \n",
       "50%        2.500000    256.000000      0.000000  \n",
       "75%        2.700000    512.000000      0.000000  \n",
       "max        3.600000   2000.000000   2000.000000  "
      ]
     },
     "execution_count": 55,
     "metadata": {},
     "output_type": "execute_result"
    }
   ],
   "source": [
    "df.describe()"
   ]
  },
  {
   "cell_type": "markdown",
   "metadata": {},
   "source": [
    "## Pipeline"
   ]
  },
  {
   "cell_type": "code",
   "execution_count": 56,
   "metadata": {},
   "outputs": [],
   "source": [
    "one_hot_columns = ['TypeName', 'TypeDisk1', 'TypeDisk2', 'OpSys']\n",
    "target_encoded_columns = ['Product', 'resolution']\n",
    "label_encoded_columns = ['ScreenType', 'Cpu','Gpu','Company']\n",
    "numerical_columns = ['Inches', 'TouchScreen', 'CpuFrequency', 'Ram', 'storageDisk1', 'storageDisk2', 'Weight']\n",
    "scaling_columns = ['Ram', 'storageDisk1', 'storageDisk2']"
   ]
  },
  {
   "cell_type": "code",
   "execution_count": 57,
   "metadata": {},
   "outputs": [],
   "source": [
    "preprocessor = ColumnTransformer(\n",
    "    transformers=[\n",
    "        ('one_hot', OneHotEncoder(handle_unknown='ignore',drop='first'), one_hot_columns),\n",
    "        ('target', TargetEncoder(), target_encoded_columns),\n",
    "        ('label', OrdinalEncoder(handle_unknown='use_encoded_value', unknown_value= -1), label_encoded_columns),\n",
    "        ('scaling', StandardScaler(), scaling_columns)\n",
    "    ],\n",
    "    remainder='passthrough'\n",
    ")\n",
    "\n",
    "pipeline = Pipeline(\n",
    "    steps=[\n",
    "        ('preprocessor',preprocessor),\n",
    "    ]\n",
    ")\n",
    " \n",
    "\n",
    "X_train, X_test, y_train, y_test = train_test_split(df, df['price'], test_size=0.2, random_state=42)\n",
    "\n",
    "pipeline.fit(X_train,y_train)\n",
    "\n",
    "X_train_transformed = pipeline.transform(X_train)\n",
    "X_test_transformed = pipeline.transform(X_test)"
   ]
  },
  {
   "cell_type": "code",
   "execution_count": 58,
   "metadata": {},
   "outputs": [
    {
     "data": {
      "text/html": [
       "<div>\n",
       "<style scoped>\n",
       "    .dataframe tbody tr th:only-of-type {\n",
       "        vertical-align: middle;\n",
       "    }\n",
       "\n",
       "    .dataframe tbody tr th {\n",
       "        vertical-align: top;\n",
       "    }\n",
       "\n",
       "    .dataframe thead th {\n",
       "        text-align: right;\n",
       "    }\n",
       "</style>\n",
       "<table border=\"1\" class=\"dataframe\">\n",
       "  <thead>\n",
       "    <tr style=\"text-align: right;\">\n",
       "      <th></th>\n",
       "      <th>one_hot__TypeName_Gaming</th>\n",
       "      <th>one_hot__TypeName_Netbook</th>\n",
       "      <th>one_hot__TypeName_Notebook</th>\n",
       "      <th>one_hot__TypeName_Ultrabook</th>\n",
       "      <th>one_hot__TypeName_Workstation</th>\n",
       "      <th>one_hot__TypeDisk1_HDD</th>\n",
       "      <th>one_hot__TypeDisk1_Hybrid</th>\n",
       "      <th>one_hot__TypeDisk1_SSD</th>\n",
       "      <th>one_hot__TypeDisk2_Hybrid</th>\n",
       "      <th>one_hot__TypeDisk2_NaN</th>\n",
       "      <th>...</th>\n",
       "      <th>label__Gpu</th>\n",
       "      <th>label__Company</th>\n",
       "      <th>scaling__Ram</th>\n",
       "      <th>scaling__storageDisk1</th>\n",
       "      <th>scaling__storageDisk2</th>\n",
       "      <th>remainder__Inches</th>\n",
       "      <th>remainder__Weight</th>\n",
       "      <th>remainder__price</th>\n",
       "      <th>remainder__TouchScreen</th>\n",
       "      <th>remainder__CpuFrequency</th>\n",
       "    </tr>\n",
       "  </thead>\n",
       "  <tbody>\n",
       "    <tr>\n",
       "      <th>0</th>\n",
       "      <td>0.0</td>\n",
       "      <td>0.0</td>\n",
       "      <td>0.0</td>\n",
       "      <td>0.0</td>\n",
       "      <td>0.0</td>\n",
       "      <td>0.0</td>\n",
       "      <td>0.0</td>\n",
       "      <td>1.0</td>\n",
       "      <td>0.0</td>\n",
       "      <td>1.0</td>\n",
       "      <td>...</td>\n",
       "      <td>43.0</td>\n",
       "      <td>0.0</td>\n",
       "      <td>-0.060972</td>\n",
       "      <td>-0.528127</td>\n",
       "      <td>-0.423453</td>\n",
       "      <td>13.3</td>\n",
       "      <td>1.60</td>\n",
       "      <td>789.01</td>\n",
       "      <td>1.0</td>\n",
       "      <td>2.5</td>\n",
       "    </tr>\n",
       "    <tr>\n",
       "      <th>1</th>\n",
       "      <td>1.0</td>\n",
       "      <td>0.0</td>\n",
       "      <td>0.0</td>\n",
       "      <td>0.0</td>\n",
       "      <td>0.0</td>\n",
       "      <td>0.0</td>\n",
       "      <td>0.0</td>\n",
       "      <td>1.0</td>\n",
       "      <td>0.0</td>\n",
       "      <td>1.0</td>\n",
       "      <td>...</td>\n",
       "      <td>74.0</td>\n",
       "      <td>14.0</td>\n",
       "      <td>1.513485</td>\n",
       "      <td>0.194007</td>\n",
       "      <td>-0.423453</td>\n",
       "      <td>14.0</td>\n",
       "      <td>1.95</td>\n",
       "      <td>2899.00</td>\n",
       "      <td>0.0</td>\n",
       "      <td>2.8</td>\n",
       "    </tr>\n",
       "    <tr>\n",
       "      <th>2</th>\n",
       "      <td>0.0</td>\n",
       "      <td>0.0</td>\n",
       "      <td>0.0</td>\n",
       "      <td>0.0</td>\n",
       "      <td>0.0</td>\n",
       "      <td>0.0</td>\n",
       "      <td>0.0</td>\n",
       "      <td>1.0</td>\n",
       "      <td>0.0</td>\n",
       "      <td>1.0</td>\n",
       "      <td>...</td>\n",
       "      <td>43.0</td>\n",
       "      <td>10.0</td>\n",
       "      <td>-0.848200</td>\n",
       "      <td>-0.528127</td>\n",
       "      <td>-0.423453</td>\n",
       "      <td>15.6</td>\n",
       "      <td>2.10</td>\n",
       "      <td>867.00</td>\n",
       "      <td>1.0</td>\n",
       "      <td>2.3</td>\n",
       "    </tr>\n",
       "    <tr>\n",
       "      <th>3</th>\n",
       "      <td>0.0</td>\n",
       "      <td>0.0</td>\n",
       "      <td>1.0</td>\n",
       "      <td>0.0</td>\n",
       "      <td>0.0</td>\n",
       "      <td>1.0</td>\n",
       "      <td>0.0</td>\n",
       "      <td>0.0</td>\n",
       "      <td>0.0</td>\n",
       "      <td>1.0</td>\n",
       "      <td>...</td>\n",
       "      <td>21.0</td>\n",
       "      <td>4.0</td>\n",
       "      <td>-0.060972</td>\n",
       "      <td>1.570576</td>\n",
       "      <td>-0.423453</td>\n",
       "      <td>15.6</td>\n",
       "      <td>2.20</td>\n",
       "      <td>599.90</td>\n",
       "      <td>0.0</td>\n",
       "      <td>2.7</td>\n",
       "    </tr>\n",
       "    <tr>\n",
       "      <th>4</th>\n",
       "      <td>0.0</td>\n",
       "      <td>0.0</td>\n",
       "      <td>1.0</td>\n",
       "      <td>0.0</td>\n",
       "      <td>0.0</td>\n",
       "      <td>1.0</td>\n",
       "      <td>0.0</td>\n",
       "      <td>0.0</td>\n",
       "      <td>0.0</td>\n",
       "      <td>1.0</td>\n",
       "      <td>...</td>\n",
       "      <td>43.0</td>\n",
       "      <td>7.0</td>\n",
       "      <td>-0.848200</td>\n",
       "      <td>1.570576</td>\n",
       "      <td>-0.423453</td>\n",
       "      <td>15.6</td>\n",
       "      <td>1.86</td>\n",
       "      <td>469.00</td>\n",
       "      <td>0.0</td>\n",
       "      <td>2.0</td>\n",
       "    </tr>\n",
       "  </tbody>\n",
       "</table>\n",
       "<p>5 rows × 33 columns</p>\n",
       "</div>"
      ],
      "text/plain": [
       "   one_hot__TypeName_Gaming  one_hot__TypeName_Netbook  \\\n",
       "0                       0.0                        0.0   \n",
       "1                       1.0                        0.0   \n",
       "2                       0.0                        0.0   \n",
       "3                       0.0                        0.0   \n",
       "4                       0.0                        0.0   \n",
       "\n",
       "   one_hot__TypeName_Notebook  one_hot__TypeName_Ultrabook  \\\n",
       "0                         0.0                          0.0   \n",
       "1                         0.0                          0.0   \n",
       "2                         0.0                          0.0   \n",
       "3                         1.0                          0.0   \n",
       "4                         1.0                          0.0   \n",
       "\n",
       "   one_hot__TypeName_Workstation  one_hot__TypeDisk1_HDD  \\\n",
       "0                            0.0                     0.0   \n",
       "1                            0.0                     0.0   \n",
       "2                            0.0                     0.0   \n",
       "3                            0.0                     1.0   \n",
       "4                            0.0                     1.0   \n",
       "\n",
       "   one_hot__TypeDisk1_Hybrid  one_hot__TypeDisk1_SSD  \\\n",
       "0                        0.0                     1.0   \n",
       "1                        0.0                     1.0   \n",
       "2                        0.0                     1.0   \n",
       "3                        0.0                     0.0   \n",
       "4                        0.0                     0.0   \n",
       "\n",
       "   one_hot__TypeDisk2_Hybrid  one_hot__TypeDisk2_NaN  ...  label__Gpu  \\\n",
       "0                        0.0                     1.0  ...        43.0   \n",
       "1                        0.0                     1.0  ...        74.0   \n",
       "2                        0.0                     1.0  ...        43.0   \n",
       "3                        0.0                     1.0  ...        21.0   \n",
       "4                        0.0                     1.0  ...        43.0   \n",
       "\n",
       "   label__Company  scaling__Ram  scaling__storageDisk1  scaling__storageDisk2  \\\n",
       "0             0.0     -0.060972              -0.528127              -0.423453   \n",
       "1            14.0      1.513485               0.194007              -0.423453   \n",
       "2            10.0     -0.848200              -0.528127              -0.423453   \n",
       "3             4.0     -0.060972               1.570576              -0.423453   \n",
       "4             7.0     -0.848200               1.570576              -0.423453   \n",
       "\n",
       "   remainder__Inches  remainder__Weight  remainder__price  \\\n",
       "0               13.3               1.60            789.01   \n",
       "1               14.0               1.95           2899.00   \n",
       "2               15.6               2.10            867.00   \n",
       "3               15.6               2.20            599.90   \n",
       "4               15.6               1.86            469.00   \n",
       "\n",
       "   remainder__TouchScreen  remainder__CpuFrequency  \n",
       "0                     1.0                      2.5  \n",
       "1                     0.0                      2.8  \n",
       "2                     1.0                      2.3  \n",
       "3                     0.0                      2.7  \n",
       "4                     0.0                      2.0  \n",
       "\n",
       "[5 rows x 33 columns]"
      ]
     },
     "execution_count": 58,
     "metadata": {},
     "output_type": "execute_result"
    }
   ],
   "source": [
    "preprocessor = pipeline.named_steps['preprocessor']\n",
    "transformed_feature_name = preprocessor.get_feature_names_out().tolist()\n",
    "\n",
    "\n",
    "df_transformed = pd.DataFrame(\n",
    "    X_train_transformed,\n",
    "    columns=transformed_feature_name\n",
    ")\n",
    "\n",
    "df_transformed = df_transformed.apply(pd.to_numeric, errors='coerce')\n",
    "\n",
    "df_transformed.head()"
   ]
  },
  {
   "cell_type": "code",
   "execution_count": 59,
   "metadata": {},
   "outputs": [
    {
     "data": {
      "text/plain": [
       "(1020, 33)"
      ]
     },
     "execution_count": 59,
     "metadata": {},
     "output_type": "execute_result"
    }
   ],
   "source": [
    "df_transformed.shape"
   ]
  },
  {
   "cell_type": "code",
   "execution_count": 60,
   "metadata": {},
   "outputs": [
    {
     "data": {
      "text/plain": [
       "Index(['one_hot__TypeName_Gaming', 'one_hot__TypeName_Netbook',\n",
       "       'one_hot__TypeName_Notebook', 'one_hot__TypeName_Ultrabook',\n",
       "       'one_hot__TypeName_Workstation', 'one_hot__TypeDisk1_HDD',\n",
       "       'one_hot__TypeDisk1_Hybrid', 'one_hot__TypeDisk1_SSD',\n",
       "       'one_hot__TypeDisk2_Hybrid', 'one_hot__TypeDisk2_NaN',\n",
       "       'one_hot__TypeDisk2_SSD', 'one_hot__OpSys_Chrome OS',\n",
       "       'one_hot__OpSys_Linux', 'one_hot__OpSys_Mac OS X',\n",
       "       'one_hot__OpSys_No OS', 'one_hot__OpSys_Windows 10',\n",
       "       'one_hot__OpSys_Windows 10 S', 'one_hot__OpSys_Windows 7',\n",
       "       'one_hot__OpSys_macOS', 'target__Product', 'target__resolution',\n",
       "       'label__ScreenType', 'label__Cpu', 'label__Gpu', 'label__Company',\n",
       "       'scaling__Ram', 'scaling__storageDisk1', 'scaling__storageDisk2',\n",
       "       'remainder__Inches', 'remainder__Weight', 'remainder__price',\n",
       "       'remainder__TouchScreen', 'remainder__CpuFrequency'],\n",
       "      dtype='object')"
      ]
     },
     "execution_count": 60,
     "metadata": {},
     "output_type": "execute_result"
    }
   ],
   "source": [
    "df_transformed.columns"
   ]
  },
  {
   "cell_type": "code",
   "execution_count": 61,
   "metadata": {},
   "outputs": [
    {
     "name": "stdout",
     "output_type": "stream",
     "text": [
      "one_hot__TypeName_Gaming : 0\n",
      "one_hot__TypeName_Netbook : 0\n",
      "one_hot__TypeName_Notebook : 0\n",
      "one_hot__TypeName_Ultrabook : 0\n",
      "one_hot__TypeName_Workstation : 0\n",
      "one_hot__TypeDisk1_HDD : 0\n",
      "one_hot__TypeDisk1_Hybrid : 0\n",
      "one_hot__TypeDisk1_SSD : 0\n",
      "one_hot__TypeDisk2_Hybrid : 0\n",
      "one_hot__TypeDisk2_NaN : 0\n",
      "one_hot__TypeDisk2_SSD : 0\n",
      "one_hot__OpSys_Chrome OS : 0\n",
      "one_hot__OpSys_Linux : 0\n",
      "one_hot__OpSys_Mac OS X : 0\n",
      "one_hot__OpSys_No OS : 0\n",
      "one_hot__OpSys_Windows 10 : 0\n",
      "one_hot__OpSys_Windows 10 S : 0\n",
      "one_hot__OpSys_Windows 7 : 0\n",
      "one_hot__OpSys_macOS : 0\n",
      "target__Product : 0\n",
      "target__resolution : 0\n",
      "label__ScreenType : 0\n",
      "label__Cpu : 0\n",
      "label__Gpu : 0\n",
      "label__Company : 0\n",
      "scaling__Ram : 0\n",
      "scaling__storageDisk1 : 0\n",
      "scaling__storageDisk2 : 0\n",
      "remainder__Inches : 0\n",
      "remainder__Weight : 0\n",
      "remainder__price : 0\n",
      "remainder__TouchScreen : 0\n",
      "remainder__CpuFrequency : 0\n"
     ]
    }
   ],
   "source": [
    "for col in df_transformed.columns:\n",
    "    print(f'{col} : {df_transformed[col].isnull().sum()}')"
   ]
  },
  {
   "cell_type": "code",
   "execution_count": 62,
   "metadata": {},
   "outputs": [
    {
     "name": "stdout",
     "output_type": "stream",
     "text": [
      "<class 'pandas.core.frame.DataFrame'>\n",
      "RangeIndex: 1020 entries, 0 to 1019\n",
      "Data columns (total 33 columns):\n",
      " #   Column                         Non-Null Count  Dtype  \n",
      "---  ------                         --------------  -----  \n",
      " 0   one_hot__TypeName_Gaming       1020 non-null   float64\n",
      " 1   one_hot__TypeName_Netbook      1020 non-null   float64\n",
      " 2   one_hot__TypeName_Notebook     1020 non-null   float64\n",
      " 3   one_hot__TypeName_Ultrabook    1020 non-null   float64\n",
      " 4   one_hot__TypeName_Workstation  1020 non-null   float64\n",
      " 5   one_hot__TypeDisk1_HDD         1020 non-null   float64\n",
      " 6   one_hot__TypeDisk1_Hybrid      1020 non-null   float64\n",
      " 7   one_hot__TypeDisk1_SSD         1020 non-null   float64\n",
      " 8   one_hot__TypeDisk2_Hybrid      1020 non-null   float64\n",
      " 9   one_hot__TypeDisk2_NaN         1020 non-null   float64\n",
      " 10  one_hot__TypeDisk2_SSD         1020 non-null   float64\n",
      " 11  one_hot__OpSys_Chrome OS       1020 non-null   float64\n",
      " 12  one_hot__OpSys_Linux           1020 non-null   float64\n",
      " 13  one_hot__OpSys_Mac OS X        1020 non-null   float64\n",
      " 14  one_hot__OpSys_No OS           1020 non-null   float64\n",
      " 15  one_hot__OpSys_Windows 10      1020 non-null   float64\n",
      " 16  one_hot__OpSys_Windows 10 S    1020 non-null   float64\n",
      " 17  one_hot__OpSys_Windows 7       1020 non-null   float64\n",
      " 18  one_hot__OpSys_macOS           1020 non-null   float64\n",
      " 19  target__Product                1020 non-null   float64\n",
      " 20  target__resolution             1020 non-null   float64\n",
      " 21  label__ScreenType              1020 non-null   float64\n",
      " 22  label__Cpu                     1020 non-null   float64\n",
      " 23  label__Gpu                     1020 non-null   float64\n",
      " 24  label__Company                 1020 non-null   float64\n",
      " 25  scaling__Ram                   1020 non-null   float64\n",
      " 26  scaling__storageDisk1          1020 non-null   float64\n",
      " 27  scaling__storageDisk2          1020 non-null   float64\n",
      " 28  remainder__Inches              1020 non-null   float64\n",
      " 29  remainder__Weight              1020 non-null   float64\n",
      " 30  remainder__price               1020 non-null   float64\n",
      " 31  remainder__TouchScreen         1020 non-null   float64\n",
      " 32  remainder__CpuFrequency        1020 non-null   float64\n",
      "dtypes: float64(33)\n",
      "memory usage: 263.1 KB\n"
     ]
    }
   ],
   "source": [
    "df_transformed.info()"
   ]
  },
  {
   "cell_type": "markdown",
   "metadata": {},
   "source": [
    "## Correlation"
   ]
  },
  {
   "cell_type": "code",
   "execution_count": 63,
   "metadata": {},
   "outputs": [
    {
     "data": {
      "text/html": [
       "<style type=\"text/css\">\n",
       "#T_c3d89_row0_col0 {\n",
       "  background-color: #313695;\n",
       "  color: #f1f1f1;\n",
       "}\n",
       "#T_c3d89_row1_col0 {\n",
       "  background-color: #3f62ab;\n",
       "  color: #f1f1f1;\n",
       "}\n",
       "#T_c3d89_row2_col0 {\n",
       "  background-color: #659bc8;\n",
       "  color: #f1f1f1;\n",
       "}\n",
       "#T_c3d89_row3_col0, #T_c3d89_row4_col0 {\n",
       "  background-color: #85bbd9;\n",
       "  color: #000000;\n",
       "}\n",
       "#T_c3d89_row5_col0 {\n",
       "  background-color: #9fd0e4;\n",
       "  color: #000000;\n",
       "}\n",
       "#T_c3d89_row6_col0 {\n",
       "  background-color: #aad8e9;\n",
       "  color: #000000;\n",
       "}\n",
       "#T_c3d89_row7_col0 {\n",
       "  background-color: #c5e6f0;\n",
       "  color: #000000;\n",
       "}\n",
       "#T_c3d89_row8_col0 {\n",
       "  background-color: #def2f7;\n",
       "  color: #000000;\n",
       "}\n",
       "#T_c3d89_row9_col0 {\n",
       "  background-color: #e0f3f8;\n",
       "  color: #000000;\n",
       "}\n",
       "#T_c3d89_row10_col0 {\n",
       "  background-color: #e6f5ed;\n",
       "  color: #000000;\n",
       "}\n",
       "#T_c3d89_row11_col0 {\n",
       "  background-color: #ecf8e2;\n",
       "  color: #000000;\n",
       "}\n",
       "#T_c3d89_row12_col0 {\n",
       "  background-color: #f5fbd2;\n",
       "  color: #000000;\n",
       "}\n",
       "#T_c3d89_row13_col0 {\n",
       "  background-color: #f6fbd0;\n",
       "  color: #000000;\n",
       "}\n",
       "#T_c3d89_row14_col0 {\n",
       "  background-color: #fafdc9;\n",
       "  color: #000000;\n",
       "}\n",
       "#T_c3d89_row15_col0 {\n",
       "  background-color: #fdfec2;\n",
       "  color: #000000;\n",
       "}\n",
       "#T_c3d89_row16_col0 {\n",
       "  background-color: #feffc0;\n",
       "  color: #000000;\n",
       "}\n",
       "#T_c3d89_row17_col0 {\n",
       "  background-color: #fffbb9;\n",
       "  color: #000000;\n",
       "}\n",
       "#T_c3d89_row18_col0 {\n",
       "  background-color: #fff5af;\n",
       "  color: #000000;\n",
       "}\n",
       "#T_c3d89_row19_col0 {\n",
       "  background-color: #feea9f;\n",
       "  color: #000000;\n",
       "}\n",
       "#T_c3d89_row20_col0 {\n",
       "  background-color: #fee699;\n",
       "  color: #000000;\n",
       "}\n",
       "#T_c3d89_row21_col0 {\n",
       "  background-color: #fee597;\n",
       "  color: #000000;\n",
       "}\n",
       "#T_c3d89_row22_col0 {\n",
       "  background-color: #fee294;\n",
       "  color: #000000;\n",
       "}\n",
       "#T_c3d89_row23_col0 {\n",
       "  background-color: #fed485;\n",
       "  color: #000000;\n",
       "}\n",
       "#T_c3d89_row24_col0 {\n",
       "  background-color: #fdc173;\n",
       "  color: #000000;\n",
       "}\n",
       "#T_c3d89_row25_col0 {\n",
       "  background-color: #fdb567;\n",
       "  color: #000000;\n",
       "}\n",
       "#T_c3d89_row26_col0 {\n",
       "  background-color: #fdb164;\n",
       "  color: #000000;\n",
       "}\n",
       "#T_c3d89_row27_col0 {\n",
       "  background-color: #fba05b;\n",
       "  color: #000000;\n",
       "}\n",
       "#T_c3d89_row28_col0 {\n",
       "  background-color: #fa9656;\n",
       "  color: #000000;\n",
       "}\n",
       "#T_c3d89_row29_col0 {\n",
       "  background-color: #f16640;\n",
       "  color: #f1f1f1;\n",
       "}\n",
       "#T_c3d89_row30_col0 {\n",
       "  background-color: #d42d27;\n",
       "  color: #f1f1f1;\n",
       "}\n",
       "#T_c3d89_row31_col0 {\n",
       "  background-color: #a50026;\n",
       "  color: #f1f1f1;\n",
       "}\n",
       "</style>\n",
       "<table id=\"T_c3d89\">\n",
       "  <thead>\n",
       "    <tr>\n",
       "      <th class=\"blank level0\" >&nbsp;</th>\n",
       "      <th id=\"T_c3d89_level0_col0\" class=\"col_heading level0 col0\" >remainder__price</th>\n",
       "    </tr>\n",
       "  </thead>\n",
       "  <tbody>\n",
       "    <tr>\n",
       "      <th id=\"T_c3d89_level0_row0\" class=\"row_heading level0 row0\" >target__Product</th>\n",
       "      <td id=\"T_c3d89_row0_col0\" class=\"data row0 col0\" >0.836062</td>\n",
       "    </tr>\n",
       "    <tr>\n",
       "      <th id=\"T_c3d89_level0_row1\" class=\"row_heading level0 row1\" >scaling__Ram</th>\n",
       "      <td id=\"T_c3d89_row1_col0\" class=\"data row1 col0\" >0.733379</td>\n",
       "    </tr>\n",
       "    <tr>\n",
       "      <th id=\"T_c3d89_level0_row2\" class=\"row_heading level0 row2\" >target__resolution</th>\n",
       "      <td id=\"T_c3d89_row2_col0\" class=\"data row2 col0\" >0.599015</td>\n",
       "    </tr>\n",
       "    <tr>\n",
       "      <th id=\"T_c3d89_level0_row3\" class=\"row_heading level0 row3\" >one_hot__TypeDisk1_SSD</th>\n",
       "      <td id=\"T_c3d89_row3_col0\" class=\"data row3 col0\" >0.513827</td>\n",
       "    </tr>\n",
       "    <tr>\n",
       "      <th id=\"T_c3d89_level0_row4\" class=\"row_heading level0 row4\" >label__Cpu</th>\n",
       "      <td id=\"T_c3d89_row4_col0\" class=\"data row4 col0\" >0.511198</td>\n",
       "    </tr>\n",
       "    <tr>\n",
       "      <th id=\"T_c3d89_level0_row5\" class=\"row_heading level0 row5\" >label__Gpu</th>\n",
       "      <td id=\"T_c3d89_row5_col0\" class=\"data row5 col0\" >0.448496</td>\n",
       "    </tr>\n",
       "    <tr>\n",
       "      <th id=\"T_c3d89_level0_row6\" class=\"row_heading level0 row6\" >remainder__CpuFrequency</th>\n",
       "      <td id=\"T_c3d89_row6_col0\" class=\"data row6 col0\" >0.422277</td>\n",
       "    </tr>\n",
       "    <tr>\n",
       "      <th id=\"T_c3d89_level0_row7\" class=\"row_heading level0 row7\" >one_hot__TypeName_Gaming</th>\n",
       "      <td id=\"T_c3d89_row7_col0\" class=\"data row7 col0\" >0.351112</td>\n",
       "    </tr>\n",
       "    <tr>\n",
       "      <th id=\"T_c3d89_level0_row8\" class=\"row_heading level0 row8\" >one_hot__TypeName_Ultrabook</th>\n",
       "      <td id=\"T_c3d89_row8_col0\" class=\"data row8 col0\" >0.281471</td>\n",
       "    </tr>\n",
       "    <tr>\n",
       "      <th id=\"T_c3d89_level0_row9\" class=\"row_heading level0 row9\" >scaling__storageDisk2</th>\n",
       "      <td id=\"T_c3d89_row9_col0\" class=\"data row9 col0\" >0.277645</td>\n",
       "    </tr>\n",
       "    <tr>\n",
       "      <th id=\"T_c3d89_level0_row10\" class=\"row_heading level0 row10\" >one_hot__TypeName_Workstation</th>\n",
       "      <td id=\"T_c3d89_row10_col0\" class=\"data row10 col0\" >0.250369</td>\n",
       "    </tr>\n",
       "    <tr>\n",
       "      <th id=\"T_c3d89_level0_row11\" class=\"row_heading level0 row11\" >label__ScreenType</th>\n",
       "      <td id=\"T_c3d89_row11_col0\" class=\"data row11 col0\" >0.222886</td>\n",
       "    </tr>\n",
       "    <tr>\n",
       "      <th id=\"T_c3d89_level0_row12\" class=\"row_heading level0 row12\" >remainder__TouchScreen</th>\n",
       "      <td id=\"T_c3d89_row12_col0\" class=\"data row12 col0\" >0.188617</td>\n",
       "    </tr>\n",
       "    <tr>\n",
       "      <th id=\"T_c3d89_level0_row13\" class=\"row_heading level0 row13\" >remainder__Weight</th>\n",
       "      <td id=\"T_c3d89_row13_col0\" class=\"data row13 col0\" >0.178861</td>\n",
       "    </tr>\n",
       "    <tr>\n",
       "      <th id=\"T_c3d89_level0_row14\" class=\"row_heading level0 row14\" >one_hot__OpSys_Windows 7</th>\n",
       "      <td id=\"T_c3d89_row14_col0\" class=\"data row14 col0\" >0.161657</td>\n",
       "    </tr>\n",
       "    <tr>\n",
       "      <th id=\"T_c3d89_level0_row15\" class=\"row_heading level0 row15\" >one_hot__OpSys_Windows 10</th>\n",
       "      <td id=\"T_c3d89_row15_col0\" class=\"data row15 col0\" >0.150524</td>\n",
       "    </tr>\n",
       "    <tr>\n",
       "      <th id=\"T_c3d89_level0_row16\" class=\"row_heading level0 row16\" >label__Company</th>\n",
       "      <td id=\"T_c3d89_row16_col0\" class=\"data row16 col0\" >0.144897</td>\n",
       "    </tr>\n",
       "    <tr>\n",
       "      <th id=\"T_c3d89_level0_row17\" class=\"row_heading level0 row17\" >one_hot__TypeDisk2_Hybrid</th>\n",
       "      <td id=\"T_c3d89_row17_col0\" class=\"data row17 col0\" >0.118583</td>\n",
       "    </tr>\n",
       "    <tr>\n",
       "      <th id=\"T_c3d89_level0_row18\" class=\"row_heading level0 row18\" >one_hot__OpSys_macOS</th>\n",
       "      <td id=\"T_c3d89_row18_col0\" class=\"data row18 col0\" >0.093750</td>\n",
       "    </tr>\n",
       "    <tr>\n",
       "      <th id=\"T_c3d89_level0_row19\" class=\"row_heading level0 row19\" >remainder__Inches</th>\n",
       "      <td id=\"T_c3d89_row19_col0\" class=\"data row19 col0\" >0.045676</td>\n",
       "    </tr>\n",
       "    <tr>\n",
       "      <th id=\"T_c3d89_level0_row20\" class=\"row_heading level0 row20\" >one_hot__TypeDisk2_SSD</th>\n",
       "      <td id=\"T_c3d89_row20_col0\" class=\"data row20 col0\" >0.026594</td>\n",
       "    </tr>\n",
       "    <tr>\n",
       "      <th id=\"T_c3d89_level0_row21\" class=\"row_heading level0 row21\" >one_hot__OpSys_Mac OS X</th>\n",
       "      <td id=\"T_c3d89_row21_col0\" class=\"data row21 col0\" >0.020482</td>\n",
       "    </tr>\n",
       "    <tr>\n",
       "      <th id=\"T_c3d89_level0_row22\" class=\"row_heading level0 row22\" >one_hot__OpSys_Windows 10 S</th>\n",
       "      <td id=\"T_c3d89_row22_col0\" class=\"data row22 col0\" >0.010762</td>\n",
       "    </tr>\n",
       "    <tr>\n",
       "      <th id=\"T_c3d89_level0_row23\" class=\"row_heading level0 row23\" >one_hot__TypeDisk1_Hybrid</th>\n",
       "      <td id=\"T_c3d89_row23_col0\" class=\"data row23 col0\" >-0.033774</td>\n",
       "    </tr>\n",
       "    <tr>\n",
       "      <th id=\"T_c3d89_level0_row24\" class=\"row_heading level0 row24\" >one_hot__TypeName_Netbook</th>\n",
       "      <td id=\"T_c3d89_row24_col0\" class=\"data row24 col0\" >-0.088676</td>\n",
       "    </tr>\n",
       "    <tr>\n",
       "      <th id=\"T_c3d89_level0_row25\" class=\"row_heading level0 row25\" >scaling__storageDisk1</th>\n",
       "      <td id=\"T_c3d89_row25_col0\" class=\"data row25 col0\" >-0.119049</td>\n",
       "    </tr>\n",
       "    <tr>\n",
       "      <th id=\"T_c3d89_level0_row26\" class=\"row_heading level0 row26\" >one_hot__OpSys_Chrome OS</th>\n",
       "      <td id=\"T_c3d89_row26_col0\" class=\"data row26 col0\" >-0.130169</td>\n",
       "    </tr>\n",
       "    <tr>\n",
       "      <th id=\"T_c3d89_level0_row27\" class=\"row_heading level0 row27\" >one_hot__OpSys_Linux</th>\n",
       "      <td id=\"T_c3d89_row27_col0\" class=\"data row27 col0\" >-0.169618</td>\n",
       "    </tr>\n",
       "    <tr>\n",
       "      <th id=\"T_c3d89_level0_row28\" class=\"row_heading level0 row28\" >one_hot__OpSys_No OS</th>\n",
       "      <td id=\"T_c3d89_row28_col0\" class=\"data row28 col0\" >-0.187725</td>\n",
       "    </tr>\n",
       "    <tr>\n",
       "      <th id=\"T_c3d89_level0_row29\" class=\"row_heading level0 row29\" >one_hot__TypeDisk2_NaN</th>\n",
       "      <td id=\"T_c3d89_row29_col0\" class=\"data row29 col0\" >-0.291735</td>\n",
       "    </tr>\n",
       "    <tr>\n",
       "      <th id=\"T_c3d89_level0_row30\" class=\"row_heading level0 row30\" >one_hot__TypeDisk1_HDD</th>\n",
       "      <td id=\"T_c3d89_row30_col0\" class=\"data row30 col0\" >-0.423889</td>\n",
       "    </tr>\n",
       "    <tr>\n",
       "      <th id=\"T_c3d89_level0_row31\" class=\"row_heading level0 row31\" >one_hot__TypeName_Notebook</th>\n",
       "      <td id=\"T_c3d89_row31_col0\" class=\"data row31 col0\" >-0.556746</td>\n",
       "    </tr>\n",
       "  </tbody>\n",
       "</table>\n"
      ],
      "text/plain": [
       "<pandas.io.formats.style.Styler at 0x1a1637b4080>"
      ]
     },
     "execution_count": 63,
     "metadata": {},
     "output_type": "execute_result"
    }
   ],
   "source": [
    "corr = df_transformed.corr()['remainder__price'].sort_values(ascending=False)\n",
    "corr = corr.to_frame().drop(['remainder__price'])\n",
    "corr.style.background_gradient(cmap=\"RdYlBu\")"
   ]
  },
  {
   "cell_type": "markdown",
   "metadata": {},
   "source": [
    "## Modeling "
   ]
  },
  {
   "cell_type": "markdown",
   "metadata": {},
   "source": [
    "We will apply does algorithm to see what is the best one:\n",
    "\n",
    "- Linear Regression (LinearRegression)\n",
    "- Ridge Regression (Ridge)\n",
    "- Lasso Regression (Lasso)\n",
    "- Random Forest Regressor (RandomForestRegressor)\n",
    "- Gradient Boosting Regressor (GradientBoostingRegressor)\n",
    "- Support Vector Regressor (SVR) (SVR)\n",
    "- XGBoost Regressor (XGBRegressor)"
   ]
  },
  {
   "cell_type": "code",
   "execution_count": 64,
   "metadata": {},
   "outputs": [],
   "source": [
    "X = df_transformed.drop(columns=['remainder__price'])\n",
    "y = df_transformed['remainder__price']"
   ]
  },
  {
   "cell_type": "code",
   "execution_count": 65,
   "metadata": {},
   "outputs": [],
   "source": [
    "X_train_, X_test_, y_train_, y_test_ = train_test_split(X, y, test_size=0.2, random_state=42)"
   ]
  },
  {
   "cell_type": "code",
   "execution_count": 67,
   "metadata": {},
   "outputs": [
    {
     "name": "stdout",
     "output_type": "stream",
     "text": [
      "Linear Regression:MSE=106120.827, R²=0.840\n",
      "Ridge Regression:MSE=105377.796, R²=0.841\n",
      "Lasso Regression:MSE=104334.177, R²=0.843\n",
      "Random Forest:MSE=62135.057, R²=0.906\n",
      "Gradient Boosting:MSE=61432.326, R²=0.907\n",
      "Support Vector Regressor:MSE=657927.096, R²=0.009\n",
      "XGBoost:MSE=60753.771, R²=0.908\n"
     ]
    }
   ],
   "source": [
    "models = {\n",
    "    'Linear Regression': LinearRegression(),\n",
    "    'Ridge Regression': Ridge(),\n",
    "    'Lasso Regression': Lasso(),\n",
    "    'Random Forest': RandomForestRegressor(),\n",
    "    'Gradient Boosting': GradientBoostingRegressor(),\n",
    "    'Support Vector Regressor': SVR(),\n",
    "    'XGBoost': XGBRegressor()\n",
    "}\n",
    "\n",
    "\n",
    "def evaluate_model(model,X_train_, X_test_, y_train_, y_test_):\n",
    "    model.fit(X_train_, y_train_)\n",
    "    y_pred = model.predict(X_test_)\n",
    "    mse = mean_squared_error(y_test_, y_pred)\n",
    "    r2 = r2_score(y_test_, y_pred)\n",
    "    return mse, r2\n",
    "\n",
    "\n",
    "\n",
    "results = {}\n",
    "for name, model in models.items():\n",
    "    mse, r2 = evaluate_model(model, X_train_, X_test_, y_train_, y_test_)\n",
    "    results[name] = {'MSE': mse, 'R²': r2}\n",
    "\n",
    "for name, metrics in results.items():\n",
    "    print(f\"{name}:MSE={metrics['MSE']:.3f}, R²={metrics['R²']:.3f}\")"
   ]
  },
  {
   "cell_type": "markdown",
   "metadata": {},
   "source": [
    "#### The best ine is **XGBoost**"
   ]
  },
  {
   "cell_type": "markdown",
   "metadata": {},
   "source": [
    "#### with the help on ***optuna*** we will get the best parameter to improve the performance "
   ]
  },
  {
   "cell_type": "code",
   "execution_count": 68,
   "metadata": {},
   "outputs": [],
   "source": [
    "xgboost = XGBRegressor()\n",
    "\n",
    "def objective(trial, X_train=X_train_, X_test=X_test_, y_train=y_train_, y_test=y_test_):\n",
    "    param = {\n",
    "        'objective' : 'reg:squarederror',\n",
    "        'lambda': trial.suggest_loguniform('lambda', 1e-3, 5.0),\n",
    "        'alpha': trial.suggest_loguniform('alpha', 1e-3, 5.0),\n",
    "        'colsample_bytree': trial.suggest_categorical('colsample_bytree', [0.3,0.4,0.5,0.6,0.7,0.8,0.9,1.0]),\n",
    "        'subsample': trial.suggest_categorical('subsample', [0.4,0.5,0.6,0.7,0.8,1.0]),\n",
    "        'learning_rate': trial.suggest_categorical('learning_rate', [0.001,0.01,0.05,0.1,0.2,0.25,0.3]),\n",
    "        'n_estimators': trial.suggest_categorical('n_estimators', [300,400,500,1000,1500,2000,2500,3000]),\n",
    "        'max_depth': trial.suggest_categorical('max_depth', [3,4,5,6,7]),\n",
    "        'min_child_weight': trial.suggest_int('min_child_weight', 1, 100),\n",
    "    }\n",
    "\n",
    "\n",
    "    model = XGBRegressor(**param)\n",
    "    model.fit(X_train_, y_train_, \n",
    "              eval_set=[(X_test_, y_test_)], \n",
    "              verbose=False)   \n",
    "    preds = model.predict(X_test_)\n",
    "    rmse = mean_squared_error(y_test, preds, squared=False)\n",
    "\n",
    "    return rmse"
   ]
  },
  {
   "cell_type": "code",
   "execution_count": 69,
   "metadata": {},
   "outputs": [
    {
     "name": "stderr",
     "output_type": "stream",
     "text": [
      "[I 2024-09-12 21:26:49,516] A new study created in memory with name: no-name-0bac5bca-39e1-4fa6-9bc0-53ebdc546592\n",
      "[I 2024-09-12 21:26:49,794] Trial 0 finished with value: 631.3149527309034 and parameters: {'lambda': 0.13611911236589527, 'alpha': 0.04757443410851285, 'colsample_bytree': 0.9, 'subsample': 0.6, 'learning_rate': 0.001, 'n_estimators': 400, 'max_depth': 4, 'min_child_weight': 14}. Best is trial 0 with value: 631.3149527309034.\n",
      "[I 2024-09-12 21:26:50,386] Trial 1 finished with value: 262.76786233514844 and parameters: {'lambda': 0.29127948763344996, 'alpha': 0.07276524943176202, 'colsample_bytree': 0.6, 'subsample': 0.5, 'learning_rate': 0.3, 'n_estimators': 1000, 'max_depth': 3, 'min_child_weight': 24}. Best is trial 1 with value: 262.76786233514844.\n",
      "[I 2024-09-12 21:26:52,706] Trial 2 finished with value: 323.65890929676095 and parameters: {'lambda': 0.008871974327028501, 'alpha': 0.023928931234932817, 'colsample_bytree': 1.0, 'subsample': 0.7, 'learning_rate': 0.001, 'n_estimators': 3000, 'max_depth': 6, 'min_child_weight': 34}. Best is trial 1 with value: 262.76786233514844.\n",
      "[I 2024-09-12 21:26:53,840] Trial 3 finished with value: 275.6899922228099 and parameters: {'lambda': 3.193059956208215, 'alpha': 0.003034405189886694, 'colsample_bytree': 0.5, 'subsample': 1.0, 'learning_rate': 0.25, 'n_estimators': 1500, 'max_depth': 4, 'min_child_weight': 31}. Best is trial 1 with value: 262.76786233514844.\n",
      "[I 2024-09-12 21:26:54,100] Trial 4 finished with value: 278.17767728843955 and parameters: {'lambda': 0.3611694755080125, 'alpha': 0.3819233291307584, 'colsample_bytree': 0.4, 'subsample': 0.8, 'learning_rate': 0.25, 'n_estimators': 300, 'max_depth': 4, 'min_child_weight': 38}. Best is trial 1 with value: 262.76786233514844.\n",
      "[I 2024-09-12 21:26:54,309] Trial 5 finished with value: 302.47374124607467 and parameters: {'lambda': 2.150302927888459, 'alpha': 0.0010400306275431407, 'colsample_bytree': 0.7, 'subsample': 0.6, 'learning_rate': 0.05, 'n_estimators': 300, 'max_depth': 5, 'min_child_weight': 51}. Best is trial 1 with value: 262.76786233514844.\n",
      "[I 2024-09-12 21:26:54,626] Trial 6 finished with value: 274.03683269580745 and parameters: {'lambda': 0.1824252124652267, 'alpha': 0.06530243997132677, 'colsample_bytree': 1.0, 'subsample': 0.5, 'learning_rate': 0.1, 'n_estimators': 400, 'max_depth': 6, 'min_child_weight': 36}. Best is trial 1 with value: 262.76786233514844.\n",
      "[I 2024-09-12 21:26:54,877] Trial 7 finished with value: 280.81120649378954 and parameters: {'lambda': 0.019899880716715633, 'alpha': 0.0037998859576730912, 'colsample_bytree': 0.3, 'subsample': 0.6, 'learning_rate': 0.2, 'n_estimators': 300, 'max_depth': 6, 'min_child_weight': 35}. Best is trial 1 with value: 262.76786233514844.\n",
      "[I 2024-09-12 21:26:56,567] Trial 8 finished with value: 341.72399204222125 and parameters: {'lambda': 0.0035871703065314406, 'alpha': 0.0015867603027340798, 'colsample_bytree': 1.0, 'subsample': 0.5, 'learning_rate': 0.01, 'n_estimators': 2500, 'max_depth': 4, 'min_child_weight': 84}. Best is trial 1 with value: 262.76786233514844.\n",
      "[I 2024-09-12 21:26:57,326] Trial 9 finished with value: 268.17901935767736 and parameters: {'lambda': 0.007433475378819028, 'alpha': 0.33583640585613583, 'colsample_bytree': 0.8, 'subsample': 0.8, 'learning_rate': 0.3, 'n_estimators': 1000, 'max_depth': 5, 'min_child_weight': 31}. Best is trial 1 with value: 262.76786233514844.\n",
      "[I 2024-09-12 21:26:57,964] Trial 10 finished with value: 269.4115208171804 and parameters: {'lambda': 0.6226845691412631, 'alpha': 4.516589628641599, 'colsample_bytree': 0.6, 'subsample': 0.4, 'learning_rate': 0.3, 'n_estimators': 1000, 'max_depth': 3, 'min_child_weight': 1}. Best is trial 1 with value: 262.76786233514844.\n",
      "[I 2024-09-12 21:26:58,606] Trial 11 finished with value: 257.6273323552425 and parameters: {'lambda': 0.03265408951240238, 'alpha': 0.4784727216080656, 'colsample_bytree': 0.8, 'subsample': 0.8, 'learning_rate': 0.3, 'n_estimators': 1000, 'max_depth': 3, 'min_child_weight': 66}. Best is trial 11 with value: 257.6273323552425.\n",
      "[I 2024-09-12 21:26:59,368] Trial 12 finished with value: 276.542689850846 and parameters: {'lambda': 0.04118206180957872, 'alpha': 0.5251586894599491, 'colsample_bytree': 0.8, 'subsample': 0.8, 'learning_rate': 0.3, 'n_estimators': 1000, 'max_depth': 3, 'min_child_weight': 71}. Best is trial 11 with value: 257.6273323552425.\n",
      "[I 2024-09-12 21:26:59,860] Trial 13 finished with value: 285.73246081874345 and parameters: {'lambda': 0.0010971562525052604, 'alpha': 2.17258553192225, 'colsample_bytree': 0.6, 'subsample': 0.5, 'learning_rate': 0.3, 'n_estimators': 500, 'max_depth': 7, 'min_child_weight': 58}. Best is trial 11 with value: 257.6273323552425.\n",
      "[I 2024-09-12 21:27:01,430] Trial 14 finished with value: 284.7246494498302 and parameters: {'lambda': 0.05289538652875597, 'alpha': 0.019154709262232148, 'colsample_bytree': 0.6, 'subsample': 1.0, 'learning_rate': 0.3, 'n_estimators': 2000, 'max_depth': 3, 'min_child_weight': 99}. Best is trial 11 with value: 257.6273323552425.\n",
      "[I 2024-09-12 21:27:02,087] Trial 15 finished with value: 311.6275537803161 and parameters: {'lambda': 0.9100359803612719, 'alpha': 0.16971152269091, 'colsample_bytree': 0.8, 'subsample': 0.4, 'learning_rate': 0.1, 'n_estimators': 1000, 'max_depth': 3, 'min_child_weight': 69}. Best is trial 11 with value: 257.6273323552425.\n",
      "[I 2024-09-12 21:27:02,725] Trial 16 finished with value: 266.67242421157414 and parameters: {'lambda': 0.12485637473346428, 'alpha': 1.109210158972643, 'colsample_bytree': 0.7, 'subsample': 0.7, 'learning_rate': 0.2, 'n_estimators': 1000, 'max_depth': 3, 'min_child_weight': 17}. Best is trial 11 with value: 257.6273323552425.\n",
      "[I 2024-09-12 21:27:03,130] Trial 17 finished with value: 332.83664862644355 and parameters: {'lambda': 0.020260387657827686, 'alpha': 0.17737699214321856, 'colsample_bytree': 0.5, 'subsample': 0.8, 'learning_rate': 0.01, 'n_estimators': 500, 'max_depth': 7, 'min_child_weight': 64}. Best is trial 11 with value: 257.6273323552425.\n",
      "[I 2024-09-12 21:27:04,691] Trial 18 finished with value: 304.54913153317773 and parameters: {'lambda': 0.2557150775508941, 'alpha': 0.011595680067832959, 'colsample_bytree': 0.9, 'subsample': 0.5, 'learning_rate': 0.05, 'n_estimators': 2500, 'max_depth': 3, 'min_child_weight': 81}. Best is trial 11 with value: 257.6273323552425.\n",
      "[I 2024-09-12 21:27:06,814] Trial 19 finished with value: 260.4779963391979 and parameters: {'lambda': 1.177776749621459, 'alpha': 1.0198416046925851, 'colsample_bytree': 0.4, 'subsample': 0.8, 'learning_rate': 0.3, 'n_estimators': 3000, 'max_depth': 3, 'min_child_weight': 47}. Best is trial 11 with value: 257.6273323552425.\n",
      "[I 2024-09-12 21:27:09,082] Trial 20 finished with value: 256.98449793254105 and parameters: {'lambda': 1.3222420628299205, 'alpha': 0.9952569503397025, 'colsample_bytree': 0.4, 'subsample': 0.8, 'learning_rate': 0.3, 'n_estimators': 3000, 'max_depth': 3, 'min_child_weight': 47}. Best is trial 20 with value: 256.98449793254105.\n",
      "[I 2024-09-12 21:27:11,331] Trial 21 finished with value: 252.4948806690893 and parameters: {'lambda': 1.4927918471502126, 'alpha': 1.0694459346616045, 'colsample_bytree': 0.4, 'subsample': 0.8, 'learning_rate': 0.3, 'n_estimators': 3000, 'max_depth': 3, 'min_child_weight': 50}. Best is trial 21 with value: 252.4948806690893.\n",
      "[I 2024-09-12 21:27:13,345] Trial 22 finished with value: 248.0690111817296 and parameters: {'lambda': 4.462955271688101, 'alpha': 4.5985446360525115, 'colsample_bytree': 0.4, 'subsample': 0.8, 'learning_rate': 0.3, 'n_estimators': 3000, 'max_depth': 3, 'min_child_weight': 49}. Best is trial 22 with value: 248.0690111817296.\n",
      "[I 2024-09-12 21:27:15,703] Trial 23 finished with value: 255.08410218032864 and parameters: {'lambda': 4.078584564567003, 'alpha': 4.482135806551105, 'colsample_bytree': 0.4, 'subsample': 0.8, 'learning_rate': 0.3, 'n_estimators': 3000, 'max_depth': 3, 'min_child_weight': 48}. Best is trial 22 with value: 248.0690111817296.\n",
      "[I 2024-09-12 21:27:17,986] Trial 24 finished with value: 254.26430708307112 and parameters: {'lambda': 4.167296851433465, 'alpha': 4.179981403965939, 'colsample_bytree': 0.4, 'subsample': 0.8, 'learning_rate': 0.3, 'n_estimators': 3000, 'max_depth': 3, 'min_child_weight': 52}. Best is trial 22 with value: 248.0690111817296.\n",
      "[I 2024-09-12 21:27:20,668] Trial 25 finished with value: 250.75206168366896 and parameters: {'lambda': 2.181159786294309, 'alpha': 2.331309525653953, 'colsample_bytree': 0.4, 'subsample': 0.8, 'learning_rate': 0.3, 'n_estimators': 3000, 'max_depth': 7, 'min_child_weight': 57}. Best is trial 22 with value: 248.0690111817296.\n",
      "[I 2024-09-12 21:27:23,656] Trial 26 finished with value: 301.8511987036253 and parameters: {'lambda': 2.0226256195945016, 'alpha': 2.1600086467331536, 'colsample_bytree': 0.4, 'subsample': 0.8, 'learning_rate': 0.01, 'n_estimators': 3000, 'max_depth': 7, 'min_child_weight': 77}. Best is trial 22 with value: 248.0690111817296.\n",
      "[I 2024-09-12 21:27:26,600] Trial 27 finished with value: 380.5485614138287 and parameters: {'lambda': 0.749809969711269, 'alpha': 2.2642267247356456, 'colsample_bytree': 0.4, 'subsample': 0.8, 'learning_rate': 0.001, 'n_estimators': 3000, 'max_depth': 7, 'min_child_weight': 62}. Best is trial 22 with value: 248.0690111817296.\n",
      "[I 2024-09-12 21:27:28,893] Trial 28 finished with value: 265.4856672976356 and parameters: {'lambda': 2.0377969004565686, 'alpha': 1.8689209727275373, 'colsample_bytree': 0.3, 'subsample': 1.0, 'learning_rate': 0.2, 'n_estimators': 2000, 'max_depth': 7, 'min_child_weight': 55}. Best is trial 22 with value: 248.0690111817296.\n",
      "[I 2024-09-12 21:27:30,189] Trial 29 finished with value: 273.5641400758512 and parameters: {'lambda': 0.5817815671638349, 'alpha': 0.7595611997321164, 'colsample_bytree': 0.9, 'subsample': 0.4, 'learning_rate': 0.25, 'n_estimators': 1500, 'max_depth': 5, 'min_child_weight': 42}. Best is trial 22 with value: 248.0690111817296.\n",
      "[I 2024-09-12 21:27:30,627] Trial 30 finished with value: 314.73994537096155 and parameters: {'lambda': 4.914727369272821, 'alpha': 0.15239954644097595, 'colsample_bytree': 0.4, 'subsample': 0.7, 'learning_rate': 0.1, 'n_estimators': 400, 'max_depth': 7, 'min_child_weight': 94}. Best is trial 22 with value: 248.0690111817296.\n",
      "[I 2024-09-12 21:27:33,086] Trial 31 finished with value: 243.9126497990596 and parameters: {'lambda': 2.231169364814, 'alpha': 4.844266113067927, 'colsample_bytree': 0.4, 'subsample': 0.8, 'learning_rate': 0.3, 'n_estimators': 3000, 'max_depth': 3, 'min_child_weight': 55}. Best is trial 31 with value: 243.9126497990596.\n",
      "[I 2024-09-12 21:27:35,624] Trial 32 finished with value: 252.07439975324422 and parameters: {'lambda': 1.7130325495193741, 'alpha': 3.0060735759106176, 'colsample_bytree': 0.4, 'subsample': 0.8, 'learning_rate': 0.3, 'n_estimators': 3000, 'max_depth': 3, 'min_child_weight': 56}. Best is trial 31 with value: 243.9126497990596.\n",
      "[I 2024-09-12 21:27:38,931] Trial 33 finished with value: 252.5231202104026 and parameters: {'lambda': 2.437639683793574, 'alpha': 3.027891221442469, 'colsample_bytree': 0.4, 'subsample': 0.8, 'learning_rate': 0.3, 'n_estimators': 3000, 'max_depth': 6, 'min_child_weight': 56}. Best is trial 31 with value: 243.9126497990596.\n",
      "[I 2024-09-12 21:27:41,521] Trial 34 finished with value: 389.68075112433024 and parameters: {'lambda': 0.4173854414245797, 'alpha': 1.611612842539452, 'colsample_bytree': 0.4, 'subsample': 0.6, 'learning_rate': 0.001, 'n_estimators': 3000, 'max_depth': 3, 'min_child_weight': 60}. Best is trial 31 with value: 243.9126497990596.\n",
      "[I 2024-09-12 21:27:44,504] Trial 35 finished with value: 266.82369210722686 and parameters: {'lambda': 2.647713296557416, 'alpha': 4.939183790261943, 'colsample_bytree': 0.4, 'subsample': 0.8, 'learning_rate': 0.3, 'n_estimators': 3000, 'max_depth': 4, 'min_child_weight': 42}. Best is trial 31 with value: 243.9126497990596.\n",
      "[I 2024-09-12 21:27:48,890] Trial 36 finished with value: 278.55078470104723 and parameters: {'lambda': 1.23072828669169, 'alpha': 3.140114399022704, 'colsample_bytree': 0.5, 'subsample': 0.8, 'learning_rate': 0.05, 'n_estimators': 3000, 'max_depth': 7, 'min_child_weight': 24}. Best is trial 31 with value: 243.9126497990596.\n",
      "[I 2024-09-12 21:27:50,427] Trial 37 finished with value: 276.1765961738103 and parameters: {'lambda': 3.252403540660846, 'alpha': 3.022596781292967, 'colsample_bytree': 0.7, 'subsample': 0.7, 'learning_rate': 0.25, 'n_estimators': 1500, 'max_depth': 5, 'min_child_weight': 71}. Best is trial 31 with value: 243.9126497990596.\n",
      "[I 2024-09-12 21:27:53,953] Trial 38 finished with value: 279.5236160708368 and parameters: {'lambda': 0.10637761401810604, 'alpha': 1.6080165756844673, 'colsample_bytree': 0.4, 'subsample': 0.8, 'learning_rate': 0.3, 'n_estimators': 3000, 'max_depth': 6, 'min_child_weight': 42}. Best is trial 31 with value: 243.9126497990596.\n",
      "[I 2024-09-12 21:27:54,421] Trial 39 finished with value: 671.0635502870442 and parameters: {'lambda': 0.36862437149892324, 'alpha': 0.3108480141429514, 'colsample_bytree': 0.3, 'subsample': 1.0, 'learning_rate': 0.001, 'n_estimators': 400, 'max_depth': 4, 'min_child_weight': 28}. Best is trial 31 with value: 243.9126497990596.\n",
      "[I 2024-09-12 21:27:54,716] Trial 40 finished with value: 300.3221804285115 and parameters: {'lambda': 0.22937460281018704, 'alpha': 0.683297026887987, 'colsample_bytree': 1.0, 'subsample': 0.6, 'learning_rate': 0.3, 'n_estimators': 300, 'max_depth': 3, 'min_child_weight': 78}. Best is trial 31 with value: 243.9126497990596.\n",
      "[I 2024-09-12 21:27:57,504] Trial 41 finished with value: 251.64904537598042 and parameters: {'lambda': 1.4532007649821015, 'alpha': 1.360405310707897, 'colsample_bytree': 0.4, 'subsample': 0.8, 'learning_rate': 0.3, 'n_estimators': 3000, 'max_depth': 3, 'min_child_weight': 53}. Best is trial 31 with value: 243.9126497990596.\n",
      "[I 2024-09-12 21:27:59,852] Trial 42 finished with value: 248.68244451363563 and parameters: {'lambda': 1.5702302325458717, 'alpha': 1.5414972115277716, 'colsample_bytree': 0.4, 'subsample': 0.8, 'learning_rate': 0.3, 'n_estimators': 3000, 'max_depth': 3, 'min_child_weight': 55}. Best is trial 31 with value: 243.9126497990596.\n",
      "[I 2024-09-12 21:28:02,084] Trial 43 finished with value: 265.7193409840949 and parameters: {'lambda': 0.8909891493010746, 'alpha': 1.3729294609047298, 'colsample_bytree': 0.4, 'subsample': 0.8, 'learning_rate': 0.3, 'n_estimators': 3000, 'max_depth': 3, 'min_child_weight': 42}. Best is trial 31 with value: 243.9126497990596.\n",
      "[I 2024-09-12 21:28:04,050] Trial 44 finished with value: 255.85385351208404 and parameters: {'lambda': 2.8957790414961493, 'alpha': 0.03882145546163851, 'colsample_bytree': 0.4, 'subsample': 0.8, 'learning_rate': 0.3, 'n_estimators': 2500, 'max_depth': 3, 'min_child_weight': 53}. Best is trial 31 with value: 243.9126497990596.\n",
      "[I 2024-09-12 21:28:06,322] Trial 45 finished with value: 261.2094769930386 and parameters: {'lambda': 0.5829426169382419, 'alpha': 0.681959982574425, 'colsample_bytree': 0.9, 'subsample': 0.8, 'learning_rate': 0.05, 'n_estimators': 3000, 'max_depth': 3, 'min_child_weight': 66}. Best is trial 31 with value: 243.9126497990596.\n",
      "[I 2024-09-12 21:28:07,051] Trial 46 finished with value: 278.8875029610839 and parameters: {'lambda': 3.1976123123615974, 'alpha': 2.8223025416236265, 'colsample_bytree': 0.4, 'subsample': 0.4, 'learning_rate': 0.3, 'n_estimators': 500, 'max_depth': 5, 'min_child_weight': 38}. Best is trial 31 with value: 243.9126497990596.\n",
      "[I 2024-09-12 21:28:09,326] Trial 47 finished with value: 254.6230370829036 and parameters: {'lambda': 1.0855243545428954, 'alpha': 1.497723330129286, 'colsample_bytree': 1.0, 'subsample': 0.8, 'learning_rate': 0.1, 'n_estimators': 2000, 'max_depth': 6, 'min_child_weight': 60}. Best is trial 31 with value: 243.9126497990596.\n",
      "[I 2024-09-12 21:28:09,638] Trial 48 finished with value: 284.48530386663924 and parameters: {'lambda': 4.792064687702125, 'alpha': 4.998585220478069, 'colsample_bytree': 0.5, 'subsample': 0.5, 'learning_rate': 0.2, 'n_estimators': 300, 'max_depth': 4, 'min_child_weight': 46}. Best is trial 31 with value: 243.9126497990596.\n",
      "[I 2024-09-12 21:28:12,073] Trial 49 finished with value: 282.68469431362854 and parameters: {'lambda': 1.8260184123063916, 'alpha': 0.45761684165758804, 'colsample_bytree': 0.6, 'subsample': 0.6, 'learning_rate': 0.3, 'n_estimators': 3000, 'max_depth': 3, 'min_child_weight': 69}. Best is trial 31 with value: 243.9126497990596.\n",
      "[I 2024-09-12 21:28:14,330] Trial 50 finished with value: 280.3391107596864 and parameters: {'lambda': 0.5674296683598467, 'alpha': 0.11839285756743254, 'colsample_bytree': 0.7, 'subsample': 0.8, 'learning_rate': 0.01, 'n_estimators': 1500, 'max_depth': 7, 'min_child_weight': 36}. Best is trial 31 with value: 243.9126497990596.\n",
      "[I 2024-09-12 21:28:17,861] Trial 51 finished with value: 250.2800917684975 and parameters: {'lambda': 1.585997199272817, 'alpha': 3.1136144952513365, 'colsample_bytree': 0.4, 'subsample': 0.8, 'learning_rate': 0.3, 'n_estimators': 3000, 'max_depth': 3, 'min_child_weight': 56}. Best is trial 31 with value: 243.9126497990596.\n",
      "[I 2024-09-12 21:28:21,105] Trial 52 finished with value: 251.22759152417058 and parameters: {'lambda': 1.749417267243116, 'alpha': 3.4295053113255696, 'colsample_bytree': 0.4, 'subsample': 0.8, 'learning_rate': 0.3, 'n_estimators': 3000, 'max_depth': 3, 'min_child_weight': 58}. Best is trial 31 with value: 243.9126497990596.\n",
      "[I 2024-09-12 21:28:24,603] Trial 53 finished with value: 254.70580790931723 and parameters: {'lambda': 3.423172489532514, 'alpha': 2.34527711311337, 'colsample_bytree': 0.4, 'subsample': 0.8, 'learning_rate': 0.3, 'n_estimators': 3000, 'max_depth': 3, 'min_child_weight': 63}. Best is trial 31 with value: 243.9126497990596.\n",
      "[I 2024-09-12 21:28:27,869] Trial 54 finished with value: 250.72491413192157 and parameters: {'lambda': 0.8981706811756058, 'alpha': 3.5388341976508775, 'colsample_bytree': 0.4, 'subsample': 0.8, 'learning_rate': 0.3, 'n_estimators': 3000, 'max_depth': 3, 'min_child_weight': 59}. Best is trial 31 with value: 243.9126497990596.\n",
      "[I 2024-09-12 21:28:30,117] Trial 55 finished with value: 259.59113100175233 and parameters: {'lambda': 0.9710629006126256, 'alpha': 0.0070861878181031545, 'colsample_bytree': 0.8, 'subsample': 1.0, 'learning_rate': 0.25, 'n_estimators': 2500, 'max_depth': 3, 'min_child_weight': 75}. Best is trial 31 with value: 243.9126497990596.\n",
      "[I 2024-09-12 21:28:33,662] Trial 56 finished with value: 260.6088267375224 and parameters: {'lambda': 2.6696861456272876, 'alpha': 3.819825478414767, 'colsample_bytree': 0.4, 'subsample': 0.8, 'learning_rate': 0.3, 'n_estimators': 3000, 'max_depth': 3, 'min_child_weight': 3}. Best is trial 31 with value: 243.9126497990596.\n",
      "[I 2024-09-12 21:28:34,335] Trial 57 finished with value: 286.04276506990453 and parameters: {'lambda': 0.7594499908067368, 'alpha': 0.26586057033664384, 'colsample_bytree': 0.3, 'subsample': 0.7, 'learning_rate': 0.3, 'n_estimators': 500, 'max_depth': 3, 'min_child_weight': 65}. Best is trial 31 with value: 243.9126497990596.\n",
      "[I 2024-09-12 21:28:34,905] Trial 58 finished with value: 261.74721652554445 and parameters: {'lambda': 0.4494045482260724, 'alpha': 2.1564621696632615, 'colsample_bytree': 0.4, 'subsample': 0.8, 'learning_rate': 0.3, 'n_estimators': 400, 'max_depth': 3, 'min_child_weight': 51}. Best is trial 31 with value: 243.9126497990596.\n",
      "[I 2024-09-12 21:28:38,163] Trial 59 finished with value: 280.9097446867758 and parameters: {'lambda': 0.006053175581560922, 'alpha': 0.8522108275226253, 'colsample_bytree': 0.4, 'subsample': 0.5, 'learning_rate': 0.3, 'n_estimators': 3000, 'max_depth': 7, 'min_child_weight': 59}. Best is trial 31 with value: 243.9126497990596.\n",
      "[I 2024-09-12 21:28:41,262] Trial 60 finished with value: 276.420466990657 and parameters: {'lambda': 0.08118350392075949, 'alpha': 2.429507319055006, 'colsample_bytree': 0.4, 'subsample': 0.4, 'learning_rate': 0.2, 'n_estimators': 3000, 'max_depth': 3, 'min_child_weight': 45}. Best is trial 31 with value: 243.9126497990596.\n",
      "[I 2024-09-12 21:28:44,512] Trial 61 finished with value: 246.58211824585584 and parameters: {'lambda': 2.0597458018216, 'alpha': 3.648178140800937, 'colsample_bytree': 0.4, 'subsample': 0.8, 'learning_rate': 0.3, 'n_estimators': 3000, 'max_depth': 3, 'min_child_weight': 58}. Best is trial 31 with value: 243.9126497990596.\n",
      "[I 2024-09-12 21:28:47,662] Trial 62 finished with value: 255.26704468955037 and parameters: {'lambda': 2.21999495737939, 'alpha': 3.905344415014242, 'colsample_bytree': 0.4, 'subsample': 0.8, 'learning_rate': 0.3, 'n_estimators': 3000, 'max_depth': 3, 'min_child_weight': 50}. Best is trial 31 with value: 243.9126497990596.\n",
      "[I 2024-09-12 21:28:50,502] Trial 63 finished with value: 251.25532965769636 and parameters: {'lambda': 3.692184212789517, 'alpha': 1.8009490668004309, 'colsample_bytree': 0.6, 'subsample': 0.8, 'learning_rate': 0.3, 'n_estimators': 3000, 'max_depth': 3, 'min_child_weight': 54}. Best is trial 31 with value: 243.9126497990596.\n",
      "[I 2024-09-12 21:28:52,702] Trial 64 finished with value: 249.4905367393432 and parameters: {'lambda': 1.367750640138592, 'alpha': 1.1897792317920413, 'colsample_bytree': 0.4, 'subsample': 0.8, 'learning_rate': 0.3, 'n_estimators': 2000, 'max_depth': 3, 'min_child_weight': 61}. Best is trial 31 with value: 243.9126497990596.\n",
      "[I 2024-09-12 21:28:54,698] Trial 65 finished with value: 259.24472201214024 and parameters: {'lambda': 1.3721635408624533, 'alpha': 1.1027283707899518, 'colsample_bytree': 0.4, 'subsample': 0.8, 'learning_rate': 0.1, 'n_estimators': 2000, 'max_depth': 3, 'min_child_weight': 62}. Best is trial 31 with value: 243.9126497990596.\n",
      "[I 2024-09-12 21:28:56,782] Trial 66 finished with value: 291.7971093591707 and parameters: {'lambda': 0.878927596306449, 'alpha': 3.7369762660289125, 'colsample_bytree': 0.9, 'subsample': 0.8, 'learning_rate': 0.01, 'n_estimators': 2000, 'max_depth': 3, 'min_child_weight': 67}. Best is trial 31 with value: 243.9126497990596.\n",
      "[I 2024-09-12 21:28:58,823] Trial 67 finished with value: 257.26359185767967 and parameters: {'lambda': 0.0010133880901140545, 'alpha': 4.964271251174583, 'colsample_bytree': 0.8, 'subsample': 0.8, 'learning_rate': 0.3, 'n_estimators': 2000, 'max_depth': 3, 'min_child_weight': 49}. Best is trial 31 with value: 243.9126497990596.\n",
      "[I 2024-09-12 21:28:59,797] Trial 68 finished with value: 279.9656458739376 and parameters: {'lambda': 0.17669907433227683, 'alpha': 1.2462664946437405, 'colsample_bytree': 0.4, 'subsample': 0.8, 'learning_rate': 0.3, 'n_estimators': 1000, 'max_depth': 3, 'min_child_weight': 72}. Best is trial 31 with value: 243.9126497990596.\n",
      "[I 2024-09-12 21:29:01,586] Trial 69 finished with value: 286.95425000346165 and parameters: {'lambda': 1.4860964476609253, 'alpha': 0.001718218232011472, 'colsample_bytree': 1.0, 'subsample': 0.8, 'learning_rate': 0.05, 'n_estimators': 2000, 'max_depth': 3, 'min_child_weight': 85}. Best is trial 31 with value: 243.9126497990596.\n",
      "[I 2024-09-12 21:29:05,175] Trial 70 finished with value: 350.5097766189875 and parameters: {'lambda': 0.021026429139034918, 'alpha': 2.6044404518352464, 'colsample_bytree': 0.5, 'subsample': 1.0, 'learning_rate': 0.001, 'n_estimators': 3000, 'max_depth': 5, 'min_child_weight': 61}. Best is trial 31 with value: 243.9126497990596.\n",
      "[I 2024-09-12 21:29:08,909] Trial 71 finished with value: 249.5497746303828 and parameters: {'lambda': 2.2966623819416725, 'alpha': 1.7875400218922006, 'colsample_bytree': 0.4, 'subsample': 0.8, 'learning_rate': 0.3, 'n_estimators': 3000, 'max_depth': 7, 'min_child_weight': 57}. Best is trial 31 with value: 243.9126497990596.\n",
      "[I 2024-09-12 21:29:12,014] Trial 72 finished with value: 250.5272662872955 and parameters: {'lambda': 2.423478110524982, 'alpha': 1.7661875860862835, 'colsample_bytree': 0.4, 'subsample': 0.8, 'learning_rate': 0.3, 'n_estimators': 3000, 'max_depth': 3, 'min_child_weight': 58}. Best is trial 31 with value: 243.9126497990596.\n",
      "[I 2024-09-12 21:29:12,403] Trial 73 finished with value: 259.00264408725366 and parameters: {'lambda': 4.1441071159320835, 'alpha': 1.8041057467871697, 'colsample_bytree': 0.4, 'subsample': 0.8, 'learning_rate': 0.3, 'n_estimators': 300, 'max_depth': 6, 'min_child_weight': 57}. Best is trial 31 with value: 243.9126497990596.\n",
      "[I 2024-09-12 21:29:16,133] Trial 74 finished with value: 251.22971483668266 and parameters: {'lambda': 2.5496723783303046, 'alpha': 0.9187196144313675, 'colsample_bytree': 0.4, 'subsample': 0.8, 'learning_rate': 0.3, 'n_estimators': 3000, 'max_depth': 4, 'min_child_weight': 53}. Best is trial 31 with value: 243.9126497990596.\n",
      "[I 2024-09-12 21:29:20,006] Trial 75 finished with value: 257.85400836034836 and parameters: {'lambda': 1.9246266096537585, 'alpha': 1.8949024271490114, 'colsample_bytree': 0.4, 'subsample': 0.7, 'learning_rate': 0.3, 'n_estimators': 3000, 'max_depth': 3, 'min_child_weight': 44}. Best is trial 31 with value: 243.9126497990596.\n",
      "[I 2024-09-12 21:29:22,547] Trial 76 finished with value: 253.93725880096176 and parameters: {'lambda': 1.2922035067181128, 'alpha': 0.5945589823882909, 'colsample_bytree': 0.7, 'subsample': 0.8, 'learning_rate': 0.25, 'n_estimators': 1500, 'max_depth': 7, 'min_child_weight': 55}. Best is trial 31 with value: 243.9126497990596.\n",
      "[I 2024-09-12 21:29:25,743] Trial 77 finished with value: 279.4501862038622 and parameters: {'lambda': 4.714769010623523, 'alpha': 2.661950277056531, 'colsample_bytree': 0.4, 'subsample': 0.6, 'learning_rate': 0.3, 'n_estimators': 3000, 'max_depth': 3, 'min_child_weight': 64}. Best is trial 31 with value: 243.9126497990596.\n",
      "[I 2024-09-12 21:29:28,130] Trial 78 finished with value: 266.25808259158634 and parameters: {'lambda': 3.3875297885387616, 'alpha': 1.38905387372169, 'colsample_bytree': 0.4, 'subsample': 0.8, 'learning_rate': 0.3, 'n_estimators': 2500, 'max_depth': 3, 'min_child_weight': 39}. Best is trial 31 with value: 243.9126497990596.\n",
      "[I 2024-09-12 21:29:28,676] Trial 79 finished with value: 286.0788615632739 and parameters: {'lambda': 2.13328044423207, 'alpha': 4.053161552288913, 'colsample_bytree': 0.3, 'subsample': 0.5, 'learning_rate': 0.3, 'n_estimators': 500, 'max_depth': 3, 'min_child_weight': 49}. Best is trial 31 with value: 243.9126497990596.\n",
      "[I 2024-09-12 21:29:34,223] Trial 80 finished with value: 250.78097029769745 and parameters: {'lambda': 0.00150739525840111, 'alpha': 0.07886716404509932, 'colsample_bytree': 0.4, 'subsample': 0.8, 'learning_rate': 0.3, 'n_estimators': 3000, 'max_depth': 7, 'min_child_weight': 56}. Best is trial 31 with value: 243.9126497990596.\n",
      "[I 2024-09-12 21:29:37,492] Trial 81 finished with value: 250.15924362582714 and parameters: {'lambda': 1.092470928875553, 'alpha': 3.464174515391297, 'colsample_bytree': 0.4, 'subsample': 0.8, 'learning_rate': 0.3, 'n_estimators': 3000, 'max_depth': 3, 'min_child_weight': 59}. Best is trial 31 with value: 243.9126497990596.\n",
      "[I 2024-09-12 21:29:40,281] Trial 82 finished with value: 263.9123553525243 and parameters: {'lambda': 2.817067177523831, 'alpha': 3.1694438060057237, 'colsample_bytree': 0.4, 'subsample': 0.8, 'learning_rate': 0.3, 'n_estimators': 3000, 'max_depth': 3, 'min_child_weight': 67}. Best is trial 31 with value: 243.9126497990596.\n",
      "[I 2024-09-12 21:29:43,620] Trial 83 finished with value: 248.978752821348 and parameters: {'lambda': 0.7151051254292917, 'alpha': 1.9017369641833217, 'colsample_bytree': 0.4, 'subsample': 0.8, 'learning_rate': 0.3, 'n_estimators': 3000, 'max_depth': 3, 'min_child_weight': 52}. Best is trial 31 with value: 243.9126497990596.\n",
      "[I 2024-09-12 21:29:44,060] Trial 84 finished with value: 260.6338294928047 and parameters: {'lambda': 0.7356579662577234, 'alpha': 2.219197704709774, 'colsample_bytree': 0.4, 'subsample': 0.8, 'learning_rate': 0.3, 'n_estimators': 400, 'max_depth': 3, 'min_child_weight': 51}. Best is trial 31 with value: 243.9126497990596.\n",
      "[I 2024-09-12 21:29:47,457] Trial 85 finished with value: 280.20563668277225 and parameters: {'lambda': 1.1671475196436771, 'alpha': 4.272449996515822, 'colsample_bytree': 0.4, 'subsample': 0.4, 'learning_rate': 0.2, 'n_estimators': 3000, 'max_depth': 5, 'min_child_weight': 47}. Best is trial 31 with value: 243.9126497990596.\n",
      "[I 2024-09-12 21:29:48,458] Trial 86 finished with value: 263.3175381560093 and parameters: {'lambda': 1.6322610759747926, 'alpha': 3.073213366997661, 'colsample_bytree': 0.4, 'subsample': 0.8, 'learning_rate': 0.1, 'n_estimators': 1000, 'max_depth': 3, 'min_child_weight': 61}. Best is trial 31 with value: 243.9126497990596.\n",
      "[I 2024-09-12 21:29:51,965] Trial 87 finished with value: 261.0027502813172 and parameters: {'lambda': 1.020081747129224, 'alpha': 1.1747833720257017, 'colsample_bytree': 0.6, 'subsample': 0.8, 'learning_rate': 0.3, 'n_estimators': 3000, 'max_depth': 6, 'min_child_weight': 54}. Best is trial 31 with value: 243.9126497990596.\n",
      "[I 2024-09-12 21:29:54,351] Trial 88 finished with value: 298.9371757456057 and parameters: {'lambda': 0.2918295846809989, 'alpha': 2.691750634079165, 'colsample_bytree': 0.4, 'subsample': 0.8, 'learning_rate': 0.01, 'n_estimators': 2000, 'max_depth': 3, 'min_child_weight': 63}. Best is trial 31 with value: 243.9126497990596.\n",
      "[I 2024-09-12 21:29:58,707] Trial 89 finished with value: 342.8385215418116 and parameters: {'lambda': 1.7264228491877447, 'alpha': 1.9993225675856956, 'colsample_bytree': 0.9, 'subsample': 0.8, 'learning_rate': 0.001, 'n_estimators': 3000, 'max_depth': 4, 'min_child_weight': 51}. Best is trial 31 with value: 243.9126497990596.\n",
      "[I 2024-09-12 21:30:02,981] Trial 90 finished with value: 263.1835106131209 and parameters: {'lambda': 0.4654117667532677, 'alpha': 4.893531486946213, 'colsample_bytree': 0.4, 'subsample': 0.8, 'learning_rate': 0.05, 'n_estimators': 3000, 'max_depth': 3, 'min_child_weight': 45}. Best is trial 31 with value: 243.9126497990596.\n",
      "[I 2024-09-12 21:30:06,993] Trial 91 finished with value: 248.06072685633333 and parameters: {'lambda': 2.291919883997993, 'alpha': 1.5372685211964796, 'colsample_bytree': 0.4, 'subsample': 0.8, 'learning_rate': 0.3, 'n_estimators': 3000, 'max_depth': 3, 'min_child_weight': 58}. Best is trial 31 with value: 243.9126497990596.\n",
      "[I 2024-09-12 21:30:10,791] Trial 92 finished with value: 251.56662689222136 and parameters: {'lambda': 1.18429199916927, 'alpha': 0.8841570698750014, 'colsample_bytree': 0.4, 'subsample': 0.8, 'learning_rate': 0.3, 'n_estimators': 3000, 'max_depth': 3, 'min_child_weight': 56}. Best is trial 31 with value: 243.9126497990596.\n",
      "[I 2024-09-12 21:30:16,513] Trial 93 finished with value: 252.63942868844438 and parameters: {'lambda': 0.6899479325676579, 'alpha': 1.5250589823523948, 'colsample_bytree': 0.4, 'subsample': 0.8, 'learning_rate': 0.3, 'n_estimators': 3000, 'max_depth': 3, 'min_child_weight': 60}. Best is trial 31 with value: 243.9126497990596.\n",
      "[I 2024-09-12 21:30:21,005] Trial 94 finished with value: 264.3274671026089 and parameters: {'lambda': 2.9805269129838803, 'alpha': 3.342101201888464, 'colsample_bytree': 0.4, 'subsample': 0.8, 'learning_rate': 0.3, 'n_estimators': 3000, 'max_depth': 3, 'min_child_weight': 68}. Best is trial 31 with value: 243.9126497990596.\n",
      "[I 2024-09-12 21:30:24,740] Trial 95 finished with value: 260.80578509955876 and parameters: {'lambda': 2.086465321728231, 'alpha': 2.5482022403161975, 'colsample_bytree': 0.8, 'subsample': 0.6, 'learning_rate': 0.3, 'n_estimators': 3000, 'max_depth': 3, 'min_child_weight': 48}. Best is trial 31 with value: 243.9126497990596.\n",
      "[I 2024-09-12 21:30:25,152] Trial 96 finished with value: 273.9533333957573 and parameters: {'lambda': 4.004062268724524, 'alpha': 3.7413296664460884, 'colsample_bytree': 1.0, 'subsample': 0.8, 'learning_rate': 0.3, 'n_estimators': 300, 'max_depth': 3, 'min_child_weight': 53}. Best is trial 31 with value: 243.9126497990596.\n",
      "[I 2024-09-12 21:30:30,174] Trial 97 finished with value: 264.71393959787974 and parameters: {'lambda': 1.6849837526071476, 'alpha': 0.42836141077256734, 'colsample_bytree': 0.5, 'subsample': 1.0, 'learning_rate': 0.3, 'n_estimators': 3000, 'max_depth': 7, 'min_child_weight': 65}. Best is trial 31 with value: 243.9126497990596.\n",
      "[I 2024-09-12 21:30:33,754] Trial 98 finished with value: 252.04514367879108 and parameters: {'lambda': 2.2036720067542395, 'alpha': 1.5450166835230437, 'colsample_bytree': 0.7, 'subsample': 0.8, 'learning_rate': 0.25, 'n_estimators': 3000, 'max_depth': 3, 'min_child_weight': 58}. Best is trial 31 with value: 243.9126497990596.\n",
      "[I 2024-09-12 21:30:35,724] Trial 99 finished with value: 274.5072139621948 and parameters: {'lambda': 1.486500692094106, 'alpha': 0.7555864363110799, 'colsample_bytree': 0.4, 'subsample': 0.7, 'learning_rate': 0.3, 'n_estimators': 1500, 'max_depth': 3, 'min_child_weight': 71}. Best is trial 31 with value: 243.9126497990596.\n"
     ]
    }
   ],
   "source": [
    "study = optuna.create_study(direction=\"minimize\")\n",
    "study.optimize(objective, n_trials=100)"
   ]
  },
  {
   "cell_type": "code",
   "execution_count": 70,
   "metadata": {},
   "outputs": [
    {
     "name": "stdout",
     "output_type": "stream",
     "text": [
      "the best trail : FrozenTrial(number=31, state=1, values=[243.9126497990596], datetime_start=datetime.datetime(2024, 9, 12, 21, 27, 30, 628179), datetime_complete=datetime.datetime(2024, 9, 12, 21, 27, 33, 86924), params={'lambda': 2.231169364814, 'alpha': 4.844266113067927, 'colsample_bytree': 0.4, 'subsample': 0.8, 'learning_rate': 0.3, 'n_estimators': 3000, 'max_depth': 3, 'min_child_weight': 55}, user_attrs={}, system_attrs={}, intermediate_values={}, distributions={'lambda': FloatDistribution(high=5.0, log=True, low=0.001, step=None), 'alpha': FloatDistribution(high=5.0, log=True, low=0.001, step=None), 'colsample_bytree': CategoricalDistribution(choices=(0.3, 0.4, 0.5, 0.6, 0.7, 0.8, 0.9, 1.0)), 'subsample': CategoricalDistribution(choices=(0.4, 0.5, 0.6, 0.7, 0.8, 1.0)), 'learning_rate': CategoricalDistribution(choices=(0.001, 0.01, 0.05, 0.1, 0.2, 0.25, 0.3)), 'n_estimators': CategoricalDistribution(choices=(300, 400, 500, 1000, 1500, 2000, 2500, 3000)), 'max_depth': CategoricalDistribution(choices=(3, 4, 5, 6, 7)), 'min_child_weight': IntDistribution(high=100, log=False, low=1, step=1)}, trial_id=31, value=None)\n",
      "the best params : {'lambda': 2.231169364814, 'alpha': 4.844266113067927, 'colsample_bytree': 0.4, 'subsample': 0.8, 'learning_rate': 0.3, 'n_estimators': 3000, 'max_depth': 3, 'min_child_weight': 55}\n"
     ]
    }
   ],
   "source": [
    "# the best trial \n",
    "\n",
    "trial = study.best_trial\n",
    "params = study.best_params\n",
    "\n",
    "print(f'the best trail : {trial}')\n",
    "\n",
    "print(f'the best params : {params}')"
   ]
  },
  {
   "cell_type": "code",
   "execution_count": 71,
   "metadata": {},
   "outputs": [
    {
     "name": "stdout",
     "output_type": "stream",
     "text": [
      "    lambda: 2.231169364814\n",
      "    alpha: 4.844266113067927\n",
      "    colsample_bytree: 0.4\n",
      "    subsample: 0.8\n",
      "    learning_rate: 0.3\n",
      "    n_estimators: 3000\n",
      "    max_depth: 3\n",
      "    min_child_weight: 55\n"
     ]
    }
   ],
   "source": [
    "params = []\n",
    "\n",
    "for key, value in trial.params.items():\n",
    "    params.append(value)\n",
    "    print(\"    {}: {}\".format(key, value))"
   ]
  },
  {
   "cell_type": "code",
   "execution_count": 72,
   "metadata": {},
   "outputs": [
    {
     "data": {
      "text/html": [
       "<style>#sk-container-id-1 {\n",
       "  /* Definition of color scheme common for light and dark mode */\n",
       "  --sklearn-color-text: black;\n",
       "  --sklearn-color-line: gray;\n",
       "  /* Definition of color scheme for unfitted estimators */\n",
       "  --sklearn-color-unfitted-level-0: #fff5e6;\n",
       "  --sklearn-color-unfitted-level-1: #f6e4d2;\n",
       "  --sklearn-color-unfitted-level-2: #ffe0b3;\n",
       "  --sklearn-color-unfitted-level-3: chocolate;\n",
       "  /* Definition of color scheme for fitted estimators */\n",
       "  --sklearn-color-fitted-level-0: #f0f8ff;\n",
       "  --sklearn-color-fitted-level-1: #d4ebff;\n",
       "  --sklearn-color-fitted-level-2: #b3dbfd;\n",
       "  --sklearn-color-fitted-level-3: cornflowerblue;\n",
       "\n",
       "  /* Specific color for light theme */\n",
       "  --sklearn-color-text-on-default-background: var(--sg-text-color, var(--theme-code-foreground, var(--jp-content-font-color1, black)));\n",
       "  --sklearn-color-background: var(--sg-background-color, var(--theme-background, var(--jp-layout-color0, white)));\n",
       "  --sklearn-color-border-box: var(--sg-text-color, var(--theme-code-foreground, var(--jp-content-font-color1, black)));\n",
       "  --sklearn-color-icon: #696969;\n",
       "\n",
       "  @media (prefers-color-scheme: dark) {\n",
       "    /* Redefinition of color scheme for dark theme */\n",
       "    --sklearn-color-text-on-default-background: var(--sg-text-color, var(--theme-code-foreground, var(--jp-content-font-color1, white)));\n",
       "    --sklearn-color-background: var(--sg-background-color, var(--theme-background, var(--jp-layout-color0, #111)));\n",
       "    --sklearn-color-border-box: var(--sg-text-color, var(--theme-code-foreground, var(--jp-content-font-color1, white)));\n",
       "    --sklearn-color-icon: #878787;\n",
       "  }\n",
       "}\n",
       "\n",
       "#sk-container-id-1 {\n",
       "  color: var(--sklearn-color-text);\n",
       "}\n",
       "\n",
       "#sk-container-id-1 pre {\n",
       "  padding: 0;\n",
       "}\n",
       "\n",
       "#sk-container-id-1 input.sk-hidden--visually {\n",
       "  border: 0;\n",
       "  clip: rect(1px 1px 1px 1px);\n",
       "  clip: rect(1px, 1px, 1px, 1px);\n",
       "  height: 1px;\n",
       "  margin: -1px;\n",
       "  overflow: hidden;\n",
       "  padding: 0;\n",
       "  position: absolute;\n",
       "  width: 1px;\n",
       "}\n",
       "\n",
       "#sk-container-id-1 div.sk-dashed-wrapped {\n",
       "  border: 1px dashed var(--sklearn-color-line);\n",
       "  margin: 0 0.4em 0.5em 0.4em;\n",
       "  box-sizing: border-box;\n",
       "  padding-bottom: 0.4em;\n",
       "  background-color: var(--sklearn-color-background);\n",
       "}\n",
       "\n",
       "#sk-container-id-1 div.sk-container {\n",
       "  /* jupyter's `normalize.less` sets `[hidden] { display: none; }`\n",
       "     but bootstrap.min.css set `[hidden] { display: none !important; }`\n",
       "     so we also need the `!important` here to be able to override the\n",
       "     default hidden behavior on the sphinx rendered scikit-learn.org.\n",
       "     See: https://github.com/scikit-learn/scikit-learn/issues/21755 */\n",
       "  display: inline-block !important;\n",
       "  position: relative;\n",
       "}\n",
       "\n",
       "#sk-container-id-1 div.sk-text-repr-fallback {\n",
       "  display: none;\n",
       "}\n",
       "\n",
       "div.sk-parallel-item,\n",
       "div.sk-serial,\n",
       "div.sk-item {\n",
       "  /* draw centered vertical line to link estimators */\n",
       "  background-image: linear-gradient(var(--sklearn-color-text-on-default-background), var(--sklearn-color-text-on-default-background));\n",
       "  background-size: 2px 100%;\n",
       "  background-repeat: no-repeat;\n",
       "  background-position: center center;\n",
       "}\n",
       "\n",
       "/* Parallel-specific style estimator block */\n",
       "\n",
       "#sk-container-id-1 div.sk-parallel-item::after {\n",
       "  content: \"\";\n",
       "  width: 100%;\n",
       "  border-bottom: 2px solid var(--sklearn-color-text-on-default-background);\n",
       "  flex-grow: 1;\n",
       "}\n",
       "\n",
       "#sk-container-id-1 div.sk-parallel {\n",
       "  display: flex;\n",
       "  align-items: stretch;\n",
       "  justify-content: center;\n",
       "  background-color: var(--sklearn-color-background);\n",
       "  position: relative;\n",
       "}\n",
       "\n",
       "#sk-container-id-1 div.sk-parallel-item {\n",
       "  display: flex;\n",
       "  flex-direction: column;\n",
       "}\n",
       "\n",
       "#sk-container-id-1 div.sk-parallel-item:first-child::after {\n",
       "  align-self: flex-end;\n",
       "  width: 50%;\n",
       "}\n",
       "\n",
       "#sk-container-id-1 div.sk-parallel-item:last-child::after {\n",
       "  align-self: flex-start;\n",
       "  width: 50%;\n",
       "}\n",
       "\n",
       "#sk-container-id-1 div.sk-parallel-item:only-child::after {\n",
       "  width: 0;\n",
       "}\n",
       "\n",
       "/* Serial-specific style estimator block */\n",
       "\n",
       "#sk-container-id-1 div.sk-serial {\n",
       "  display: flex;\n",
       "  flex-direction: column;\n",
       "  align-items: center;\n",
       "  background-color: var(--sklearn-color-background);\n",
       "  padding-right: 1em;\n",
       "  padding-left: 1em;\n",
       "}\n",
       "\n",
       "\n",
       "/* Toggleable style: style used for estimator/Pipeline/ColumnTransformer box that is\n",
       "clickable and can be expanded/collapsed.\n",
       "- Pipeline and ColumnTransformer use this feature and define the default style\n",
       "- Estimators will overwrite some part of the style using the `sk-estimator` class\n",
       "*/\n",
       "\n",
       "/* Pipeline and ColumnTransformer style (default) */\n",
       "\n",
       "#sk-container-id-1 div.sk-toggleable {\n",
       "  /* Default theme specific background. It is overwritten whether we have a\n",
       "  specific estimator or a Pipeline/ColumnTransformer */\n",
       "  background-color: var(--sklearn-color-background);\n",
       "}\n",
       "\n",
       "/* Toggleable label */\n",
       "#sk-container-id-1 label.sk-toggleable__label {\n",
       "  cursor: pointer;\n",
       "  display: block;\n",
       "  width: 100%;\n",
       "  margin-bottom: 0;\n",
       "  padding: 0.5em;\n",
       "  box-sizing: border-box;\n",
       "  text-align: center;\n",
       "}\n",
       "\n",
       "#sk-container-id-1 label.sk-toggleable__label-arrow:before {\n",
       "  /* Arrow on the left of the label */\n",
       "  content: \"▸\";\n",
       "  float: left;\n",
       "  margin-right: 0.25em;\n",
       "  color: var(--sklearn-color-icon);\n",
       "}\n",
       "\n",
       "#sk-container-id-1 label.sk-toggleable__label-arrow:hover:before {\n",
       "  color: var(--sklearn-color-text);\n",
       "}\n",
       "\n",
       "/* Toggleable content - dropdown */\n",
       "\n",
       "#sk-container-id-1 div.sk-toggleable__content {\n",
       "  max-height: 0;\n",
       "  max-width: 0;\n",
       "  overflow: hidden;\n",
       "  text-align: left;\n",
       "  /* unfitted */\n",
       "  background-color: var(--sklearn-color-unfitted-level-0);\n",
       "}\n",
       "\n",
       "#sk-container-id-1 div.sk-toggleable__content.fitted {\n",
       "  /* fitted */\n",
       "  background-color: var(--sklearn-color-fitted-level-0);\n",
       "}\n",
       "\n",
       "#sk-container-id-1 div.sk-toggleable__content pre {\n",
       "  margin: 0.2em;\n",
       "  border-radius: 0.25em;\n",
       "  color: var(--sklearn-color-text);\n",
       "  /* unfitted */\n",
       "  background-color: var(--sklearn-color-unfitted-level-0);\n",
       "}\n",
       "\n",
       "#sk-container-id-1 div.sk-toggleable__content.fitted pre {\n",
       "  /* unfitted */\n",
       "  background-color: var(--sklearn-color-fitted-level-0);\n",
       "}\n",
       "\n",
       "#sk-container-id-1 input.sk-toggleable__control:checked~div.sk-toggleable__content {\n",
       "  /* Expand drop-down */\n",
       "  max-height: 200px;\n",
       "  max-width: 100%;\n",
       "  overflow: auto;\n",
       "}\n",
       "\n",
       "#sk-container-id-1 input.sk-toggleable__control:checked~label.sk-toggleable__label-arrow:before {\n",
       "  content: \"▾\";\n",
       "}\n",
       "\n",
       "/* Pipeline/ColumnTransformer-specific style */\n",
       "\n",
       "#sk-container-id-1 div.sk-label input.sk-toggleable__control:checked~label.sk-toggleable__label {\n",
       "  color: var(--sklearn-color-text);\n",
       "  background-color: var(--sklearn-color-unfitted-level-2);\n",
       "}\n",
       "\n",
       "#sk-container-id-1 div.sk-label.fitted input.sk-toggleable__control:checked~label.sk-toggleable__label {\n",
       "  background-color: var(--sklearn-color-fitted-level-2);\n",
       "}\n",
       "\n",
       "/* Estimator-specific style */\n",
       "\n",
       "/* Colorize estimator box */\n",
       "#sk-container-id-1 div.sk-estimator input.sk-toggleable__control:checked~label.sk-toggleable__label {\n",
       "  /* unfitted */\n",
       "  background-color: var(--sklearn-color-unfitted-level-2);\n",
       "}\n",
       "\n",
       "#sk-container-id-1 div.sk-estimator.fitted input.sk-toggleable__control:checked~label.sk-toggleable__label {\n",
       "  /* fitted */\n",
       "  background-color: var(--sklearn-color-fitted-level-2);\n",
       "}\n",
       "\n",
       "#sk-container-id-1 div.sk-label label.sk-toggleable__label,\n",
       "#sk-container-id-1 div.sk-label label {\n",
       "  /* The background is the default theme color */\n",
       "  color: var(--sklearn-color-text-on-default-background);\n",
       "}\n",
       "\n",
       "/* On hover, darken the color of the background */\n",
       "#sk-container-id-1 div.sk-label:hover label.sk-toggleable__label {\n",
       "  color: var(--sklearn-color-text);\n",
       "  background-color: var(--sklearn-color-unfitted-level-2);\n",
       "}\n",
       "\n",
       "/* Label box, darken color on hover, fitted */\n",
       "#sk-container-id-1 div.sk-label.fitted:hover label.sk-toggleable__label.fitted {\n",
       "  color: var(--sklearn-color-text);\n",
       "  background-color: var(--sklearn-color-fitted-level-2);\n",
       "}\n",
       "\n",
       "/* Estimator label */\n",
       "\n",
       "#sk-container-id-1 div.sk-label label {\n",
       "  font-family: monospace;\n",
       "  font-weight: bold;\n",
       "  display: inline-block;\n",
       "  line-height: 1.2em;\n",
       "}\n",
       "\n",
       "#sk-container-id-1 div.sk-label-container {\n",
       "  text-align: center;\n",
       "}\n",
       "\n",
       "/* Estimator-specific */\n",
       "#sk-container-id-1 div.sk-estimator {\n",
       "  font-family: monospace;\n",
       "  border: 1px dotted var(--sklearn-color-border-box);\n",
       "  border-radius: 0.25em;\n",
       "  box-sizing: border-box;\n",
       "  margin-bottom: 0.5em;\n",
       "  /* unfitted */\n",
       "  background-color: var(--sklearn-color-unfitted-level-0);\n",
       "}\n",
       "\n",
       "#sk-container-id-1 div.sk-estimator.fitted {\n",
       "  /* fitted */\n",
       "  background-color: var(--sklearn-color-fitted-level-0);\n",
       "}\n",
       "\n",
       "/* on hover */\n",
       "#sk-container-id-1 div.sk-estimator:hover {\n",
       "  /* unfitted */\n",
       "  background-color: var(--sklearn-color-unfitted-level-2);\n",
       "}\n",
       "\n",
       "#sk-container-id-1 div.sk-estimator.fitted:hover {\n",
       "  /* fitted */\n",
       "  background-color: var(--sklearn-color-fitted-level-2);\n",
       "}\n",
       "\n",
       "/* Specification for estimator info (e.g. \"i\" and \"?\") */\n",
       "\n",
       "/* Common style for \"i\" and \"?\" */\n",
       "\n",
       ".sk-estimator-doc-link,\n",
       "a:link.sk-estimator-doc-link,\n",
       "a:visited.sk-estimator-doc-link {\n",
       "  float: right;\n",
       "  font-size: smaller;\n",
       "  line-height: 1em;\n",
       "  font-family: monospace;\n",
       "  background-color: var(--sklearn-color-background);\n",
       "  border-radius: 1em;\n",
       "  height: 1em;\n",
       "  width: 1em;\n",
       "  text-decoration: none !important;\n",
       "  margin-left: 1ex;\n",
       "  /* unfitted */\n",
       "  border: var(--sklearn-color-unfitted-level-1) 1pt solid;\n",
       "  color: var(--sklearn-color-unfitted-level-1);\n",
       "}\n",
       "\n",
       ".sk-estimator-doc-link.fitted,\n",
       "a:link.sk-estimator-doc-link.fitted,\n",
       "a:visited.sk-estimator-doc-link.fitted {\n",
       "  /* fitted */\n",
       "  border: var(--sklearn-color-fitted-level-1) 1pt solid;\n",
       "  color: var(--sklearn-color-fitted-level-1);\n",
       "}\n",
       "\n",
       "/* On hover */\n",
       "div.sk-estimator:hover .sk-estimator-doc-link:hover,\n",
       ".sk-estimator-doc-link:hover,\n",
       "div.sk-label-container:hover .sk-estimator-doc-link:hover,\n",
       ".sk-estimator-doc-link:hover {\n",
       "  /* unfitted */\n",
       "  background-color: var(--sklearn-color-unfitted-level-3);\n",
       "  color: var(--sklearn-color-background);\n",
       "  text-decoration: none;\n",
       "}\n",
       "\n",
       "div.sk-estimator.fitted:hover .sk-estimator-doc-link.fitted:hover,\n",
       ".sk-estimator-doc-link.fitted:hover,\n",
       "div.sk-label-container:hover .sk-estimator-doc-link.fitted:hover,\n",
       ".sk-estimator-doc-link.fitted:hover {\n",
       "  /* fitted */\n",
       "  background-color: var(--sklearn-color-fitted-level-3);\n",
       "  color: var(--sklearn-color-background);\n",
       "  text-decoration: none;\n",
       "}\n",
       "\n",
       "/* Span, style for the box shown on hovering the info icon */\n",
       ".sk-estimator-doc-link span {\n",
       "  display: none;\n",
       "  z-index: 9999;\n",
       "  position: relative;\n",
       "  font-weight: normal;\n",
       "  right: .2ex;\n",
       "  padding: .5ex;\n",
       "  margin: .5ex;\n",
       "  width: min-content;\n",
       "  min-width: 20ex;\n",
       "  max-width: 50ex;\n",
       "  color: var(--sklearn-color-text);\n",
       "  box-shadow: 2pt 2pt 4pt #999;\n",
       "  /* unfitted */\n",
       "  background: var(--sklearn-color-unfitted-level-0);\n",
       "  border: .5pt solid var(--sklearn-color-unfitted-level-3);\n",
       "}\n",
       "\n",
       ".sk-estimator-doc-link.fitted span {\n",
       "  /* fitted */\n",
       "  background: var(--sklearn-color-fitted-level-0);\n",
       "  border: var(--sklearn-color-fitted-level-3);\n",
       "}\n",
       "\n",
       ".sk-estimator-doc-link:hover span {\n",
       "  display: block;\n",
       "}\n",
       "\n",
       "/* \"?\"-specific style due to the `<a>` HTML tag */\n",
       "\n",
       "#sk-container-id-1 a.estimator_doc_link {\n",
       "  float: right;\n",
       "  font-size: 1rem;\n",
       "  line-height: 1em;\n",
       "  font-family: monospace;\n",
       "  background-color: var(--sklearn-color-background);\n",
       "  border-radius: 1rem;\n",
       "  height: 1rem;\n",
       "  width: 1rem;\n",
       "  text-decoration: none;\n",
       "  /* unfitted */\n",
       "  color: var(--sklearn-color-unfitted-level-1);\n",
       "  border: var(--sklearn-color-unfitted-level-1) 1pt solid;\n",
       "}\n",
       "\n",
       "#sk-container-id-1 a.estimator_doc_link.fitted {\n",
       "  /* fitted */\n",
       "  border: var(--sklearn-color-fitted-level-1) 1pt solid;\n",
       "  color: var(--sklearn-color-fitted-level-1);\n",
       "}\n",
       "\n",
       "/* On hover */\n",
       "#sk-container-id-1 a.estimator_doc_link:hover {\n",
       "  /* unfitted */\n",
       "  background-color: var(--sklearn-color-unfitted-level-3);\n",
       "  color: var(--sklearn-color-background);\n",
       "  text-decoration: none;\n",
       "}\n",
       "\n",
       "#sk-container-id-1 a.estimator_doc_link.fitted:hover {\n",
       "  /* fitted */\n",
       "  background-color: var(--sklearn-color-fitted-level-3);\n",
       "}\n",
       "</style><div id=\"sk-container-id-1\" class=\"sk-top-container\"><div class=\"sk-text-repr-fallback\"><pre>XGBRegressor(base_score=None, booster=None, callbacks=None,\n",
       "             colsample_bylevel=None, colsample_bynode=None,\n",
       "             colsample_bytree=None, device=None, early_stopping_rounds=None,\n",
       "             enable_categorical=False, eval_metric=None, feature_types=None,\n",
       "             gamma=None, grow_policy=None, importance_type=None,\n",
       "             interaction_constraints=None, learning_rate=None, max_bin=None,\n",
       "             max_cat_threshold=None, max_cat_to_onehot=None,\n",
       "             max_delta_step=None, max_depth=None, max_leaves=None,\n",
       "             min_child_weight=None, missing=nan, monotone_constraints=None,\n",
       "             multi_strategy=None, n_estimators=None, n_jobs=None,\n",
       "             num_parallel_tree=None,\n",
       "             params=[2.231169364814, 4.844266113067927, 0.4, 0.8, 0.3, 3000, 3,\n",
       "                     55], ...)</pre><b>In a Jupyter environment, please rerun this cell to show the HTML representation or trust the notebook. <br />On GitHub, the HTML representation is unable to render, please try loading this page with nbviewer.org.</b></div><div class=\"sk-container\" hidden><div class=\"sk-item\"><div class=\"sk-estimator fitted sk-toggleable\"><input class=\"sk-toggleable__control sk-hidden--visually\" id=\"sk-estimator-id-1\" type=\"checkbox\" checked><label for=\"sk-estimator-id-1\" class=\"sk-toggleable__label fitted sk-toggleable__label-arrow fitted\">&nbsp;XGBRegressor<span class=\"sk-estimator-doc-link fitted\">i<span>Fitted</span></span></label><div class=\"sk-toggleable__content fitted\"><pre>XGBRegressor(base_score=None, booster=None, callbacks=None,\n",
       "             colsample_bylevel=None, colsample_bynode=None,\n",
       "             colsample_bytree=None, device=None, early_stopping_rounds=None,\n",
       "             enable_categorical=False, eval_metric=None, feature_types=None,\n",
       "             gamma=None, grow_policy=None, importance_type=None,\n",
       "             interaction_constraints=None, learning_rate=None, max_bin=None,\n",
       "             max_cat_threshold=None, max_cat_to_onehot=None,\n",
       "             max_delta_step=None, max_depth=None, max_leaves=None,\n",
       "             min_child_weight=None, missing=nan, monotone_constraints=None,\n",
       "             multi_strategy=None, n_estimators=None, n_jobs=None,\n",
       "             num_parallel_tree=None,\n",
       "             params=[2.231169364814, 4.844266113067927, 0.4, 0.8, 0.3, 3000, 3,\n",
       "                     55], ...)</pre></div> </div></div></div></div>"
      ],
      "text/plain": [
       "XGBRegressor(base_score=None, booster=None, callbacks=None,\n",
       "             colsample_bylevel=None, colsample_bynode=None,\n",
       "             colsample_bytree=None, device=None, early_stopping_rounds=None,\n",
       "             enable_categorical=False, eval_metric=None, feature_types=None,\n",
       "             gamma=None, grow_policy=None, importance_type=None,\n",
       "             interaction_constraints=None, learning_rate=None, max_bin=None,\n",
       "             max_cat_threshold=None, max_cat_to_onehot=None,\n",
       "             max_delta_step=None, max_depth=None, max_leaves=None,\n",
       "             min_child_weight=None, missing=nan, monotone_constraints=None,\n",
       "             multi_strategy=None, n_estimators=None, n_jobs=None,\n",
       "             num_parallel_tree=None,\n",
       "             params=[2.231169364814, 4.844266113067927, 0.4, 0.8, 0.3, 3000, 3,\n",
       "                     55], ...)"
      ]
     },
     "execution_count": 72,
     "metadata": {},
     "output_type": "execute_result"
    }
   ],
   "source": [
    "xgb = XGBRegressor(params = params)\n",
    "xgb.fit(X_train_, y_train_, \n",
    "            eval_set=[(X_test_, y_test_)], \n",
    "            verbose=False)   "
   ]
  },
  {
   "cell_type": "code",
   "execution_count": 74,
   "metadata": {},
   "outputs": [
    {
     "name": "stdout",
     "output_type": "stream",
     "text": [
      "RMSE is : 246.48\n",
      "R2 score is : 90.85%\n"
     ]
    }
   ],
   "source": [
    "y_pred = xgb.predict(X_test_)\n",
    "\n",
    "mse = mean_squared_error(y_test_, y_pred)\n",
    "r2 = r2_score(y_test_,y_pred)\n",
    "\n",
    "print(f'RMSE is : {np.round(np.sqrt(mse),2)}')\n",
    "print(f'R2 score is : {np.round(r2,4)*100}%')\n"
   ]
  },
  {
   "cell_type": "code",
   "execution_count": 76,
   "metadata": {},
   "outputs": [
    {
     "data": {
      "image/png": "[encoded data removed]",
      "text/plain": [
       "<Figure size 900x700 with 1 Axes>"
      ]
     },
     "metadata": {},
     "output_type": "display_data"
    }
   ],
   "source": [
    "feature_names = X_train_.columns.tolist()\n",
    "\n",
    "feature_importance_xbg_df = pd.DataFrame(\n",
    "    {\n",
    "        'feature' : feature_names,\n",
    "        'importance' : xgb.feature_importances_\n",
    "    }\n",
    ")\n",
    "\n",
    "\n",
    "feature_importance_xbg_df = feature_importance_xbg_df.sort_values(\n",
    "    by='importance',\n",
    "    ascending=False\n",
    ")\n",
    "\n",
    "plt.figure(figsize=(9,7))\n",
    "sns.barplot(\n",
    "    x='importance',\n",
    "    y='feature',\n",
    "    data= feature_importance_xbg_df,\n",
    "    palette='mako'\n",
    ")\n",
    "plt.title('Feature Importance')\n",
    "plt.xlabel('Feature Importance %')\n",
    "plt.ylabel('')\n",
    "plt.tight_layout\n",
    "plt.show()"
   ]
  },
  {
   "cell_type": "code",
   "execution_count": 77,
   "metadata": {},
   "outputs": [],
   "source": [
    "# at first we need to add the feature creation to the start of our pipeline so let's do it:\n",
    "# here is all the preprocessing that we did above:\n",
    "\n",
    "\n",
    "class FeatureEngineeringTransformer(BaseEstimator, TransformerMixin):\n",
    "    def fit(self, X, y=None):\n",
    "        return self\n",
    "\n",
    "    def transform(self, X):\n",
    "        X = X.copy()\n",
    "        # Extract resolution and ScreenType\n",
    "        X['resolution'] = X['ScreenResolution'].str.extract(r'(\\d+x\\d+)')\n",
    "        X['ScreenType'] = X['ScreenResolution'].replace(r'(\\d+x\\d+)', '', regex=True)\n",
    "        X['ScreenType'] = X['ScreenType'].replace(r'^\\s*$', np.nan, regex=True)\n",
    "        \n",
    "        # Extract TouchScreen\n",
    "        X['TouchScreen'] = X['ScreenType'].str.extract(r'(Touchscreen)').notna().astype(int)\n",
    "        X['ScreenType'] = X['ScreenType'].str.replace(r'(\\/\\sTouchscreen)', '', regex=True)\n",
    "        X['ScreenType'] = X['ScreenType'].replace(np.nan, X['ScreenType'].mode()[0])\n",
    "\n",
    "        # Drop ScreenResolution\n",
    "        X = X.drop('ScreenResolution', axis=1)\n",
    "        \n",
    "        # Extract CpuFrequency\n",
    "        X['CpuFrequency'] = X['Cpu'].str.extract(r'(\\d+\\.?\\d*GHz)').replace('GHz', '', regex=True).astype(float)\n",
    "        X['Cpu'] = X['Cpu'].str.replace(r'\\d+\\.?\\d*GHz', '', regex=True)\n",
    "        \n",
    "        # Convert Ram\n",
    "        X['Ram'] = X['Ram'].str.replace('GB', '').astype(int)\n",
    "        \n",
    "        # Process Memory\n",
    "        X['Memory'] = X['Memory'].str.replace('1.0TB', '1000GB').str.replace('1TB', '1000GB').str.replace('2TB', '2000GB').str.replace('GB', '')\n",
    "        X['Memory'] = X['Memory'].str.replace(' ', '')\n",
    "        \n",
    "        # Extract storageDisk1 and storageDisk2\n",
    "        X['storageDisk1'] = X['Memory'].str.extract(r'(^\\d+)').astype(int)\n",
    "        X['storageDisk2'] = X['Memory'].str.extract(r'(\\+\\d+)')\n",
    "        X['storageDisk2'] = X['storageDisk2'].fillna('0').str.replace('+', '').astype(int)\n",
    "\n",
    "        # Extract TypeDisk1 and TypeDisk2\n",
    "        TypeDisk1 = []\n",
    "        TypeDisk2 = []\n",
    "        for i in X['Memory']:\n",
    "            if len(re.findall(r'\\+', i)) == 1:\n",
    "                allTypes = re.findall(r'([A-z]+)', i)\n",
    "                TypeDisk1.append(allTypes[0])\n",
    "                TypeDisk2.append(allTypes[1])\n",
    "            else:\n",
    "                allTypes = re.findall(r'([A-z]+)', i)\n",
    "                TypeDisk1.append(allTypes[0])\n",
    "                TypeDisk2.append(np.nan)\n",
    "        \n",
    "        X['TypeDisk1'] = TypeDisk1\n",
    "        X['TypeDisk2'] = TypeDisk2\n",
    "        X['TypeDisk2'] = X['TypeDisk2'].fillna('NaN')\n",
    "        \n",
    "        # Drop Memory column\n",
    "        X = X.drop(columns=['Memory'], axis=1)\n",
    "        \n",
    "        # Convert Weight to numeric\n",
    "        X['Weight'] = X['Weight'].str.replace('kg', '').astype(float)\n",
    "        \n",
    "        return X"
   ]
  },
  {
   "cell_type": "code",
   "execution_count": 91,
   "metadata": {},
   "outputs": [
    {
     "data": {
      "text/html": [
       "<style>#sk-container-id-4 {\n",
       "  /* Definition of color scheme common for light and dark mode */\n",
       "  --sklearn-color-text: black;\n",
       "  --sklearn-color-line: gray;\n",
       "  /* Definition of color scheme for unfitted estimators */\n",
       "  --sklearn-color-unfitted-level-0: #fff5e6;\n",
       "  --sklearn-color-unfitted-level-1: #f6e4d2;\n",
       "  --sklearn-color-unfitted-level-2: #ffe0b3;\n",
       "  --sklearn-color-unfitted-level-3: chocolate;\n",
       "  /* Definition of color scheme for fitted estimators */\n",
       "  --sklearn-color-fitted-level-0: #f0f8ff;\n",
       "  --sklearn-color-fitted-level-1: #d4ebff;\n",
       "  --sklearn-color-fitted-level-2: #b3dbfd;\n",
       "  --sklearn-color-fitted-level-3: cornflowerblue;\n",
       "\n",
       "  /* Specific color for light theme */\n",
       "  --sklearn-color-text-on-default-background: var(--sg-text-color, var(--theme-code-foreground, var(--jp-content-font-color1, black)));\n",
       "  --sklearn-color-background: var(--sg-background-color, var(--theme-background, var(--jp-layout-color0, white)));\n",
       "  --sklearn-color-border-box: var(--sg-text-color, var(--theme-code-foreground, var(--jp-content-font-color1, black)));\n",
       "  --sklearn-color-icon: #696969;\n",
       "\n",
       "  @media (prefers-color-scheme: dark) {\n",
       "    /* Redefinition of color scheme for dark theme */\n",
       "    --sklearn-color-text-on-default-background: var(--sg-text-color, var(--theme-code-foreground, var(--jp-content-font-color1, white)));\n",
       "    --sklearn-color-background: var(--sg-background-color, var(--theme-background, var(--jp-layout-color0, #111)));\n",
       "    --sklearn-color-border-box: var(--sg-text-color, var(--theme-code-foreground, var(--jp-content-font-color1, white)));\n",
       "    --sklearn-color-icon: #878787;\n",
       "  }\n",
       "}\n",
       "\n",
       "#sk-container-id-4 {\n",
       "  color: var(--sklearn-color-text);\n",
       "}\n",
       "\n",
       "#sk-container-id-4 pre {\n",
       "  padding: 0;\n",
       "}\n",
       "\n",
       "#sk-container-id-4 input.sk-hidden--visually {\n",
       "  border: 0;\n",
       "  clip: rect(1px 1px 1px 1px);\n",
       "  clip: rect(1px, 1px, 1px, 1px);\n",
       "  height: 1px;\n",
       "  margin: -1px;\n",
       "  overflow: hidden;\n",
       "  padding: 0;\n",
       "  position: absolute;\n",
       "  width: 1px;\n",
       "}\n",
       "\n",
       "#sk-container-id-4 div.sk-dashed-wrapped {\n",
       "  border: 1px dashed var(--sklearn-color-line);\n",
       "  margin: 0 0.4em 0.5em 0.4em;\n",
       "  box-sizing: border-box;\n",
       "  padding-bottom: 0.4em;\n",
       "  background-color: var(--sklearn-color-background);\n",
       "}\n",
       "\n",
       "#sk-container-id-4 div.sk-container {\n",
       "  /* jupyter's `normalize.less` sets `[hidden] { display: none; }`\n",
       "     but bootstrap.min.css set `[hidden] { display: none !important; }`\n",
       "     so we also need the `!important` here to be able to override the\n",
       "     default hidden behavior on the sphinx rendered scikit-learn.org.\n",
       "     See: https://github.com/scikit-learn/scikit-learn/issues/21755 */\n",
       "  display: inline-block !important;\n",
       "  position: relative;\n",
       "}\n",
       "\n",
       "#sk-container-id-4 div.sk-text-repr-fallback {\n",
       "  display: none;\n",
       "}\n",
       "\n",
       "div.sk-parallel-item,\n",
       "div.sk-serial,\n",
       "div.sk-item {\n",
       "  /* draw centered vertical line to link estimators */\n",
       "  background-image: linear-gradient(var(--sklearn-color-text-on-default-background), var(--sklearn-color-text-on-default-background));\n",
       "  background-size: 2px 100%;\n",
       "  background-repeat: no-repeat;\n",
       "  background-position: center center;\n",
       "}\n",
       "\n",
       "/* Parallel-specific style estimator block */\n",
       "\n",
       "#sk-container-id-4 div.sk-parallel-item::after {\n",
       "  content: \"\";\n",
       "  width: 100%;\n",
       "  border-bottom: 2px solid var(--sklearn-color-text-on-default-background);\n",
       "  flex-grow: 1;\n",
       "}\n",
       "\n",
       "#sk-container-id-4 div.sk-parallel {\n",
       "  display: flex;\n",
       "  align-items: stretch;\n",
       "  justify-content: center;\n",
       "  background-color: var(--sklearn-color-background);\n",
       "  position: relative;\n",
       "}\n",
       "\n",
       "#sk-container-id-4 div.sk-parallel-item {\n",
       "  display: flex;\n",
       "  flex-direction: column;\n",
       "}\n",
       "\n",
       "#sk-container-id-4 div.sk-parallel-item:first-child::after {\n",
       "  align-self: flex-end;\n",
       "  width: 50%;\n",
       "}\n",
       "\n",
       "#sk-container-id-4 div.sk-parallel-item:last-child::after {\n",
       "  align-self: flex-start;\n",
       "  width: 50%;\n",
       "}\n",
       "\n",
       "#sk-container-id-4 div.sk-parallel-item:only-child::after {\n",
       "  width: 0;\n",
       "}\n",
       "\n",
       "/* Serial-specific style estimator block */\n",
       "\n",
       "#sk-container-id-4 div.sk-serial {\n",
       "  display: flex;\n",
       "  flex-direction: column;\n",
       "  align-items: center;\n",
       "  background-color: var(--sklearn-color-background);\n",
       "  padding-right: 1em;\n",
       "  padding-left: 1em;\n",
       "}\n",
       "\n",
       "\n",
       "/* Toggleable style: style used for estimator/Pipeline/ColumnTransformer box that is\n",
       "clickable and can be expanded/collapsed.\n",
       "- Pipeline and ColumnTransformer use this feature and define the default style\n",
       "- Estimators will overwrite some part of the style using the `sk-estimator` class\n",
       "*/\n",
       "\n",
       "/* Pipeline and ColumnTransformer style (default) */\n",
       "\n",
       "#sk-container-id-4 div.sk-toggleable {\n",
       "  /* Default theme specific background. It is overwritten whether we have a\n",
       "  specific estimator or a Pipeline/ColumnTransformer */\n",
       "  background-color: var(--sklearn-color-background);\n",
       "}\n",
       "\n",
       "/* Toggleable label */\n",
       "#sk-container-id-4 label.sk-toggleable__label {\n",
       "  cursor: pointer;\n",
       "  display: block;\n",
       "  width: 100%;\n",
       "  margin-bottom: 0;\n",
       "  padding: 0.5em;\n",
       "  box-sizing: border-box;\n",
       "  text-align: center;\n",
       "}\n",
       "\n",
       "#sk-container-id-4 label.sk-toggleable__label-arrow:before {\n",
       "  /* Arrow on the left of the label */\n",
       "  content: \"▸\";\n",
       "  float: left;\n",
       "  margin-right: 0.25em;\n",
       "  color: var(--sklearn-color-icon);\n",
       "}\n",
       "\n",
       "#sk-container-id-4 label.sk-toggleable__label-arrow:hover:before {\n",
       "  color: var(--sklearn-color-text);\n",
       "}\n",
       "\n",
       "/* Toggleable content - dropdown */\n",
       "\n",
       "#sk-container-id-4 div.sk-toggleable__content {\n",
       "  max-height: 0;\n",
       "  max-width: 0;\n",
       "  overflow: hidden;\n",
       "  text-align: left;\n",
       "  /* unfitted */\n",
       "  background-color: var(--sklearn-color-unfitted-level-0);\n",
       "}\n",
       "\n",
       "#sk-container-id-4 div.sk-toggleable__content.fitted {\n",
       "  /* fitted */\n",
       "  background-color: var(--sklearn-color-fitted-level-0);\n",
       "}\n",
       "\n",
       "#sk-container-id-4 div.sk-toggleable__content pre {\n",
       "  margin: 0.2em;\n",
       "  border-radius: 0.25em;\n",
       "  color: var(--sklearn-color-text);\n",
       "  /* unfitted */\n",
       "  background-color: var(--sklearn-color-unfitted-level-0);\n",
       "}\n",
       "\n",
       "#sk-container-id-4 div.sk-toggleable__content.fitted pre {\n",
       "  /* unfitted */\n",
       "  background-color: var(--sklearn-color-fitted-level-0);\n",
       "}\n",
       "\n",
       "#sk-container-id-4 input.sk-toggleable__control:checked~div.sk-toggleable__content {\n",
       "  /* Expand drop-down */\n",
       "  max-height: 200px;\n",
       "  max-width: 100%;\n",
       "  overflow: auto;\n",
       "}\n",
       "\n",
       "#sk-container-id-4 input.sk-toggleable__control:checked~label.sk-toggleable__label-arrow:before {\n",
       "  content: \"▾\";\n",
       "}\n",
       "\n",
       "/* Pipeline/ColumnTransformer-specific style */\n",
       "\n",
       "#sk-container-id-4 div.sk-label input.sk-toggleable__control:checked~label.sk-toggleable__label {\n",
       "  color: var(--sklearn-color-text);\n",
       "  background-color: var(--sklearn-color-unfitted-level-2);\n",
       "}\n",
       "\n",
       "#sk-container-id-4 div.sk-label.fitted input.sk-toggleable__control:checked~label.sk-toggleable__label {\n",
       "  background-color: var(--sklearn-color-fitted-level-2);\n",
       "}\n",
       "\n",
       "/* Estimator-specific style */\n",
       "\n",
       "/* Colorize estimator box */\n",
       "#sk-container-id-4 div.sk-estimator input.sk-toggleable__control:checked~label.sk-toggleable__label {\n",
       "  /* unfitted */\n",
       "  background-color: var(--sklearn-color-unfitted-level-2);\n",
       "}\n",
       "\n",
       "#sk-container-id-4 div.sk-estimator.fitted input.sk-toggleable__control:checked~label.sk-toggleable__label {\n",
       "  /* fitted */\n",
       "  background-color: var(--sklearn-color-fitted-level-2);\n",
       "}\n",
       "\n",
       "#sk-container-id-4 div.sk-label label.sk-toggleable__label,\n",
       "#sk-container-id-4 div.sk-label label {\n",
       "  /* The background is the default theme color */\n",
       "  color: var(--sklearn-color-text-on-default-background);\n",
       "}\n",
       "\n",
       "/* On hover, darken the color of the background */\n",
       "#sk-container-id-4 div.sk-label:hover label.sk-toggleable__label {\n",
       "  color: var(--sklearn-color-text);\n",
       "  background-color: var(--sklearn-color-unfitted-level-2);\n",
       "}\n",
       "\n",
       "/* Label box, darken color on hover, fitted */\n",
       "#sk-container-id-4 div.sk-label.fitted:hover label.sk-toggleable__label.fitted {\n",
       "  color: var(--sklearn-color-text);\n",
       "  background-color: var(--sklearn-color-fitted-level-2);\n",
       "}\n",
       "\n",
       "/* Estimator label */\n",
       "\n",
       "#sk-container-id-4 div.sk-label label {\n",
       "  font-family: monospace;\n",
       "  font-weight: bold;\n",
       "  display: inline-block;\n",
       "  line-height: 1.2em;\n",
       "}\n",
       "\n",
       "#sk-container-id-4 div.sk-label-container {\n",
       "  text-align: center;\n",
       "}\n",
       "\n",
       "/* Estimator-specific */\n",
       "#sk-container-id-4 div.sk-estimator {\n",
       "  font-family: monospace;\n",
       "  border: 1px dotted var(--sklearn-color-border-box);\n",
       "  border-radius: 0.25em;\n",
       "  box-sizing: border-box;\n",
       "  margin-bottom: 0.5em;\n",
       "  /* unfitted */\n",
       "  background-color: var(--sklearn-color-unfitted-level-0);\n",
       "}\n",
       "\n",
       "#sk-container-id-4 div.sk-estimator.fitted {\n",
       "  /* fitted */\n",
       "  background-color: var(--sklearn-color-fitted-level-0);\n",
       "}\n",
       "\n",
       "/* on hover */\n",
       "#sk-container-id-4 div.sk-estimator:hover {\n",
       "  /* unfitted */\n",
       "  background-color: var(--sklearn-color-unfitted-level-2);\n",
       "}\n",
       "\n",
       "#sk-container-id-4 div.sk-estimator.fitted:hover {\n",
       "  /* fitted */\n",
       "  background-color: var(--sklearn-color-fitted-level-2);\n",
       "}\n",
       "\n",
       "/* Specification for estimator info (e.g. \"i\" and \"?\") */\n",
       "\n",
       "/* Common style for \"i\" and \"?\" */\n",
       "\n",
       ".sk-estimator-doc-link,\n",
       "a:link.sk-estimator-doc-link,\n",
       "a:visited.sk-estimator-doc-link {\n",
       "  float: right;\n",
       "  font-size: smaller;\n",
       "  line-height: 1em;\n",
       "  font-family: monospace;\n",
       "  background-color: var(--sklearn-color-background);\n",
       "  border-radius: 1em;\n",
       "  height: 1em;\n",
       "  width: 1em;\n",
       "  text-decoration: none !important;\n",
       "  margin-left: 1ex;\n",
       "  /* unfitted */\n",
       "  border: var(--sklearn-color-unfitted-level-1) 1pt solid;\n",
       "  color: var(--sklearn-color-unfitted-level-1);\n",
       "}\n",
       "\n",
       ".sk-estimator-doc-link.fitted,\n",
       "a:link.sk-estimator-doc-link.fitted,\n",
       "a:visited.sk-estimator-doc-link.fitted {\n",
       "  /* fitted */\n",
       "  border: var(--sklearn-color-fitted-level-1) 1pt solid;\n",
       "  color: var(--sklearn-color-fitted-level-1);\n",
       "}\n",
       "\n",
       "/* On hover */\n",
       "div.sk-estimator:hover .sk-estimator-doc-link:hover,\n",
       ".sk-estimator-doc-link:hover,\n",
       "div.sk-label-container:hover .sk-estimator-doc-link:hover,\n",
       ".sk-estimator-doc-link:hover {\n",
       "  /* unfitted */\n",
       "  background-color: var(--sklearn-color-unfitted-level-3);\n",
       "  color: var(--sklearn-color-background);\n",
       "  text-decoration: none;\n",
       "}\n",
       "\n",
       "div.sk-estimator.fitted:hover .sk-estimator-doc-link.fitted:hover,\n",
       ".sk-estimator-doc-link.fitted:hover,\n",
       "div.sk-label-container:hover .sk-estimator-doc-link.fitted:hover,\n",
       ".sk-estimator-doc-link.fitted:hover {\n",
       "  /* fitted */\n",
       "  background-color: var(--sklearn-color-fitted-level-3);\n",
       "  color: var(--sklearn-color-background);\n",
       "  text-decoration: none;\n",
       "}\n",
       "\n",
       "/* Span, style for the box shown on hovering the info icon */\n",
       ".sk-estimator-doc-link span {\n",
       "  display: none;\n",
       "  z-index: 9999;\n",
       "  position: relative;\n",
       "  font-weight: normal;\n",
       "  right: .2ex;\n",
       "  padding: .5ex;\n",
       "  margin: .5ex;\n",
       "  width: min-content;\n",
       "  min-width: 20ex;\n",
       "  max-width: 50ex;\n",
       "  color: var(--sklearn-color-text);\n",
       "  box-shadow: 2pt 2pt 4pt #999;\n",
       "  /* unfitted */\n",
       "  background: var(--sklearn-color-unfitted-level-0);\n",
       "  border: .5pt solid var(--sklearn-color-unfitted-level-3);\n",
       "}\n",
       "\n",
       ".sk-estimator-doc-link.fitted span {\n",
       "  /* fitted */\n",
       "  background: var(--sklearn-color-fitted-level-0);\n",
       "  border: var(--sklearn-color-fitted-level-3);\n",
       "}\n",
       "\n",
       ".sk-estimator-doc-link:hover span {\n",
       "  display: block;\n",
       "}\n",
       "\n",
       "/* \"?\"-specific style due to the `<a>` HTML tag */\n",
       "\n",
       "#sk-container-id-4 a.estimator_doc_link {\n",
       "  float: right;\n",
       "  font-size: 1rem;\n",
       "  line-height: 1em;\n",
       "  font-family: monospace;\n",
       "  background-color: var(--sklearn-color-background);\n",
       "  border-radius: 1rem;\n",
       "  height: 1rem;\n",
       "  width: 1rem;\n",
       "  text-decoration: none;\n",
       "  /* unfitted */\n",
       "  color: var(--sklearn-color-unfitted-level-1);\n",
       "  border: var(--sklearn-color-unfitted-level-1) 1pt solid;\n",
       "}\n",
       "\n",
       "#sk-container-id-4 a.estimator_doc_link.fitted {\n",
       "  /* fitted */\n",
       "  border: var(--sklearn-color-fitted-level-1) 1pt solid;\n",
       "  color: var(--sklearn-color-fitted-level-1);\n",
       "}\n",
       "\n",
       "/* On hover */\n",
       "#sk-container-id-4 a.estimator_doc_link:hover {\n",
       "  /* unfitted */\n",
       "  background-color: var(--sklearn-color-unfitted-level-3);\n",
       "  color: var(--sklearn-color-background);\n",
       "  text-decoration: none;\n",
       "}\n",
       "\n",
       "#sk-container-id-4 a.estimator_doc_link.fitted:hover {\n",
       "  /* fitted */\n",
       "  background-color: var(--sklearn-color-fitted-level-3);\n",
       "}\n",
       "</style><div id=\"sk-container-id-4\" class=\"sk-top-container\"><div class=\"sk-text-repr-fallback\"><pre>Pipeline(steps=[(&#x27;feature_engineering&#x27;, FeatureEngineeringTransformer()),\n",
       "                (&#x27;preprocessor&#x27;,\n",
       "                 ColumnTransformer(remainder=&#x27;passthrough&#x27;,\n",
       "                                   transformers=[(&#x27;one_hot&#x27;,\n",
       "                                                  OneHotEncoder(drop=&#x27;first&#x27;,\n",
       "                                                                handle_unknown=&#x27;ignore&#x27;),\n",
       "                                                  [&#x27;TypeName&#x27;, &#x27;TypeDisk1&#x27;,\n",
       "                                                   &#x27;TypeDisk2&#x27;, &#x27;OpSys&#x27;]),\n",
       "                                                 (&#x27;target&#x27;, TargetEncoder(),\n",
       "                                                  [&#x27;Product&#x27;, &#x27;resolution&#x27;]),\n",
       "                                                 (&#x27;label&#x27;,\n",
       "                                                  OrdinalEncoder(handle_unknown=&#x27;use_e...\n",
       "                              feature_types=None, gamma=None, grow_policy=None,\n",
       "                              importance_type=None,\n",
       "                              interaction_constraints=None,\n",
       "                              lambda=2.231169364814, learning_rate=0.3,\n",
       "                              max_bin=None, max_cat_threshold=None,\n",
       "                              max_cat_to_onehot=None, max_delta_step=None,\n",
       "                              max_depth=3, max_leaves=None, min_child_weight=55,\n",
       "                              missing=nan, monotone_constraints=None,\n",
       "                              multi_strategy=None, n_estimators=3000,\n",
       "                              n_jobs=None, ...))])</pre><b>In a Jupyter environment, please rerun this cell to show the HTML representation or trust the notebook. <br />On GitHub, the HTML representation is unable to render, please try loading this page with nbviewer.org.</b></div><div class=\"sk-container\" hidden><div class=\"sk-item sk-dashed-wrapped\"><div class=\"sk-label-container\"><div class=\"sk-label fitted sk-toggleable\"><input class=\"sk-toggleable__control sk-hidden--visually\" id=\"sk-estimator-id-30\" type=\"checkbox\" ><label for=\"sk-estimator-id-30\" class=\"sk-toggleable__label fitted sk-toggleable__label-arrow fitted\">&nbsp;&nbsp;Pipeline<a class=\"sk-estimator-doc-link fitted\" rel=\"noreferrer\" target=\"_blank\" href=\"https://scikit-learn.org/1.5/modules/generated/sklearn.pipeline.Pipeline.html\">?<span>Documentation for Pipeline</span></a><span class=\"sk-estimator-doc-link fitted\">i<span>Fitted</span></span></label><div class=\"sk-toggleable__content fitted\"><pre>Pipeline(steps=[(&#x27;feature_engineering&#x27;, FeatureEngineeringTransformer()),\n",
       "                (&#x27;preprocessor&#x27;,\n",
       "                 ColumnTransformer(remainder=&#x27;passthrough&#x27;,\n",
       "                                   transformers=[(&#x27;one_hot&#x27;,\n",
       "                                                  OneHotEncoder(drop=&#x27;first&#x27;,\n",
       "                                                                handle_unknown=&#x27;ignore&#x27;),\n",
       "                                                  [&#x27;TypeName&#x27;, &#x27;TypeDisk1&#x27;,\n",
       "                                                   &#x27;TypeDisk2&#x27;, &#x27;OpSys&#x27;]),\n",
       "                                                 (&#x27;target&#x27;, TargetEncoder(),\n",
       "                                                  [&#x27;Product&#x27;, &#x27;resolution&#x27;]),\n",
       "                                                 (&#x27;label&#x27;,\n",
       "                                                  OrdinalEncoder(handle_unknown=&#x27;use_e...\n",
       "                              feature_types=None, gamma=None, grow_policy=None,\n",
       "                              importance_type=None,\n",
       "                              interaction_constraints=None,\n",
       "                              lambda=2.231169364814, learning_rate=0.3,\n",
       "                              max_bin=None, max_cat_threshold=None,\n",
       "                              max_cat_to_onehot=None, max_delta_step=None,\n",
       "                              max_depth=3, max_leaves=None, min_child_weight=55,\n",
       "                              missing=nan, monotone_constraints=None,\n",
       "                              multi_strategy=None, n_estimators=3000,\n",
       "                              n_jobs=None, ...))])</pre></div> </div></div><div class=\"sk-serial\"><div class=\"sk-item\"><div class=\"sk-estimator fitted sk-toggleable\"><input class=\"sk-toggleable__control sk-hidden--visually\" id=\"sk-estimator-id-31\" type=\"checkbox\" ><label for=\"sk-estimator-id-31\" class=\"sk-toggleable__label fitted sk-toggleable__label-arrow fitted\">FeatureEngineeringTransformer</label><div class=\"sk-toggleable__content fitted\"><pre>FeatureEngineeringTransformer()</pre></div> </div></div><div class=\"sk-item sk-dashed-wrapped\"><div class=\"sk-label-container\"><div class=\"sk-label fitted sk-toggleable\"><input class=\"sk-toggleable__control sk-hidden--visually\" id=\"sk-estimator-id-32\" type=\"checkbox\" ><label for=\"sk-estimator-id-32\" class=\"sk-toggleable__label fitted sk-toggleable__label-arrow fitted\">&nbsp;preprocessor: ColumnTransformer<a class=\"sk-estimator-doc-link fitted\" rel=\"noreferrer\" target=\"_blank\" href=\"https://scikit-learn.org/1.5/modules/generated/sklearn.compose.ColumnTransformer.html\">?<span>Documentation for preprocessor: ColumnTransformer</span></a></label><div class=\"sk-toggleable__content fitted\"><pre>ColumnTransformer(remainder=&#x27;passthrough&#x27;,\n",
       "                  transformers=[(&#x27;one_hot&#x27;,\n",
       "                                 OneHotEncoder(drop=&#x27;first&#x27;,\n",
       "                                               handle_unknown=&#x27;ignore&#x27;),\n",
       "                                 [&#x27;TypeName&#x27;, &#x27;TypeDisk1&#x27;, &#x27;TypeDisk2&#x27;,\n",
       "                                  &#x27;OpSys&#x27;]),\n",
       "                                (&#x27;target&#x27;, TargetEncoder(),\n",
       "                                 [&#x27;Product&#x27;, &#x27;resolution&#x27;]),\n",
       "                                (&#x27;label&#x27;,\n",
       "                                 OrdinalEncoder(handle_unknown=&#x27;use_encoded_value&#x27;,\n",
       "                                                unknown_value=-1),\n",
       "                                 [&#x27;ScreenType&#x27;, &#x27;Cpu&#x27;, &#x27;Gpu&#x27;, &#x27;Company&#x27;]),\n",
       "                                (&#x27;scaling&#x27;, StandardScaler(),\n",
       "                                 [&#x27;Ram&#x27;, &#x27;storageDisk1&#x27;, &#x27;storageDisk2&#x27;])])</pre></div> </div></div><div class=\"sk-parallel\"><div class=\"sk-parallel-item\"><div class=\"sk-item\"><div class=\"sk-label-container\"><div class=\"sk-label fitted sk-toggleable\"><input class=\"sk-toggleable__control sk-hidden--visually\" id=\"sk-estimator-id-33\" type=\"checkbox\" ><label for=\"sk-estimator-id-33\" class=\"sk-toggleable__label fitted sk-toggleable__label-arrow fitted\">one_hot</label><div class=\"sk-toggleable__content fitted\"><pre>[&#x27;TypeName&#x27;, &#x27;TypeDisk1&#x27;, &#x27;TypeDisk2&#x27;, &#x27;OpSys&#x27;]</pre></div> </div></div><div class=\"sk-serial\"><div class=\"sk-item\"><div class=\"sk-estimator fitted sk-toggleable\"><input class=\"sk-toggleable__control sk-hidden--visually\" id=\"sk-estimator-id-34\" type=\"checkbox\" ><label for=\"sk-estimator-id-34\" class=\"sk-toggleable__label fitted sk-toggleable__label-arrow fitted\">&nbsp;OneHotEncoder<a class=\"sk-estimator-doc-link fitted\" rel=\"noreferrer\" target=\"_blank\" href=\"https://scikit-learn.org/1.5/modules/generated/sklearn.preprocessing.OneHotEncoder.html\">?<span>Documentation for OneHotEncoder</span></a></label><div class=\"sk-toggleable__content fitted\"><pre>OneHotEncoder(drop=&#x27;first&#x27;, handle_unknown=&#x27;ignore&#x27;)</pre></div> </div></div></div></div></div><div class=\"sk-parallel-item\"><div class=\"sk-item\"><div class=\"sk-label-container\"><div class=\"sk-label fitted sk-toggleable\"><input class=\"sk-toggleable__control sk-hidden--visually\" id=\"sk-estimator-id-35\" type=\"checkbox\" ><label for=\"sk-estimator-id-35\" class=\"sk-toggleable__label fitted sk-toggleable__label-arrow fitted\">target</label><div class=\"sk-toggleable__content fitted\"><pre>[&#x27;Product&#x27;, &#x27;resolution&#x27;]</pre></div> </div></div><div class=\"sk-serial\"><div class=\"sk-item\"><div class=\"sk-estimator fitted sk-toggleable\"><input class=\"sk-toggleable__control sk-hidden--visually\" id=\"sk-estimator-id-36\" type=\"checkbox\" ><label for=\"sk-estimator-id-36\" class=\"sk-toggleable__label fitted sk-toggleable__label-arrow fitted\">TargetEncoder</label><div class=\"sk-toggleable__content fitted\"><pre>TargetEncoder()</pre></div> </div></div></div></div></div><div class=\"sk-parallel-item\"><div class=\"sk-item\"><div class=\"sk-label-container\"><div class=\"sk-label fitted sk-toggleable\"><input class=\"sk-toggleable__control sk-hidden--visually\" id=\"sk-estimator-id-37\" type=\"checkbox\" ><label for=\"sk-estimator-id-37\" class=\"sk-toggleable__label fitted sk-toggleable__label-arrow fitted\">label</label><div class=\"sk-toggleable__content fitted\"><pre>[&#x27;ScreenType&#x27;, &#x27;Cpu&#x27;, &#x27;Gpu&#x27;, &#x27;Company&#x27;]</pre></div> </div></div><div class=\"sk-serial\"><div class=\"sk-item\"><div class=\"sk-estimator fitted sk-toggleable\"><input class=\"sk-toggleable__control sk-hidden--visually\" id=\"sk-estimator-id-38\" type=\"checkbox\" ><label for=\"sk-estimator-id-38\" class=\"sk-toggleable__label fitted sk-toggleable__label-arrow fitted\">&nbsp;OrdinalEncoder<a class=\"sk-estimator-doc-link fitted\" rel=\"noreferrer\" target=\"_blank\" href=\"https://scikit-learn.org/1.5/modules/generated/sklearn.preprocessing.OrdinalEncoder.html\">?<span>Documentation for OrdinalEncoder</span></a></label><div class=\"sk-toggleable__content fitted\"><pre>OrdinalEncoder(handle_unknown=&#x27;use_encoded_value&#x27;, unknown_value=-1)</pre></div> </div></div></div></div></div><div class=\"sk-parallel-item\"><div class=\"sk-item\"><div class=\"sk-label-container\"><div class=\"sk-label fitted sk-toggleable\"><input class=\"sk-toggleable__control sk-hidden--visually\" id=\"sk-estimator-id-39\" type=\"checkbox\" ><label for=\"sk-estimator-id-39\" class=\"sk-toggleable__label fitted sk-toggleable__label-arrow fitted\">scaling</label><div class=\"sk-toggleable__content fitted\"><pre>[&#x27;Ram&#x27;, &#x27;storageDisk1&#x27;, &#x27;storageDisk2&#x27;]</pre></div> </div></div><div class=\"sk-serial\"><div class=\"sk-item\"><div class=\"sk-estimator fitted sk-toggleable\"><input class=\"sk-toggleable__control sk-hidden--visually\" id=\"sk-estimator-id-40\" type=\"checkbox\" ><label for=\"sk-estimator-id-40\" class=\"sk-toggleable__label fitted sk-toggleable__label-arrow fitted\">&nbsp;StandardScaler<a class=\"sk-estimator-doc-link fitted\" rel=\"noreferrer\" target=\"_blank\" href=\"https://scikit-learn.org/1.5/modules/generated/sklearn.preprocessing.StandardScaler.html\">?<span>Documentation for StandardScaler</span></a></label><div class=\"sk-toggleable__content fitted\"><pre>StandardScaler()</pre></div> </div></div></div></div></div><div class=\"sk-parallel-item\"><div class=\"sk-item\"><div class=\"sk-label-container\"><div class=\"sk-label fitted sk-toggleable\"><input class=\"sk-toggleable__control sk-hidden--visually\" id=\"sk-estimator-id-41\" type=\"checkbox\" ><label for=\"sk-estimator-id-41\" class=\"sk-toggleable__label fitted sk-toggleable__label-arrow fitted\">remainder</label><div class=\"sk-toggleable__content fitted\"><pre>[&#x27;Inches&#x27;, &#x27;Weight&#x27;, &#x27;TouchScreen&#x27;, &#x27;CpuFrequency&#x27;]</pre></div> </div></div><div class=\"sk-serial\"><div class=\"sk-item\"><div class=\"sk-estimator fitted sk-toggleable\"><input class=\"sk-toggleable__control sk-hidden--visually\" id=\"sk-estimator-id-42\" type=\"checkbox\" ><label for=\"sk-estimator-id-42\" class=\"sk-toggleable__label fitted sk-toggleable__label-arrow fitted\">passthrough</label><div class=\"sk-toggleable__content fitted\"><pre>passthrough</pre></div> </div></div></div></div></div></div></div><div class=\"sk-item\"><div class=\"sk-estimator fitted sk-toggleable\"><input class=\"sk-toggleable__control sk-hidden--visually\" id=\"sk-estimator-id-43\" type=\"checkbox\" ><label for=\"sk-estimator-id-43\" class=\"sk-toggleable__label fitted sk-toggleable__label-arrow fitted\">XGBRegressor</label><div class=\"sk-toggleable__content fitted\"><pre>XGBRegressor(alpha=4.844266113067927, base_score=None, booster=None,\n",
       "             callbacks=None, colsample_bylevel=None, colsample_bynode=None,\n",
       "             colsample_bytree=0.4, device=None, early_stopping_rounds=None,\n",
       "             enable_categorical=False, eval_metric=None, feature_types=None,\n",
       "             gamma=None, grow_policy=None, importance_type=None,\n",
       "             interaction_constraints=None, lambda=2.231169364814,\n",
       "             learning_rate=0.3, max_bin=None, max_cat_threshold=None,\n",
       "             max_cat_to_onehot=None, max_delta_step=None, max_depth=3,\n",
       "             max_leaves=None, min_child_weight=55, missing=nan,\n",
       "             monotone_constraints=None, multi_strategy=None, n_estimators=3000,\n",
       "             n_jobs=None, ...)</pre></div> </div></div></div></div></div></div>"
      ],
      "text/plain": [
       "Pipeline(steps=[('feature_engineering', FeatureEngineeringTransformer()),\n",
       "                ('preprocessor',\n",
       "                 ColumnTransformer(remainder='passthrough',\n",
       "                                   transformers=[('one_hot',\n",
       "                                                  OneHotEncoder(drop='first',\n",
       "                                                                handle_unknown='ignore'),\n",
       "                                                  ['TypeName', 'TypeDisk1',\n",
       "                                                   'TypeDisk2', 'OpSys']),\n",
       "                                                 ('target', TargetEncoder(),\n",
       "                                                  ['Product', 'resolution']),\n",
       "                                                 ('label',\n",
       "                                                  OrdinalEncoder(handle_unknown='use_e...\n",
       "                              feature_types=None, gamma=None, grow_policy=None,\n",
       "                              importance_type=None,\n",
       "                              interaction_constraints=None,\n",
       "                              lambda=2.231169364814, learning_rate=0.3,\n",
       "                              max_bin=None, max_cat_threshold=None,\n",
       "                              max_cat_to_onehot=None, max_delta_step=None,\n",
       "                              max_depth=3, max_leaves=None, min_child_weight=55,\n",
       "                              missing=nan, monotone_constraints=None,\n",
       "                              multi_strategy=None, n_estimators=3000,\n",
       "                              n_jobs=None, ...))])"
      ]
     },
     "execution_count": 91,
     "metadata": {},
     "output_type": "execute_result"
    }
   ],
   "source": [
    "# add the modeling to the pipeline and save it \n",
    "\n",
    "final_pipeline = Pipeline(\n",
    "    steps=[\n",
    "        ('feature_engineering', FeatureEngineeringTransformer()),\n",
    "        ('preprocessor', preprocessor),\n",
    "        ('modeling',XGBRegressor(**trial.params))\n",
    "    ]\n",
    "    \n",
    ")\n",
    "\n",
    "# to test all of this we will load the dataset again \n",
    "\n",
    "df_new = pd.read_csv(path, encoding = \"ISO-8859-1\")\n",
    "df_new = df_new.drop(columns='laptop_ID')\n",
    "X = df_new.drop(columns = 'Price_euros')\n",
    "y = df_new['Price_euros']\n",
    "X_train, X_test, y_train, y_test = train_test_split(X, y, test_size=0.2, random_state=42)\n",
    "\n",
    "final_pipeline.fit(X_train, y_train)\n",
    "\n",
    "final_pipeline"
   ]
  },
  {
   "cell_type": "code",
   "execution_count": 107,
   "metadata": {},
   "outputs": [
    {
     "name": "stdout",
     "output_type": "stream",
     "text": [
      "964.0 $\n"
     ]
    }
   ],
   "source": [
    "# test the pipeline \n",
    "\n",
    "data = {\n",
    "    \"Company\": \"Apple\",\n",
    "    \"Product\": \"MacBook Air\",\n",
    "    \"TypeName\": \"Ultrabook\",\n",
    "    \"Inches\": 10.08,\n",
    "    \"ScreenResolution\": \"IPS Panel Retina Display 2560x1600\",\n",
    "    \"Cpu\": \"Intel Core i5 2.3GHz\",\n",
    "    \"Ram\": \"8GB\",\n",
    "    \"Memory\": \"128GB SSD\",\n",
    "    \"Gpu\": \"Intel Iris Plus Graphics 640\",\n",
    "    \"OpSys\": \"macOS\",\n",
    "    \"Weight\": \"1.55kg\"\n",
    "}\n",
    "\n",
    "test_df = pd.DataFrame([data])\n",
    "\n",
    "predicted_price = final_pipeline.predict(test_df)\n",
    "print(f\"{np.round(predicted_price[0])} $\")"
   ]
  },
  {
   "cell_type": "code",
   "execution_count": 109,
   "metadata": {},
   "outputs": [
    {
     "name": "stdout",
     "output_type": "stream",
     "text": [
      "pipeline saved to pipeline.joblib\n"
     ]
    }
   ],
   "source": [
    "import joblib \n",
    "joblib_file = \"pipeline.joblib\"\n",
    "joblib.dump(final_pipeline, joblib_file)\n",
    "\n",
    "print(f\"pipeline saved to {joblib_file}\")"
   ]
  }
 ],
 "metadata": {
  "kernelspec": {
   "display_name": "base",
   "language": "python",
   "name": "python3"
  },
  "language_info": {
   "codemirror_mode": {
    "name": "ipython",
    "version": 3
   },
   "file_extension": ".py",
   "mimetype": "text/x-python",
   "name": "python",
   "nbconvert_exporter": "python",
   "pygments_lexer": "ipython3",
   "version": "3.12.6"
  }
 },
 "nbformat": 4,
 "nbformat_minor": 2
}
